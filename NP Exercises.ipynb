{
 "cells": [
  {
   "cell_type": "code",
   "execution_count": 1,
   "id": "00dd9ffb",
   "metadata": {},
   "outputs": [],
   "source": [
    "import numpy as np"
   ]
  },
  {
   "cell_type": "code",
   "execution_count": 2,
   "id": "95b6bad4",
   "metadata": {},
   "outputs": [
    {
     "name": "stdout",
     "output_type": "stream",
     "text": [
      "1.21.5\n"
     ]
    }
   ],
   "source": [
    "print(np.__version__)"
   ]
  },
  {
   "cell_type": "code",
   "execution_count": 3,
   "id": "02e6aed8",
   "metadata": {},
   "outputs": [
    {
     "data": {
      "text/plain": [
       "array([1, 2, 3])"
      ]
     },
     "execution_count": 3,
     "metadata": {},
     "output_type": "execute_result"
    }
   ],
   "source": [
    "np.array([1,2,3])"
   ]
  },
  {
   "cell_type": "code",
   "execution_count": 4,
   "id": "63281220",
   "metadata": {},
   "outputs": [
    {
     "data": {
      "text/plain": [
       "array([[1, 2, 3],\n",
       "       [4, 5, 6]])"
      ]
     },
     "execution_count": 4,
     "metadata": {},
     "output_type": "execute_result"
    }
   ],
   "source": [
    "np.array([(1,2,3),(4,5,6)])"
   ]
  },
  {
   "cell_type": "code",
   "execution_count": 5,
   "id": "10ebc04e",
   "metadata": {},
   "outputs": [
    {
     "data": {
      "text/plain": [
       "array([[0., 0., 0.],\n",
       "       [0., 0., 0.],\n",
       "       [0., 0., 0.]])"
      ]
     },
     "execution_count": 5,
     "metadata": {},
     "output_type": "execute_result"
    }
   ],
   "source": [
    "np.zeros((3,3))"
   ]
  },
  {
   "cell_type": "code",
   "execution_count": 6,
   "id": "ce603208",
   "metadata": {},
   "outputs": [
    {
     "data": {
      "text/plain": [
       "array([[[1., 1., 1., 1.],\n",
       "        [1., 1., 1., 1.],\n",
       "        [1., 1., 1., 1.]],\n",
       "\n",
       "       [[1., 1., 1., 1.],\n",
       "        [1., 1., 1., 1.],\n",
       "        [1., 1., 1., 1.]]])"
      ]
     },
     "execution_count": 6,
     "metadata": {},
     "output_type": "execute_result"
    }
   ],
   "source": [
    "np.ones((2,3,4))"
   ]
  },
  {
   "cell_type": "code",
   "execution_count": 7,
   "id": "e869f4f3",
   "metadata": {},
   "outputs": [
    {
     "data": {
      "text/plain": [
       "array([0, 1, 2, 3, 4])"
      ]
     },
     "execution_count": 7,
     "metadata": {},
     "output_type": "execute_result"
    }
   ],
   "source": [
    "np.arange(5)"
   ]
  },
  {
   "cell_type": "code",
   "execution_count": 8,
   "id": "bdacf1cd",
   "metadata": {},
   "outputs": [
    {
     "data": {
      "text/plain": [
       "array([[0, 1, 2],\n",
       "       [3, 4, 5]])"
      ]
     },
     "execution_count": 8,
     "metadata": {},
     "output_type": "execute_result"
    }
   ],
   "source": [
    "np.arange(6).reshape(2,3)"
   ]
  },
  {
   "cell_type": "code",
   "execution_count": 9,
   "id": "2c920521",
   "metadata": {},
   "outputs": [
    {
     "data": {
      "text/plain": [
       "array([[1., 0., 0.],\n",
       "       [0., 1., 0.],\n",
       "       [0., 0., 1.]])"
      ]
     },
     "execution_count": 9,
     "metadata": {},
     "output_type": "execute_result"
    }
   ],
   "source": [
    "np.eye(3)"
   ]
  },
  {
   "cell_type": "code",
   "execution_count": 10,
   "id": "750a958d",
   "metadata": {},
   "outputs": [
    {
     "data": {
      "text/plain": [
       "array([ 1. ,  2.8,  4.6,  6.4,  8.2, 10. ])"
      ]
     },
     "execution_count": 10,
     "metadata": {},
     "output_type": "execute_result"
    }
   ],
   "source": [
    "np.linspace(1,10,num=6)"
   ]
  },
  {
   "cell_type": "code",
   "execution_count": 11,
   "id": "8e47efd8",
   "metadata": {},
   "outputs": [
    {
     "data": {
      "text/plain": [
       "array([[0.48745202, 0.56428549, 0.12000099],\n",
       "       [0.56225119, 0.96106126, 0.49177713]])"
      ]
     },
     "execution_count": 11,
     "metadata": {},
     "output_type": "execute_result"
    }
   ],
   "source": [
    "np.random.rand(2,3)"
   ]
  },
  {
   "cell_type": "code",
   "execution_count": 12,
   "id": "12f76270",
   "metadata": {},
   "outputs": [
    {
     "data": {
      "text/plain": [
       "array([[0, 3, 4],\n",
       "       [0, 2, 2]])"
      ]
     },
     "execution_count": 12,
     "metadata": {},
     "output_type": "execute_result"
    }
   ],
   "source": [
    "np.random.randint(5,size=(2,3))"
   ]
  },
  {
   "cell_type": "code",
   "execution_count": 13,
   "id": "6f36cb26",
   "metadata": {},
   "outputs": [
    {
     "data": {
      "text/plain": [
       "array([[0., 1., 2.],\n",
       "       [1., 2., 3.],\n",
       "       [2., 3., 4.]])"
      ]
     },
     "execution_count": 13,
     "metadata": {},
     "output_type": "execute_result"
    }
   ],
   "source": [
    "np.fromfunction(lambda i,j:i+j,(3,3))"
   ]
  },
  {
   "cell_type": "code",
   "execution_count": 14,
   "id": "ffdde7d4",
   "metadata": {},
   "outputs": [
    {
     "data": {
      "text/plain": [
       "(array([10, 20, 30, 40, 50]), array([1, 2, 3, 4, 5]))"
      ]
     },
     "execution_count": 14,
     "metadata": {},
     "output_type": "execute_result"
    }
   ],
   "source": [
    "a=np.array([10,20,30,40,50])\n",
    "b=np.arange(1,6)\n",
    "a,b"
   ]
  },
  {
   "cell_type": "code",
   "execution_count": 15,
   "id": "d4c24dc2",
   "metadata": {},
   "outputs": [
    {
     "data": {
      "text/plain": [
       "array([11, 22, 33, 44, 55])"
      ]
     },
     "execution_count": 15,
     "metadata": {},
     "output_type": "execute_result"
    }
   ],
   "source": [
    "a+b"
   ]
  },
  {
   "cell_type": "code",
   "execution_count": 16,
   "id": "89bfde34",
   "metadata": {},
   "outputs": [
    {
     "data": {
      "text/plain": [
       "array([ 9, 18, 27, 36, 45])"
      ]
     },
     "execution_count": 16,
     "metadata": {},
     "output_type": "execute_result"
    }
   ],
   "source": [
    "a-b"
   ]
  },
  {
   "cell_type": "code",
   "execution_count": 17,
   "id": "d5220d10",
   "metadata": {},
   "outputs": [
    {
     "data": {
      "text/plain": [
       "array([ 10,  40,  90, 160, 250])"
      ]
     },
     "execution_count": 17,
     "metadata": {},
     "output_type": "execute_result"
    }
   ],
   "source": [
    "a*b"
   ]
  },
  {
   "cell_type": "code",
   "execution_count": 18,
   "id": "37ae1adb",
   "metadata": {},
   "outputs": [
    {
     "data": {
      "text/plain": [
       "array([10., 10., 10., 10., 10.])"
      ]
     },
     "execution_count": 18,
     "metadata": {},
     "output_type": "execute_result"
    }
   ],
   "source": [
    "a/b"
   ]
  },
  {
   "cell_type": "code",
   "execution_count": 19,
   "id": "7211dece",
   "metadata": {},
   "outputs": [
    {
     "data": {
      "text/plain": [
       "(array([[1, 2],\n",
       "        [3, 4]]),\n",
       " array([[5, 6],\n",
       "        [7, 8]]))"
      ]
     },
     "execution_count": 19,
     "metadata": {},
     "output_type": "execute_result"
    }
   ],
   "source": [
    "A=np.array([[1,2],[3,4]])\n",
    "B=np.array([[5,6],[7,8]])\n",
    "A,B"
   ]
  },
  {
   "cell_type": "code",
   "execution_count": 20,
   "id": "4e54dac3",
   "metadata": {},
   "outputs": [
    {
     "data": {
      "text/plain": [
       "array([[ 6,  8],\n",
       "       [10, 12]])"
      ]
     },
     "execution_count": 20,
     "metadata": {},
     "output_type": "execute_result"
    }
   ],
   "source": [
    "A+B"
   ]
  },
  {
   "cell_type": "code",
   "execution_count": 21,
   "id": "a646088b",
   "metadata": {},
   "outputs": [
    {
     "data": {
      "text/plain": [
       "array([[-4, -4],\n",
       "       [-4, -4]])"
      ]
     },
     "execution_count": 21,
     "metadata": {},
     "output_type": "execute_result"
    }
   ],
   "source": [
    "A-B"
   ]
  },
  {
   "cell_type": "code",
   "execution_count": 22,
   "id": "b23e5db3",
   "metadata": {},
   "outputs": [
    {
     "data": {
      "text/plain": [
       "array([[ 5, 12],\n",
       "       [21, 32]])"
      ]
     },
     "execution_count": 22,
     "metadata": {},
     "output_type": "execute_result"
    }
   ],
   "source": [
    "A*B"
   ]
  },
  {
   "cell_type": "code",
   "execution_count": 23,
   "id": "520a32dd",
   "metadata": {},
   "outputs": [
    {
     "data": {
      "text/plain": [
       "array([[19, 22],\n",
       "       [43, 50]])"
      ]
     },
     "execution_count": 23,
     "metadata": {},
     "output_type": "execute_result"
    }
   ],
   "source": [
    "np.dot(A,B)"
   ]
  },
  {
   "cell_type": "code",
   "execution_count": 24,
   "id": "7440ea2f",
   "metadata": {},
   "outputs": [
    {
     "data": {
      "text/plain": [
       "matrix([[19, 22],\n",
       "        [43, 50]])"
      ]
     },
     "execution_count": 24,
     "metadata": {},
     "output_type": "execute_result"
    }
   ],
   "source": [
    "np.mat(A)*np.mat(B)"
   ]
  },
  {
   "cell_type": "code",
   "execution_count": 25,
   "id": "00a6e569",
   "metadata": {},
   "outputs": [
    {
     "data": {
      "text/plain": [
       "array([[2, 4],\n",
       "       [6, 8]])"
      ]
     },
     "execution_count": 25,
     "metadata": {},
     "output_type": "execute_result"
    }
   ],
   "source": [
    "2*A"
   ]
  },
  {
   "cell_type": "code",
   "execution_count": 26,
   "id": "d67a1125",
   "metadata": {},
   "outputs": [
    {
     "data": {
      "text/plain": [
       "array([[1, 3],\n",
       "       [2, 4]])"
      ]
     },
     "execution_count": 26,
     "metadata": {},
     "output_type": "execute_result"
    }
   ],
   "source": [
    "A.T"
   ]
  },
  {
   "cell_type": "code",
   "execution_count": 27,
   "id": "a17ca0c3",
   "metadata": {},
   "outputs": [
    {
     "data": {
      "text/plain": [
       "array([[-2. ,  1. ],\n",
       "       [ 1.5, -0.5]])"
      ]
     },
     "execution_count": 27,
     "metadata": {},
     "output_type": "execute_result"
    }
   ],
   "source": [
    "np.linalg.inv(A)"
   ]
  },
  {
   "cell_type": "code",
   "execution_count": 28,
   "id": "389ec209",
   "metadata": {},
   "outputs": [
    {
     "name": "stdout",
     "output_type": "stream",
     "text": [
      "[10 20 30 40 50]\n"
     ]
    },
    {
     "data": {
      "text/plain": [
       "array([-0.54402111,  0.91294525, -0.98803162,  0.74511316, -0.26237485])"
      ]
     },
     "execution_count": 28,
     "metadata": {},
     "output_type": "execute_result"
    }
   ],
   "source": [
    "print(a)\n",
    "np.sin(a)"
   ]
  },
  {
   "cell_type": "code",
   "execution_count": 29,
   "id": "1113c8c7",
   "metadata": {},
   "outputs": [
    {
     "data": {
      "text/plain": [
       "array([2.20264658e+04, 4.85165195e+08, 1.06864746e+13, 2.35385267e+17,\n",
       "       5.18470553e+21])"
      ]
     },
     "execution_count": 29,
     "metadata": {},
     "output_type": "execute_result"
    }
   ],
   "source": [
    "np.exp(a)"
   ]
  },
  {
   "cell_type": "code",
   "execution_count": 30,
   "id": "8309601c",
   "metadata": {},
   "outputs": [
    {
     "data": {
      "text/plain": [
       "array([3.16227766, 4.47213595, 5.47722558, 6.32455532, 7.07106781])"
      ]
     },
     "execution_count": 30,
     "metadata": {},
     "output_type": "execute_result"
    }
   ],
   "source": [
    "np.sqrt(a)"
   ]
  },
  {
   "cell_type": "code",
   "execution_count": 31,
   "id": "7632903f",
   "metadata": {},
   "outputs": [
    {
     "data": {
      "text/plain": [
       "array([  1000,   8000,  27000,  64000, 125000], dtype=int32)"
      ]
     },
     "execution_count": 31,
     "metadata": {},
     "output_type": "execute_result"
    }
   ],
   "source": [
    "np.power(a,3)"
   ]
  },
  {
   "cell_type": "code",
   "execution_count": 32,
   "id": "5a75c0b3",
   "metadata": {},
   "outputs": [
    {
     "data": {
      "text/plain": [
       "(1, 5)"
      ]
     },
     "execution_count": 32,
     "metadata": {},
     "output_type": "execute_result"
    }
   ],
   "source": [
    "a=np.array([1,2,3,4,5])\n",
    "a[0],a[-1]"
   ]
  },
  {
   "cell_type": "code",
   "execution_count": 33,
   "id": "06876de0",
   "metadata": {},
   "outputs": [
    {
     "data": {
      "text/plain": [
       "(array([1, 2]), array([1, 2, 3, 4]))"
      ]
     },
     "execution_count": 33,
     "metadata": {},
     "output_type": "execute_result"
    }
   ],
   "source": [
    "a[0:2],a[:-1]"
   ]
  },
  {
   "cell_type": "code",
   "execution_count": 34,
   "id": "4e4cf729",
   "metadata": {},
   "outputs": [
    {
     "data": {
      "text/plain": [
       "(array([1, 2, 3]), array([7, 8, 9]))"
      ]
     },
     "execution_count": 34,
     "metadata": {},
     "output_type": "execute_result"
    }
   ],
   "source": [
    "a=np.array([(1,2,3),(4,5,6),(7,8,9)])\n",
    "a[0],a[-1]"
   ]
  },
  {
   "cell_type": "code",
   "execution_count": 35,
   "id": "2596f068",
   "metadata": {},
   "outputs": [
    {
     "data": {
      "text/plain": [
       "array([[4, 5, 6],\n",
       "       [7, 8, 9]])"
      ]
     },
     "execution_count": 35,
     "metadata": {},
     "output_type": "execute_result"
    }
   ],
   "source": [
    "a[1:3,:]"
   ]
  },
  {
   "cell_type": "code",
   "execution_count": 36,
   "id": "cb2d11d9",
   "metadata": {},
   "outputs": [
    {
     "data": {
      "text/plain": [
       "array([[0.11429231, 0.31345393],\n",
       "       [0.77185377, 0.42542393],\n",
       "       [0.89141745, 0.31602279]])"
      ]
     },
     "execution_count": 36,
     "metadata": {},
     "output_type": "execute_result"
    }
   ],
   "source": [
    "a=np.random.random((3,2))\n",
    "a"
   ]
  },
  {
   "cell_type": "code",
   "execution_count": 37,
   "id": "2cec69de",
   "metadata": {},
   "outputs": [
    {
     "data": {
      "text/plain": [
       "(3, 2)"
      ]
     },
     "execution_count": 37,
     "metadata": {},
     "output_type": "execute_result"
    }
   ],
   "source": [
    "a.shape"
   ]
  },
  {
   "cell_type": "code",
   "execution_count": 38,
   "id": "8bb7b1c2",
   "metadata": {},
   "outputs": [
    {
     "data": {
      "text/plain": [
       "array([[0.11429231, 0.31345393, 0.77185377],\n",
       "       [0.42542393, 0.89141745, 0.31602279]])"
      ]
     },
     "execution_count": 38,
     "metadata": {},
     "output_type": "execute_result"
    }
   ],
   "source": [
    "a.reshape(2,3)"
   ]
  },
  {
   "cell_type": "code",
   "execution_count": 39,
   "id": "e2a0c3b9",
   "metadata": {},
   "outputs": [
    {
     "data": {
      "text/plain": [
       "array([[0.11429231, 0.31345393],\n",
       "       [0.77185377, 0.42542393],\n",
       "       [0.89141745, 0.31602279]])"
      ]
     },
     "execution_count": 39,
     "metadata": {},
     "output_type": "execute_result"
    }
   ],
   "source": [
    "a"
   ]
  },
  {
   "cell_type": "code",
   "execution_count": 40,
   "id": "9054f5e8",
   "metadata": {},
   "outputs": [],
   "source": [
    "a.resize(2,3)"
   ]
  },
  {
   "cell_type": "code",
   "execution_count": 41,
   "id": "59bbe5f8",
   "metadata": {},
   "outputs": [
    {
     "data": {
      "text/plain": [
       "array([[0.11429231, 0.31345393, 0.77185377],\n",
       "       [0.42542393, 0.89141745, 0.31602279]])"
      ]
     },
     "execution_count": 41,
     "metadata": {},
     "output_type": "execute_result"
    }
   ],
   "source": [
    "a"
   ]
  },
  {
   "cell_type": "code",
   "execution_count": 42,
   "id": "166d5656",
   "metadata": {},
   "outputs": [
    {
     "data": {
      "text/plain": [
       "array([0.11429231, 0.31345393, 0.77185377, 0.42542393, 0.89141745,\n",
       "       0.31602279])"
      ]
     },
     "execution_count": 42,
     "metadata": {},
     "output_type": "execute_result"
    }
   ],
   "source": [
    "a.ravel()"
   ]
  },
  {
   "cell_type": "code",
   "execution_count": 43,
   "id": "a7ee6e68",
   "metadata": {},
   "outputs": [
    {
     "data": {
      "text/plain": [
       "(array([[1, 5, 0],\n",
       "        [0, 4, 1],\n",
       "        [2, 1, 7]]),\n",
       " array([[1, 9, 4],\n",
       "        [0, 8, 2],\n",
       "        [2, 8, 1]]))"
      ]
     },
     "execution_count": 43,
     "metadata": {},
     "output_type": "execute_result"
    }
   ],
   "source": [
    "a=np.random.randint(10,size=(3,3))\n",
    "b=np.random.randint(10,size=(3,3))\n",
    "a,b"
   ]
  },
  {
   "cell_type": "code",
   "execution_count": 44,
   "id": "f1b43004",
   "metadata": {},
   "outputs": [
    {
     "data": {
      "text/plain": [
       "array([[1, 5, 0],\n",
       "       [0, 4, 1],\n",
       "       [2, 1, 7],\n",
       "       [1, 9, 4],\n",
       "       [0, 8, 2],\n",
       "       [2, 8, 1]])"
      ]
     },
     "execution_count": 44,
     "metadata": {},
     "output_type": "execute_result"
    }
   ],
   "source": [
    "np.vstack((a,b))"
   ]
  },
  {
   "cell_type": "code",
   "execution_count": 45,
   "id": "54e19eb8",
   "metadata": {},
   "outputs": [
    {
     "data": {
      "text/plain": [
       "array([[1, 5, 0, 1, 9, 4],\n",
       "       [0, 4, 1, 0, 8, 2],\n",
       "       [2, 1, 7, 2, 8, 1]])"
      ]
     },
     "execution_count": 45,
     "metadata": {},
     "output_type": "execute_result"
    }
   ],
   "source": [
    "np.hstack((a,b))"
   ]
  },
  {
   "cell_type": "code",
   "execution_count": 46,
   "id": "fff04e1d",
   "metadata": {},
   "outputs": [
    {
     "data": {
      "text/plain": [
       "[array([[1],\n",
       "        [0],\n",
       "        [2]]),\n",
       " array([[5],\n",
       "        [4],\n",
       "        [1]]),\n",
       " array([[0],\n",
       "        [1],\n",
       "        [7]])]"
      ]
     },
     "execution_count": 46,
     "metadata": {},
     "output_type": "execute_result"
    }
   ],
   "source": [
    "np.hsplit(a,3)"
   ]
  },
  {
   "cell_type": "code",
   "execution_count": 47,
   "id": "555adf77",
   "metadata": {},
   "outputs": [
    {
     "data": {
      "text/plain": [
       "[array([[1, 5, 0]]), array([[0, 4, 1]]), array([[2, 1, 7]])]"
      ]
     },
     "execution_count": 47,
     "metadata": {},
     "output_type": "execute_result"
    }
   ],
   "source": [
    "np.vsplit(a,3)"
   ]
  },
  {
   "cell_type": "code",
   "execution_count": 48,
   "id": "1656d142",
   "metadata": {},
   "outputs": [
    {
     "data": {
      "text/plain": [
       "array([[1, 4, 3],\n",
       "       [6, 2, 9],\n",
       "       [4, 7, 2]])"
      ]
     },
     "execution_count": 48,
     "metadata": {},
     "output_type": "execute_result"
    }
   ],
   "source": [
    "a=np.array(([1,4,3],[6,2,9],[4,7,2]))\n",
    "a"
   ]
  },
  {
   "cell_type": "code",
   "execution_count": 49,
   "id": "05aeae4c",
   "metadata": {},
   "outputs": [
    {
     "data": {
      "text/plain": [
       "array([6, 7, 9])"
      ]
     },
     "execution_count": 49,
     "metadata": {},
     "output_type": "execute_result"
    }
   ],
   "source": [
    "np.max(a,axis=0)"
   ]
  },
  {
   "cell_type": "code",
   "execution_count": 50,
   "id": "60087711",
   "metadata": {},
   "outputs": [
    {
     "data": {
      "text/plain": [
       "array([1, 2, 2])"
      ]
     },
     "execution_count": 50,
     "metadata": {},
     "output_type": "execute_result"
    }
   ],
   "source": [
    "np.min(a,axis=1)"
   ]
  },
  {
   "cell_type": "code",
   "execution_count": 51,
   "id": "09b642b1",
   "metadata": {},
   "outputs": [
    {
     "data": {
      "text/plain": [
       "array([1, 2, 1], dtype=int64)"
      ]
     },
     "execution_count": 51,
     "metadata": {},
     "output_type": "execute_result"
    }
   ],
   "source": [
    "np.argmax(a,axis=0)"
   ]
  },
  {
   "cell_type": "code",
   "execution_count": 52,
   "id": "04bf08b1",
   "metadata": {},
   "outputs": [
    {
     "data": {
      "text/plain": [
       "array([0, 1, 2], dtype=int64)"
      ]
     },
     "execution_count": 52,
     "metadata": {},
     "output_type": "execute_result"
    }
   ],
   "source": [
    "np.argmin(a,axis=1)"
   ]
  },
  {
   "cell_type": "code",
   "execution_count": 53,
   "id": "13c63932",
   "metadata": {},
   "outputs": [
    {
     "data": {
      "text/plain": [
       "array([2.66666667, 5.66666667, 4.33333333])"
      ]
     },
     "execution_count": 53,
     "metadata": {},
     "output_type": "execute_result"
    }
   ],
   "source": [
    "np.mean(a,axis=1)"
   ]
  },
  {
   "cell_type": "code",
   "execution_count": 54,
   "id": "4dcc3bd6",
   "metadata": {},
   "outputs": [
    {
     "data": {
      "text/plain": [
       "array([3.66666667, 4.33333333, 4.66666667])"
      ]
     },
     "execution_count": 54,
     "metadata": {},
     "output_type": "execute_result"
    }
   ],
   "source": [
    "np.average(a,axis=0)"
   ]
  },
  {
   "cell_type": "code",
   "execution_count": 55,
   "id": "44eb870a",
   "metadata": {},
   "outputs": [
    {
     "data": {
      "text/plain": [
       "array([1.55555556, 8.22222222, 4.22222222])"
      ]
     },
     "execution_count": 55,
     "metadata": {},
     "output_type": "execute_result"
    }
   ],
   "source": [
    "np.var(a,axis=1)"
   ]
  },
  {
   "cell_type": "code",
   "execution_count": 56,
   "id": "db2b1a86",
   "metadata": {},
   "outputs": [
    {
     "data": {
      "text/plain": [
       "array([2.05480467, 2.05480467, 3.09120617])"
      ]
     },
     "execution_count": 56,
     "metadata": {},
     "output_type": "execute_result"
    }
   ],
   "source": [
    "np.std(a,axis=0)"
   ]
  },
  {
   "cell_type": "code",
   "execution_count": 57,
   "id": "0ecf6e44",
   "metadata": {},
   "outputs": [],
   "source": [
    "#ADVANCED"
   ]
  },
  {
   "cell_type": "code",
   "execution_count": 58,
   "id": "296598b8",
   "metadata": {},
   "outputs": [
    {
     "data": {
      "text/plain": [
       "array([[1., 1., 1., 1., 1.],\n",
       "       [1., 0., 0., 0., 1.],\n",
       "       [1., 0., 0., 0., 1.],\n",
       "       [1., 0., 0., 0., 1.],\n",
       "       [1., 1., 1., 1., 1.]])"
      ]
     },
     "execution_count": 58,
     "metadata": {},
     "output_type": "execute_result"
    }
   ],
   "source": [
    "Z=np.ones((5,5))\n",
    "Z[1:-1,1:-1]=0\n",
    "Z"
   ]
  },
  {
   "cell_type": "code",
   "execution_count": 59,
   "id": "f7f61957",
   "metadata": {},
   "outputs": [],
   "source": [
    "Z=np.ones((5,5))\n",
    "Z=np.pad(Z,pad_width=1,mode='constant',constant_values=0)"
   ]
  },
  {
   "cell_type": "code",
   "execution_count": 60,
   "id": "e79042d6",
   "metadata": {},
   "outputs": [
    {
     "data": {
      "text/plain": [
       "array([[0, 0, 0, 0, 0],\n",
       "       [1, 0, 0, 0, 0],\n",
       "       [0, 2, 0, 0, 0],\n",
       "       [0, 0, 3, 0, 0],\n",
       "       [0, 0, 0, 4, 0]])"
      ]
     },
     "execution_count": 60,
     "metadata": {},
     "output_type": "execute_result"
    }
   ],
   "source": [
    "Z=np.diag(1+np.arange(4),k=-1)\n",
    "Z"
   ]
  },
  {
   "cell_type": "code",
   "execution_count": 61,
   "id": "c5c08c0a",
   "metadata": {},
   "outputs": [
    {
     "data": {
      "text/plain": [
       "array([[0, 1, 0, 1, 0, 1, 0, 1, 0, 1],\n",
       "       [1, 0, 1, 0, 1, 0, 1, 0, 1, 0],\n",
       "       [0, 1, 0, 1, 0, 1, 0, 1, 0, 1],\n",
       "       [1, 0, 1, 0, 1, 0, 1, 0, 1, 0],\n",
       "       [0, 1, 0, 1, 0, 1, 0, 1, 0, 1],\n",
       "       [1, 0, 1, 0, 1, 0, 1, 0, 1, 0],\n",
       "       [0, 1, 0, 1, 0, 1, 0, 1, 0, 1],\n",
       "       [1, 0, 1, 0, 1, 0, 1, 0, 1, 0],\n",
       "       [0, 1, 0, 1, 0, 1, 0, 1, 0, 1],\n",
       "       [1, 0, 1, 0, 1, 0, 1, 0, 1, 0]])"
      ]
     },
     "execution_count": 61,
     "metadata": {},
     "output_type": "execute_result"
    }
   ],
   "source": [
    "Z=np.zeros((10,10),dtype=int)\n",
    "Z[1::2,::2]=1\n",
    "Z[::2,1::2]=1\n",
    "Z"
   ]
  },
  {
   "cell_type": "code",
   "execution_count": 63,
   "id": "055e2f8a",
   "metadata": {},
   "outputs": [
    {
     "data": {
      "text/plain": [
       "array([ 0,  1, -2, -3, -4, -5, -6, -7, -8, -9, 10])"
      ]
     },
     "execution_count": 63,
     "metadata": {},
     "output_type": "execute_result"
    }
   ],
   "source": [
    "Z=np.arange(11)\n",
    "Z[(1<Z)&(Z<=9)]*=-1\n",
    "Z"
   ]
  },
  {
   "cell_type": "code",
   "execution_count": 64,
   "id": "352af0bb",
   "metadata": {},
   "outputs": [
    {
     "name": "stdout",
     "output_type": "stream",
     "text": [
      "Z1:  [3 9 5 6 8 3 1 6 2 4]\n",
      "Z2:  [0 0 1 3 9 7 1 1 2 8]\n"
     ]
    },
    {
     "data": {
      "text/plain": [
       "array([1, 2, 3, 8, 9])"
      ]
     },
     "execution_count": 64,
     "metadata": {},
     "output_type": "execute_result"
    }
   ],
   "source": [
    "Z1=np.random.randint(0,10,10)\n",
    "Z2=np.random.randint(0,10,10)\n",
    "print(\"Z1: \",Z1)\n",
    "print(\"Z2: \",Z2)\n",
    "np.intersect1d(Z1,Z2)"
   ]
  },
  {
   "cell_type": "code",
   "execution_count": 65,
   "id": "1678a8a8",
   "metadata": {},
   "outputs": [
    {
     "name": "stdout",
     "output_type": "stream",
     "text": [
      "yesterday:  2023-02-20\n",
      "today:  2023-02-21\n",
      "tomorrow:  2023-02-22\n"
     ]
    }
   ],
   "source": [
    "yesterday=np.datetime64('today','D') - np.timedelta64(1,'D')\n",
    "today=np.datetime64('today','D')\n",
    "tomorrow=np.datetime64('today','D') + np.timedelta64(1,'D')\n",
    "print(\"yesterday: \", yesterday)\n",
    "print(\"today: \",today)\n",
    "print(\"tomorrow: \",tomorrow)"
   ]
  },
  {
   "cell_type": "code",
   "execution_count": 66,
   "id": "564cbc46",
   "metadata": {},
   "outputs": [
    {
     "name": "stdout",
     "output_type": "stream",
     "text": [
      "Original value:  [5.82795086 3.36058885 6.33390601 3.07247546 6.39399947 9.73310594\n",
      " 2.43878577 0.19085902 1.90793361 0.31456828]\n",
      "method 1:  [5. 3. 6. 3. 6. 9. 2. 0. 1. 0.]\n",
      "method 2:  [5. 3. 6. 3. 6. 9. 2. 0. 1. 0.]\n",
      "method 3:  [5. 3. 6. 3. 6. 9. 2. 0. 1. 0.]\n",
      "method 4:  [5 3 6 3 6 9 2 0 1 0]\n",
      "method 5:  [5. 3. 6. 3. 6. 9. 2. 0. 1. 0.]\n"
     ]
    }
   ],
   "source": [
    "Z = np.random.uniform(0,10,10)\n",
    "print(\"Original value: \",Z)\n",
    "print (\"method 1: \",Z-Z%1)\n",
    "print (\"method 2: \",np.floor(Z))\n",
    "print (\"method 3: \",np.ceil(Z)-1)\n",
    "print (\"method 4: \",Z.astype(int))\n",
    "print (\"method 5: \",np.trunc(Z))"
   ]
  },
  {
   "cell_type": "code",
   "execution_count": 67,
   "id": "55c39e1c",
   "metadata": {},
   "outputs": [
    {
     "data": {
      "text/plain": [
       "array([[1., 2., 3., 4., 5.],\n",
       "       [1., 2., 3., 4., 5.],\n",
       "       [1., 2., 3., 4., 5.],\n",
       "       [1., 2., 3., 4., 5.],\n",
       "       [1., 2., 3., 4., 5.]])"
      ]
     },
     "execution_count": 67,
     "metadata": {},
     "output_type": "execute_result"
    }
   ],
   "source": [
    "Z=np.zeros((5,5))\n",
    "Z+=np.arange(1,6)\n",
    "Z"
   ]
  },
  {
   "cell_type": "code",
   "execution_count": 69,
   "id": "e876bc94",
   "metadata": {},
   "outputs": [
    {
     "data": {
      "text/plain": [
       "array([0.16666667, 0.33333333, 0.5       , 0.66666667, 0.83333333])"
      ]
     },
     "execution_count": 69,
     "metadata": {},
     "output_type": "execute_result"
    }
   ],
   "source": [
    "Z=np.linspace(0,1,6,endpoint=False)[1:]\n",
    "Z"
   ]
  },
  {
   "cell_type": "code",
   "execution_count": 70,
   "id": "d4c8b3d4",
   "metadata": {},
   "outputs": [
    {
     "data": {
      "text/plain": [
       "array([0.2155029 , 0.33960927, 0.35458747, 0.43632308, 0.59801483,\n",
       "       0.67190816, 0.69772407, 0.71838922, 0.86077772, 0.87721968])"
      ]
     },
     "execution_count": 70,
     "metadata": {},
     "output_type": "execute_result"
    }
   ],
   "source": [
    "Z=np.random.random(10)\n",
    "Z.sort()\n",
    "Z"
   ]
  },
  {
   "cell_type": "code",
   "execution_count": 71,
   "id": "7e0bdf5c",
   "metadata": {},
   "outputs": [
    {
     "name": "stdout",
     "output_type": "stream",
     "text": [
      "Original array: \n",
      " [[7 4 3]\n",
      " [3 1 2]\n",
      " [4 2 6]]\n"
     ]
    },
    {
     "data": {
      "text/plain": [
       "array([[3, 1, 2],\n",
       "       [4, 2, 3],\n",
       "       [7, 4, 6]])"
      ]
     },
     "execution_count": 71,
     "metadata": {},
     "output_type": "execute_result"
    }
   ],
   "source": [
    "Z=np.array([[7,4,3],[3,1,2],[4,2,6]])\n",
    "print(\"Original array: \\n\",Z)\n",
    "Z.sort(axis=0)\n",
    "Z"
   ]
  },
  {
   "cell_type": "code",
   "execution_count": 72,
   "id": "e5cdb1f5",
   "metadata": {},
   "outputs": [
    {
     "name": "stdout",
     "output_type": "stream",
     "text": [
      "Original array:  [0.64629799 0.90098747 0.08700162 0.11377616 0.23073582]\n"
     ]
    },
    {
     "data": {
      "text/plain": [
       "array([0.64629799, 0.        , 0.08700162, 0.11377616, 0.23073582])"
      ]
     },
     "execution_count": 72,
     "metadata": {},
     "output_type": "execute_result"
    }
   ],
   "source": [
    "Z=np.random.random(5)\n",
    "print(\"Original array: \",Z)\n",
    "Z[Z.argmax()]=0\n",
    "Z"
   ]
  },
  {
   "cell_type": "code",
   "execution_count": 73,
   "id": "9fb3d87d",
   "metadata": {},
   "outputs": [
    {
     "name": "stdout",
     "output_type": "stream",
     "text": [
      "The minimum value of <class 'numpy.int8'>:  -128\n",
      "The maximum value of <class 'numpy.int8'>:  127\n",
      "The minimum value of <class 'numpy.int32'>:  -2147483648\n",
      "The maximum value of <class 'numpy.int32'>:  2147483647\n",
      "The minimum value of <class 'numpy.int64'>:  -9223372036854775808\n",
      "The maximum value of <class 'numpy.int64'>:  9223372036854775807\n",
      "The minimum value of <class 'numpy.float32'>:  -3.4028235e+38\n",
      "The maximum value of <class 'numpy.float32'>:  3.4028235e+38\n",
      "The minimum value of <class 'numpy.float64'>:  -1.7976931348623157e+308\n",
      "The maximum value of <class 'numpy.float64'>:  1.7976931348623157e+308\n"
     ]
    }
   ],
   "source": [
    "for dtype in [np.int8, np.int32, np.int64]:\n",
    "   print(\"The minimum value of {}: \".format(dtype),np.iinfo(dtype).min)\n",
    "   print(\"The maximum value of {}: \".format(dtype),np.iinfo(dtype).max)\n",
    "for dtype in [np.float32, np.float64]:\n",
    "   print(\"The minimum value of {}: \".format(dtype),np.finfo(dtype).min)\n",
    "   print(\"The maximum value of {}: \".format(dtype),np.finfo(dtype).max)"
   ]
  },
  {
   "cell_type": "code",
   "execution_count": 74,
   "id": "a701103d",
   "metadata": {},
   "outputs": [
    {
     "name": "stdout",
     "output_type": "stream",
     "text": [
      "[0. 1. 2. 3. 4. 5. 6. 7. 8. 9.]\n"
     ]
    },
    {
     "data": {
      "text/plain": [
       "array([0, 1, 2, 3, 4, 5, 6, 7, 8, 9])"
      ]
     },
     "execution_count": 74,
     "metadata": {},
     "output_type": "execute_result"
    }
   ],
   "source": [
    "Z=np.arange(10, dtype=np.float32)\n",
    "print(Z)\n",
    "Z=Z.astype(np.int32, copy=False)\n",
    "Z"
   ]
  },
  {
   "cell_type": "code",
   "execution_count": 75,
   "id": "2ea90596",
   "metadata": {},
   "outputs": [
    {
     "name": "stdout",
     "output_type": "stream",
     "text": [
      "Before：\n",
      " [[8 8 7 5 8]\n",
      " [8 1 4 5 4]\n",
      " [0 1 9 7 4]\n",
      " [2 2 5 4 4]\n",
      " [1 0 2 4 1]]\n"
     ]
    },
    {
     "data": {
      "text/plain": [
       "array([[1, 0, 2, 4, 1],\n",
       "       [8, 1, 4, 5, 4],\n",
       "       [2, 2, 5, 4, 4],\n",
       "       [8, 8, 7, 5, 8],\n",
       "       [0, 1, 9, 7, 4]])"
      ]
     },
     "execution_count": 75,
     "metadata": {},
     "output_type": "execute_result"
    }
   ],
   "source": [
    "Z=np.random.randint(0,10,(5,5))\n",
    "print(\"Before：\\n\",Z)\n",
    "Z[Z[:,2].argsort()]"
   ]
  },
  {
   "cell_type": "code",
   "execution_count": 76,
   "id": "27d71990",
   "metadata": {},
   "outputs": [
    {
     "name": "stdout",
     "output_type": "stream",
     "text": [
      "Random array: \n",
      " [0.70526594 0.68470659 0.29902193 0.82902936 0.27874811 0.74839758\n",
      " 0.81184762 0.18152469 0.38290092 0.61532777 0.59016569 0.71451533\n",
      " 0.42007983 0.62199411 0.37832341 0.29621773 0.20416416 0.89473821\n",
      " 0.44959004 0.10675614]\n"
     ]
    },
    {
     "data": {
      "text/plain": [
       "0.4495900397353184"
      ]
     },
     "execution_count": 76,
     "metadata": {},
     "output_type": "execute_result"
    }
   ],
   "source": [
    "Z=np.random.uniform(0,1,20)\n",
    "print(\"Random array: \\n\", Z)\n",
    "z=0.5\n",
    "m=Z.flat[np.abs(Z - z).argmin()]\n",
    "m"
   ]
  },
  {
   "cell_type": "code",
   "execution_count": 77,
   "id": "207f8bf6",
   "metadata": {},
   "outputs": [
    {
     "name": "stdout",
     "output_type": "stream",
     "text": [
      "[[ 0  1  2  3  4]\n",
      " [ 5  6  7  8  9]\n",
      " [10 11 12 13 14]\n",
      " [15 16 17 18 19]\n",
      " [20 21 22 23 24]]\n",
      "[[ 5  6  7  8  9]\n",
      " [ 0  1  2  3  4]\n",
      " [10 11 12 13 14]\n",
      " [15 16 17 18 19]\n",
      " [20 21 22 23 24]]\n"
     ]
    }
   ],
   "source": [
    "A=np.arange(25).reshape(5,5)\n",
    "print(A)\n",
    "A[[0,1]]=A[[1,0]]\n",
    "print(A)"
   ]
  },
  {
   "cell_type": "code",
   "execution_count": 78,
   "id": "d9366575",
   "metadata": {},
   "outputs": [
    {
     "name": "stdout",
     "output_type": "stream",
     "text": [
      "Random one-dimensional array:  [8 8 1 1 5 5 1 7 2 1 5 8 8 0 0 7 4 8 4 3 7 9 8 0 4 4 9 6 3 1 8 8 3 3 8 6 5\n",
      " 5 3 2 1 2 1 3 1 1 4 2 9 3]\n"
     ]
    },
    {
     "data": {
      "text/plain": [
       "1"
      ]
     },
     "execution_count": 78,
     "metadata": {},
     "output_type": "execute_result"
    }
   ],
   "source": [
    "Z=np.random.randint(0,10,50)\n",
    "print(\"Random one-dimensional array: \", Z)\n",
    "np.bincount(Z).argmax()"
   ]
  },
  {
   "cell_type": "code",
   "execution_count": 79,
   "id": "0645e12a",
   "metadata": {},
   "outputs": [
    {
     "data": {
      "text/plain": [
       "(array([0, 2, 4, 6], dtype=int64),)"
      ]
     },
     "execution_count": 79,
     "metadata": {},
     "output_type": "execute_result"
    }
   ],
   "source": [
    "Z=np.nonzero([1,0,2,0,1,0,4,0])\n",
    "Z"
   ]
  },
  {
   "cell_type": "code",
   "execution_count": 81,
   "id": "2e89daf5",
   "metadata": {},
   "outputs": [
    {
     "data": {
      "text/plain": [
       "array([[0., 0., 0., 0., 0.],\n",
       "       [0., 0., 0., 1., 0.],\n",
       "       [0., 1., 0., 0., 0.],\n",
       "       [0., 0., 0., 0., 0.],\n",
       "       [0., 0., 0., 0., 1.]])"
      ]
     },
     "execution_count": 81,
     "metadata": {},
     "output_type": "execute_result"
    }
   ],
   "source": [
    "p=3\n",
    "Z=np.zeros((5,5))\n",
    "np.put(Z, np.random.choice(range(5*5),p,replace=False),1)\n",
    "Z"
   ]
  },
  {
   "cell_type": "code",
   "execution_count": 82,
   "id": "def23430",
   "metadata": {},
   "outputs": [
    {
     "name": "stdout",
     "output_type": "stream",
     "text": [
      "[[0.24358388 0.56754778 0.24417506]\n",
      " [0.40300352 0.64209861 0.57835139]\n",
      " [0.3952825  0.1878722  0.26825046]]\n"
     ]
    },
    {
     "data": {
      "text/plain": [
       "array([[-0.10818503,  0.21577888, -0.10759385],\n",
       "       [-0.13814766,  0.10094743,  0.03720022],\n",
       "       [ 0.11148078, -0.09592952, -0.01555126]])"
      ]
     },
     "execution_count": 82,
     "metadata": {},
     "output_type": "execute_result"
    }
   ],
   "source": [
    "X=np.random.rand(3, 3)\n",
    "print(X)\n",
    "Y=X-X.mean(axis=1,keepdims=True)\n",
    "Y"
   ]
  },
  {
   "cell_type": "code",
   "execution_count": 83,
   "id": "8d892075",
   "metadata": {},
   "outputs": [
    {
     "name": "stdout",
     "output_type": "stream",
     "text": [
      "[[0.33698374 0.42456567 0.99530297]\n",
      " [0.53633308 0.60988241 1.35228595]\n",
      " [0.10875472 0.09934165 0.32549819]]\n"
     ]
    },
    {
     "data": {
      "text/plain": [
       "array([0.33698374, 0.60988241, 0.32549819])"
      ]
     },
     "execution_count": 83,
     "metadata": {},
     "output_type": "execute_result"
    }
   ],
   "source": [
    "A=np.random.uniform(0,1,(3,3))\n",
    "B=np.random.uniform(0,1,(3,3))\n",
    "print(np.dot(A, B))\n",
    "np.diag(np.dot(A, B))"
   ]
  },
  {
   "cell_type": "code",
   "execution_count": 84,
   "id": "b7220a8f",
   "metadata": {},
   "outputs": [
    {
     "data": {
      "text/plain": [
       "array([0.33698374, 0.60988241, 0.32549819])"
      ]
     },
     "execution_count": 84,
     "metadata": {},
     "output_type": "execute_result"
    }
   ],
   "source": [
    "np.sum(A * B.T, axis=1)"
   ]
  },
  {
   "cell_type": "code",
   "execution_count": 85,
   "id": "ec806f98",
   "metadata": {},
   "outputs": [
    {
     "data": {
      "text/plain": [
       "array([0.33698374, 0.60988241, 0.32549819])"
      ]
     },
     "execution_count": 85,
     "metadata": {},
     "output_type": "execute_result"
    }
   ],
   "source": [
    "np.sum(A * B.T, axis=1)"
   ]
  },
  {
   "cell_type": "code",
   "execution_count": 86,
   "id": "8f9b0889",
   "metadata": {},
   "outputs": [
    {
     "name": "stdout",
     "output_type": "stream",
     "text": [
      "[72 42 47 95 90 57  5 32 42 32 22 93 86 70 84 76 96 71  9 38 28 17 70 25\n",
      " 90 97 96 47 45 35 24 69 55 83 91 51 17 87  9 35 92  4 57 82 43 79 68 60\n",
      " 50 28 28 51 84 25 24 59 21  4 67 21 65 98 22  7 60 94 29 34 28 40 67  4\n",
      " 71 85 43  9 14 18 40 44 31  2 47  8 97 36 45 42 38 51  9 58 27 63 44 20\n",
      " 34 31 81 46]\n"
     ]
    },
    {
     "data": {
      "text/plain": [
       "array([96, 96, 97, 97, 98])"
      ]
     },
     "execution_count": 86,
     "metadata": {},
     "output_type": "execute_result"
    }
   ],
   "source": [
    "Z=np.random.randint(1,100,100)\n",
    "print(Z)\n",
    "p = 5\n",
    "Z[np.argsort(Z)[-p:]]"
   ]
  },
  {
   "cell_type": "code",
   "execution_count": 87,
   "id": "d6642783",
   "metadata": {},
   "outputs": [
    {
     "name": "stdout",
     "output_type": "stream",
     "text": [
      "[2 2 2 4 2]\n"
     ]
    },
    {
     "data": {
      "text/plain": [
       "array([ 16,  16,  16, 256,  16], dtype=int32)"
      ]
     },
     "execution_count": 87,
     "metadata": {},
     "output_type": "execute_result"
    }
   ],
   "source": [
    "x=np.random.randint(2,5,5)\n",
    "print(x)\n",
    "np.power(x,4)"
   ]
  },
  {
   "cell_type": "code",
   "execution_count": 88,
   "id": "cf8de298",
   "metadata": {},
   "outputs": [
    {
     "name": "stdout",
     "output_type": "stream",
     "text": [
      "[[0.03931938 0.58197284 0.51330432 0.87081583 0.93422721]\n",
      " [0.21031881 0.83299136 0.34518504 0.94891145 0.25398564]\n",
      " [0.67838354 0.0955566  0.62509598 0.98083464 0.138854  ]\n",
      " [0.40536135 0.53509023 0.30952965 0.03207514 0.9041961 ]\n",
      " [0.93836598 0.05562962 0.11861273 0.75350965 0.41795436]]\n"
     ]
    },
    {
     "data": {
      "text/plain": [
       "array([[0.04, 0.58, 0.51, 0.87, 0.93],\n",
       "       [0.21, 0.83, 0.35, 0.95, 0.25],\n",
       "       [0.68, 0.1 , 0.63, 0.98, 0.14],\n",
       "       [0.41, 0.54, 0.31, 0.03, 0.9 ],\n",
       "       [0.94, 0.06, 0.12, 0.75, 0.42]])"
      ]
     },
     "execution_count": 88,
     "metadata": {},
     "output_type": "execute_result"
    }
   ],
   "source": [
    "Z=np.random.random((5,5))\n",
    "print(Z)\n",
    "np.set_printoptions(precision=2)\n",
    "Z"
   ]
  },
  {
   "cell_type": "code",
   "execution_count": 89,
   "id": "51b3a4cb",
   "metadata": {},
   "outputs": [
    {
     "name": "stdout",
     "output_type": "stream",
     "text": [
      "[[0.21 0.73 0.1  0.9  0.94]\n",
      " [0.91 0.53 0.38 0.01 0.77]\n",
      " [0.39 0.59 0.27 0.78 0.45]\n",
      " [0.84 0.59 0.28 0.37 0.15]\n",
      " [0.91 0.68 0.07 0.02 0.36]]\n"
     ]
    },
    {
     "data": {
      "text/plain": [
       "array([[2.12e-04, 7.27e-04, 1.05e-04, 9.04e-04, 9.45e-04],\n",
       "       [9.11e-04, 5.32e-04, 3.80e-04, 7.70e-06, 7.70e-04],\n",
       "       [3.86e-04, 5.90e-04, 2.73e-04, 7.78e-04, 4.48e-04],\n",
       "       [8.38e-04, 5.87e-04, 2.77e-04, 3.73e-04, 1.54e-04],\n",
       "       [9.08e-04, 6.81e-04, 7.34e-05, 1.84e-05, 3.56e-04]])"
      ]
     },
     "execution_count": 89,
     "metadata": {},
     "output_type": "execute_result"
    }
   ],
   "source": [
    "Z=np.random.random([5,5])\n",
    "print(Z)\n",
    "Z/1e3"
   ]
  },
  {
   "cell_type": "code",
   "execution_count": 90,
   "id": "d328ec50",
   "metadata": {},
   "outputs": [
    {
     "name": "stdout",
     "output_type": "stream",
     "text": [
      "[ 0  1  2  3  4  5  6  7  8  9 10 11 12 13 14]\n"
     ]
    },
    {
     "data": {
      "text/plain": [
       "array([ 3.5,  7. , 10.5])"
      ]
     },
     "execution_count": 90,
     "metadata": {},
     "output_type": "execute_result"
    }
   ],
   "source": [
    "a=np.arange(15)\n",
    "print(a)\n",
    "np.percentile(a,q=[25,50,75])"
   ]
  },
  {
   "cell_type": "code",
   "execution_count": 92,
   "id": "184182f6",
   "metadata": {},
   "outputs": [
    {
     "data": {
      "text/plain": [
       "array([[0.92, 0.3 ,  nan, 0.9 , 0.01, 0.41, 0.45, 0.51, 0.1 , 0.73],\n",
       "       [0.9 , 0.05, 0.62, 0.6 , 0.03, 0.41, 0.62, 0.27, 0.85,  nan],\n",
       "       [0.45, 0.16, 0.61, 0.4 , 0.32, 0.74,  nan, 0.3 , 0.53, 0.47],\n",
       "       [0.23, 0.34, 0.85, 0.44, 0.23, 0.33, 0.01, 0.66, 0.93, 0.74],\n",
       "       [0.85, 0.43, 0.34, 0.92, 0.82, 0.29, 0.38, 0.31, 0.29, 0.53],\n",
       "       [0.8 , 0.58, 0.27, 0.91, 0.1 , 0.23, 0.18, 0.56, 0.48, 0.99],\n",
       "       [ nan, 0.6 , 0.69, 0.74, 0.15, 0.89, 0.88, 0.21, 0.72, 0.55],\n",
       "       [0.49, 0.76, 0.57, 0.25, 0.62, 0.14, 0.42, 0.06, 0.23, 0.85],\n",
       "       [0.16, 0.49, 0.4 , 0.69, 0.19, 0.64, 0.76, 0.45, 0.79, 0.42],\n",
       "       [0.46, 0.58, 0.46, 0.6 , 0.24, 0.52, 0.07, 0.49, 0.9 , 0.5 ]])"
      ]
     },
     "execution_count": 92,
     "metadata": {},
     "output_type": "execute_result"
    }
   ],
   "source": [
    "Z=np.random.rand(10,10)\n",
    "Z[np.random.randint(10,size=5),np.random.randint(10,size=5)]=np.nan\n",
    "Z"
   ]
  },
  {
   "cell_type": "code",
   "execution_count": 94,
   "id": "501b33e9",
   "metadata": {},
   "outputs": [
    {
     "name": "stdout",
     "output_type": "stream",
     "text": [
      "Total number of missing values: \n",
      " 4\n",
      "Indexes of missing values: \n",
      " (array([0, 1, 2, 6], dtype=int64), array([2, 9, 6, 0], dtype=int64))\n"
     ]
    }
   ],
   "source": [
    "print(\"Total number of missing values: \\n\",np.isnan(Z).sum())\n",
    "print(\"Indexes of missing values: \\n\",np.where(np.isnan(Z)))"
   ]
  },
  {
   "cell_type": "code",
   "execution_count": 96,
   "id": "cf02607f",
   "metadata": {},
   "outputs": [
    {
     "data": {
      "text/plain": [
       "array([[0.23, 0.34, 0.85, 0.44, 0.23, 0.33, 0.01, 0.66, 0.93, 0.74],\n",
       "       [0.85, 0.43, 0.34, 0.92, 0.82, 0.29, 0.38, 0.31, 0.29, 0.53],\n",
       "       [0.8 , 0.58, 0.27, 0.91, 0.1 , 0.23, 0.18, 0.56, 0.48, 0.99],\n",
       "       [0.49, 0.76, 0.57, 0.25, 0.62, 0.14, 0.42, 0.06, 0.23, 0.85],\n",
       "       [0.16, 0.49, 0.4 , 0.69, 0.19, 0.64, 0.76, 0.45, 0.79, 0.42],\n",
       "       [0.46, 0.58, 0.46, 0.6 , 0.24, 0.52, 0.07, 0.49, 0.9 , 0.5 ]])"
      ]
     },
     "execution_count": 96,
     "metadata": {},
     "output_type": "execute_result"
    }
   ],
   "source": [
    "Z[np.sum(np.isnan(Z),axis=1)==0]"
   ]
  },
  {
   "cell_type": "code",
   "execution_count": 97,
   "id": "9615133c",
   "metadata": {},
   "outputs": [
    {
     "name": "stdout",
     "output_type": "stream",
     "text": [
      "[[75 72 44 29 27]\n",
      " [88  2 32 24 60]\n",
      " [45 25 61 98  2]\n",
      " [53 13 95 19 45]\n",
      " [61 18 17 98 64]]\n"
     ]
    },
    {
     "data": {
      "text/plain": [
       "(array([ 2, 13, 17, 18, 19, 24, 25, 27, 29, 32, 44, 45, 53, 60, 61, 64, 72,\n",
       "        75, 88, 95, 98]),\n",
       " array([2, 1, 1, 1, 1, 1, 1, 1, 1, 1, 1, 2, 1, 1, 2, 1, 1, 1, 1, 1, 2],\n",
       "       dtype=int64))"
      ]
     },
     "execution_count": 97,
     "metadata": {},
     "output_type": "execute_result"
    }
   ],
   "source": [
    "Z=np.random.randint(0,100,25).reshape(5,5)\n",
    "print(Z)\n",
    "np.unique(Z,return_counts=True)"
   ]
  },
  {
   "cell_type": "code",
   "execution_count": 98,
   "id": "05344108",
   "metadata": {},
   "outputs": [
    {
     "name": "stdout",
     "output_type": "stream",
     "text": [
      "[1 2 2 3 2 2 1 3 3 3]\n"
     ]
    },
    {
     "data": {
      "text/plain": [
       "['car', 'bus', 'bus', 'train', 'bus', 'bus', 'car', 'train', 'train', 'train']"
      ]
     },
     "execution_count": 98,
     "metadata": {},
     "output_type": "execute_result"
    }
   ],
   "source": [
    "Z=np.random.randint(1,4,10)\n",
    "print(Z)\n",
    "label_map={1:\"car\",2:\"bus\",3:\"train\"}\n",
    "[label_map[x] for x in Z]"
   ]
  },
  {
   "cell_type": "code",
   "execution_count": 99,
   "id": "9c0c4ab8",
   "metadata": {},
   "outputs": [
    {
     "name": "stdout",
     "output_type": "stream",
     "text": [
      "[array([0, 1, 2]) array([3, 4, 5, 6]) array([7, 8, 9])]\n"
     ]
    },
    {
     "name": "stderr",
     "output_type": "stream",
     "text": [
      "C:\\Users\\M\\AppData\\Local\\Temp\\ipykernel_15760\\3183290245.py:4: VisibleDeprecationWarning: Creating an ndarray from ragged nested sequences (which is a list-or-tuple of lists-or-tuples-or ndarrays with different lengths or shapes) is deprecated. If you meant to do this, you must specify 'dtype=object' when creating the ndarray.\n",
      "  Z=np.array([Z1,Z2,Z3])\n"
     ]
    },
    {
     "data": {
      "text/plain": [
       "array([0, 1, 2, 3, 4, 5, 6, 7, 8, 9])"
      ]
     },
     "execution_count": 99,
     "metadata": {},
     "output_type": "execute_result"
    }
   ],
   "source": [
    "Z1=np.arange(3)\n",
    "Z2=np.arange(3,7)\n",
    "Z3=np.arange(7,10)\n",
    "Z=np.array([Z1,Z2,Z3])\n",
    "print(Z)\n",
    "np.concatenate(Z)"
   ]
  },
  {
   "cell_type": "code",
   "execution_count": 100,
   "id": "d48a30ca",
   "metadata": {},
   "outputs": [
    {
     "name": "stdout",
     "output_type": "stream",
     "text": [
      "Array:  [68 35 65 67 10 48 65  8 99  7]\n"
     ]
    },
    {
     "data": {
      "text/plain": [
       "array([9, 7, 4, 1, 5, 2, 6, 3, 0, 8], dtype=int64)"
      ]
     },
     "execution_count": 100,
     "metadata": {},
     "output_type": "execute_result"
    }
   ],
   "source": [
    "a=np.random.randint(100, size=10)\n",
    "print('Array: ', a)\n",
    "a.argsort()"
   ]
  },
  {
   "cell_type": "code",
   "execution_count": 102,
   "id": "a5f1370b",
   "metadata": {},
   "outputs": [
    {
     "name": "stdout",
     "output_type": "stream",
     "text": [
      "[[97 29 36  9 57]\n",
      " [ 1 33 73 35 26]\n",
      " [61 83 46 27  6]\n",
      " [60 90 33  1 40]\n",
      " [11 12 64 19 51]]\n"
     ]
    },
    {
     "data": {
      "text/plain": [
       "array([97, 73, 83, 90, 64])"
      ]
     },
     "execution_count": 102,
     "metadata": {},
     "output_type": "execute_result"
    }
   ],
   "source": [
    "Z=np.random.randint(1,100,[5,5])\n",
    "print(Z)\n",
    "np.amax(Z,axis=1)"
   ]
  },
  {
   "cell_type": "code",
   "execution_count": 103,
   "id": "fe27be80",
   "metadata": {},
   "outputs": [
    {
     "name": "stdout",
     "output_type": "stream",
     "text": [
      "[[10  6 70 37 92]\n",
      " [ 3 94 17 83  3]\n",
      " [34 67 98 70  3]\n",
      " [35 18 78 48  6]\n",
      " [84 20 38 60 19]]\n"
     ]
    },
    {
     "data": {
      "text/plain": [
       "array([ 6,  3,  3,  6, 19])"
      ]
     },
     "execution_count": 103,
     "metadata": {},
     "output_type": "execute_result"
    }
   ],
   "source": [
    "Z=np.random.randint(1,100,[5,5])\n",
    "print(Z)\n",
    "np.apply_along_axis(np.min,arr=Z,axis=1)"
   ]
  },
  {
   "cell_type": "code",
   "execution_count": 104,
   "id": "795cd3f1",
   "metadata": {},
   "outputs": [
    {
     "name": "stdout",
     "output_type": "stream",
     "text": [
      "8.48528137423857\n"
     ]
    },
    {
     "data": {
      "text/plain": [
       "8.48528137423857"
      ]
     },
     "execution_count": 104,
     "metadata": {},
     "output_type": "execute_result"
    }
   ],
   "source": [
    "a=np.array([1, 2])\n",
    "b=np.array([7, 8])\n",
    "print(np.sqrt(np.power((8-2),2)+np.power((7-1),2)))\n",
    "np.linalg.norm(b-a)"
   ]
  },
  {
   "cell_type": "code",
   "execution_count": 105,
   "id": "f2bc8145",
   "metadata": {},
   "outputs": [
    {
     "name": "stdout",
     "output_type": "stream",
     "text": [
      "real： [1. 3. 5.]\n",
      "imaginary： [2. 4. 6.]\n"
     ]
    }
   ],
   "source": [
    "a=np.array([1+2j,3+4j,5+6j])\n",
    "print(\"real：\",a.real)\n",
    "print(\"imaginary：\",a.imag)"
   ]
  },
  {
   "cell_type": "code",
   "execution_count": 106,
   "id": "368e886b",
   "metadata": {},
   "outputs": [
    {
     "data": {
      "text/plain": [
       "array([[-2. ,  1. ],\n",
       "       [ 1.5, -0.5]])"
      ]
     },
     "execution_count": 106,
     "metadata": {},
     "output_type": "execute_result"
    }
   ],
   "source": [
    "matrix=np.array([[1., 2.],[3., 4.]])\n",
    "inverse_matrix = np.linalg.inv(matrix)\n",
    "assert np.allclose(np.dot(matrix,inverse_matrix),np.eye(2))\n",
    "assert np.allclose(np.dot(matrix,inverse_matrix),np.eye(2))\n",
    "inverse_matrix"
   ]
  },
  {
   "cell_type": "code",
   "execution_count": 107,
   "id": "ab63c0ca",
   "metadata": {},
   "outputs": [
    {
     "name": "stdout",
     "output_type": "stream",
     "text": [
      "[[3 1 0 2 1]\n",
      " [2 2 8 0 3]\n",
      " [7 4 8 5 7]\n",
      " [4 4 5 1 2]\n",
      " [3 0 8 9 4]]\n"
     ]
    },
    {
     "data": {
      "text/plain": [
       "array([[-0.26, -1.  , -1.37, -0.63, -1.  ],\n",
       "       [-0.63, -0.63,  1.57, -1.37, -0.26],\n",
       "       [ 1.21,  0.1 ,  1.57,  0.47,  1.21],\n",
       "       [ 0.1 ,  0.1 ,  0.47, -1.  , -0.63],\n",
       "       [-0.26, -1.37,  1.57,  1.94,  0.1 ]])"
      ]
     },
     "execution_count": 107,
     "metadata": {},
     "output_type": "execute_result"
    }
   ],
   "source": [
    "def zscore(x,axis=None):\n",
    "    xmean=x.mean(axis=axis,keepdims=True)\n",
    "    xstd=np.std(x,axis=axis,keepdims=True)\n",
    "    zscore=(x-xmean)/xstd\n",
    "    return zscore\n",
    "Z=np.random.randint(10, size=(5,5))\n",
    "print(Z)\n",
    "zscore(Z)"
   ]
  },
  {
   "cell_type": "code",
   "execution_count": 108,
   "id": "0e2b0c72",
   "metadata": {},
   "outputs": [
    {
     "name": "stdout",
     "output_type": "stream",
     "text": [
      "[[4 9 5 6 9]\n",
      " [0 6 3 4 4]\n",
      " [9 9 4 1 0]\n",
      " [1 2 3 7 5]\n",
      " [9 7 3 4 4]]\n"
     ]
    },
    {
     "data": {
      "text/plain": [
       "array([[0.44, 1.  , 0.56, 0.67, 1.  ],\n",
       "       [0.  , 0.67, 0.33, 0.44, 0.44],\n",
       "       [1.  , 1.  , 0.44, 0.11, 0.  ],\n",
       "       [0.11, 0.22, 0.33, 0.78, 0.56],\n",
       "       [1.  , 0.78, 0.33, 0.44, 0.44]])"
      ]
     },
     "execution_count": 108,
     "metadata": {},
     "output_type": "execute_result"
    }
   ],
   "source": [
    "def min_max(x,axis=None):\n",
    "    min=x.min(axis=axis,keepdims=True)\n",
    "    max=x.max(axis=axis,keepdims=True)\n",
    "    result=(x-min)/(max-min)\n",
    "    return result\n",
    "\n",
    "Z=np.random.randint(10,size=(5,5))\n",
    "print(Z)\n",
    "min_max(Z)"
   ]
  },
  {
   "cell_type": "code",
   "execution_count": 109,
   "id": "4ede5f13",
   "metadata": {},
   "outputs": [
    {
     "name": "stdout",
     "output_type": "stream",
     "text": [
      "[[8 9 1 0 8]\n",
      " [5 6 6 4 1]\n",
      " [3 8 2 3 7]\n",
      " [5 4 9 2 1]\n",
      " [4 4 5 7 9]]\n"
     ]
    },
    {
     "data": {
      "text/plain": [
       "array([[0.55, 0.62, 0.07, 0.  , 0.55],\n",
       "       [0.47, 0.56, 0.56, 0.37, 0.09],\n",
       "       [0.26, 0.69, 0.17, 0.26, 0.6 ],\n",
       "       [0.44, 0.35, 0.8 , 0.18, 0.09],\n",
       "       [0.29, 0.29, 0.37, 0.51, 0.66]])"
      ]
     },
     "execution_count": 109,
     "metadata": {},
     "output_type": "execute_result"
    }
   ],
   "source": [
    "def l2_normalize(v,axis=-1,order=2):\n",
    "    l2=np.linalg.norm(v,ord=order,axis=axis,keepdims=True)\n",
    "    l2[l2==0]=1\n",
    "    return v/l2\n",
    "Z=np.random.randint(10,size=(5,5))\n",
    "print(Z)\n",
    "l2_normalize(Z)"
   ]
  },
  {
   "cell_type": "code",
   "execution_count": 110,
   "id": "3acd8a0f",
   "metadata": {},
   "outputs": [
    {
     "data": {
      "text/plain": [
       "array([[ 1.  , -0.06,  0.97],\n",
       "       [-0.06,  1.  , -0.01],\n",
       "       [ 0.97, -0.01,  1.  ]])"
      ]
     },
     "execution_count": 110,
     "metadata": {},
     "output_type": "execute_result"
    }
   ],
   "source": [
    "Z=np.array([\n",
    "    [1,2,1,9,10,3,2,6,7],\n",
    "    [2,1,8,3,7,5,10,7,2],\n",
    "    [2,1,1,8,9,4,3,5,7]])\n",
    "np.corrcoef(Z)"
   ]
  },
  {
   "cell_type": "code",
   "execution_count": 111,
   "id": "818e5191",
   "metadata": {},
   "outputs": [
    {
     "data": {
      "text/plain": [
       "(array([ 1.61e+01, -1.12e+00, -3.38e-16]),\n",
       " matrix([[-0.23, -0.79,  0.41],\n",
       "         [-0.53, -0.09, -0.82],\n",
       "         [-0.82,  0.61,  0.41]]))"
      ]
     },
     "execution_count": 111,
     "metadata": {},
     "output_type": "execute_result"
    }
   ],
   "source": [
    "M=np.matrix([[1,2,3],[4,5,6],[7,8,9]])\n",
    "w,v=np.linalg.eig(M)\n",
    "w,v"
   ]
  },
  {
   "cell_type": "code",
   "execution_count": 112,
   "id": "744133b1",
   "metadata": {},
   "outputs": [
    {
     "data": {
      "text/plain": [
       "matrix([[1., 2., 3.],\n",
       "        [4., 5., 6.],\n",
       "        [7., 8., 9.]])"
      ]
     },
     "execution_count": 112,
     "metadata": {},
     "output_type": "execute_result"
    }
   ],
   "source": [
    "v*np.diag(w)*np.linalg.inv(v)"
   ]
  },
  {
   "cell_type": "code",
   "execution_count": 113,
   "id": "73bc23f7",
   "metadata": {},
   "outputs": [
    {
     "name": "stdout",
     "output_type": "stream",
     "text": [
      "[7 5 2 1 3 6 1 9 7 4]\n",
      "[-2 -3 -1  2  3 -5  8 -2 -3]\n",
      "[ -1   2   3   1  -8  13 -10  -1]\n",
      "[  3   1  -2  -9  21 -23   9]\n"
     ]
    }
   ],
   "source": [
    "Z=np.random.randint(1,10,10)\n",
    "print(Z)\n",
    "print(np.diff(Z,n=1))\n",
    "print(np.diff(Z,n=2))\n",
    "print(np.diff(Z,n=3))"
   ]
  },
  {
   "cell_type": "code",
   "execution_count": 116,
   "id": "0f4f19df",
   "metadata": {},
   "outputs": [
    {
     "name": "stdout",
     "output_type": "stream",
     "text": [
      "[5 5 7 4 7 2 8 8 6 5]\n"
     ]
    },
    {
     "data": {
      "text/plain": [
       "array([ 5, 10, 17, 21, 28, 30, 38, 46, 52, 57], dtype=int32)"
      ]
     },
     "execution_count": 116,
     "metadata": {},
     "output_type": "execute_result"
    }
   ],
   "source": [
    "Z=np.random.randint(1,10,10)\n",
    "print(Z)\n",
    "np.cumsum(Z)"
   ]
  },
  {
   "cell_type": "code",
   "execution_count": 117,
   "id": "7773bee4",
   "metadata": {},
   "outputs": [
    {
     "data": {
      "text/plain": [
       "array([[1, 4],\n",
       "       [2, 5],\n",
       "       [3, 6]])"
      ]
     },
     "execution_count": 117,
     "metadata": {},
     "output_type": "execute_result"
    }
   ],
   "source": [
    "M1=np.array([1,2,3])\n",
    "M2=np.array([4,5,6])\n",
    "np.c_[M1,M2]"
   ]
  },
  {
   "cell_type": "code",
   "execution_count": 118,
   "id": "878e7404",
   "metadata": {},
   "outputs": [
    {
     "data": {
      "text/plain": [
       "array([1, 2, 3, 4, 5, 6])"
      ]
     },
     "execution_count": 118,
     "metadata": {},
     "output_type": "execute_result"
    }
   ],
   "source": [
    "M1=np.array([1,2,3])\n",
    "M2=np.array([4,5,6])\n",
    "np.r_[M1,M2]"
   ]
  },
  {
   "cell_type": "code",
   "execution_count": 119,
   "id": "fb3d98d9",
   "metadata": {},
   "outputs": [
    {
     "data": {
      "text/plain": [
       "array([[ 1.,  2.,  3.,  4.,  5.,  6.,  7.,  8.,  9.],\n",
       "       [ 2.,  4.,  6.,  8., 10., 12., 14., 16., 18.],\n",
       "       [ 3.,  6.,  9., 12., 15., 18., 21., 24., 27.],\n",
       "       [ 4.,  8., 12., 16., 20., 24., 28., 32., 36.],\n",
       "       [ 5., 10., 15., 20., 25., 30., 35., 40., 45.],\n",
       "       [ 6., 12., 18., 24., 30., 36., 42., 48., 54.],\n",
       "       [ 7., 14., 21., 28., 35., 42., 49., 56., 63.],\n",
       "       [ 8., 16., 24., 32., 40., 48., 56., 64., 72.],\n",
       "       [ 9., 18., 27., 36., 45., 54., 63., 72., 81.]])"
      ]
     },
     "execution_count": 119,
     "metadata": {},
     "output_type": "execute_result"
    }
   ],
   "source": [
    "np.fromfunction(lambda i, j: (i + 1) * (j + 1), (9, 9))"
   ]
  }
 ],
 "metadata": {
  "kernelspec": {
   "display_name": "Python 3 (ipykernel)",
   "language": "python",
   "name": "python3"
  },
  "language_info": {
   "codemirror_mode": {
    "name": "ipython",
    "version": 3
   },
   "file_extension": ".py",
   "mimetype": "text/x-python",
   "name": "python",
   "nbconvert_exporter": "python",
   "pygments_lexer": "ipython3",
   "version": "3.9.13"
  }
 },
 "nbformat": 4,
 "nbformat_minor": 5
}
