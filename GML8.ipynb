{
  "nbformat": 4,
  "nbformat_minor": 0,
  "metadata": {
    "colab": {
      "provenance": []
    },
    "kernelspec": {
      "name": "python3",
      "display_name": "Python 3"
    },
    "language_info": {
      "name": "python"
    }
  },
  "cells": [
    {
      "cell_type": "code",
      "source": [
        "#!pip install dgl -f https://data.dgl.ai/wheels/repo.html\n",
        "\n",
        "#!pip install dglgo -f https://data.dgl.ai/wheels-test/repo.html"
      ],
      "metadata": {
        "id": "svYZdSBIDaAN"
      },
      "execution_count": 499,
      "outputs": []
    },
    {
      "cell_type": "code",
      "execution_count": 500,
      "metadata": {
        "id": "cVdAdopoCSiO"
      },
      "outputs": [],
      "source": [
        "%matplotlib inline\n",
        "import os\n",
        "\n",
        "os.environ[\"DGLBACKEND\"] = \"pytorch\"\n",
        "import dgl\n",
        "import numpy as np\n",
        "import networkx as nx\n",
        "import torch\n",
        "import torch.nn as nn\n",
        "import dgl.function as fn"
      ]
    },
    {
      "cell_type": "markdown",
      "source": [
        "# My Graph"
      ],
      "metadata": {
        "id": "lLUp6mn23LRU"
      }
    },
    {
      "cell_type": "code",
      "source": [
        "f = dgl.graph(([0, 1, 2, 3], [1, 2, 3, 4]))"
      ],
      "metadata": {
        "id": "5Av-gpK-3HhF"
      },
      "execution_count": 501,
      "outputs": []
    },
    {
      "cell_type": "code",
      "source": [
        "g = dgl.heterograph({('Id', 'follower', 'Id'): (torch.tensor([1, 2, 3, 0]), torch.tensor([1, 2, 3, 0]))})"
      ],
      "metadata": {
        "id": "qKkMTQ3K4BJO"
      },
      "execution_count": 502,
      "outputs": []
    },
    {
      "cell_type": "markdown",
      "source": [
        "# Computing with DGLGraph"
      ],
      "metadata": {
        "id": "r7oegsIy4c6c"
      }
    },
    {
      "cell_type": "markdown",
      "source": [
        "DGLGraph.apply_nodes"
      ],
      "metadata": {
        "id": "9B5asbGn49CD"
      }
    },
    {
      "cell_type": "code",
      "source": [
        "f.ndata['h'] = torch.ones(5, 3)"
      ],
      "metadata": {
        "id": "QmsVZQLf34Qk"
      },
      "execution_count": 503,
      "outputs": []
    },
    {
      "cell_type": "code",
      "source": [
        "f.apply_nodes(lambda nodes: {'x' : nodes.data['h'] * 3})\n",
        "f.ndata['x']"
      ],
      "metadata": {
        "colab": {
          "base_uri": "https://localhost:8080/"
        },
        "id": "coMgvRWN4BHE",
        "outputId": "6d2f215d-2762-470b-c1d7-33ec881c5641"
      },
      "execution_count": 504,
      "outputs": [
        {
          "output_type": "execute_result",
          "data": {
            "text/plain": [
              "tensor([[3., 3., 3.],\n",
              "        [3., 3., 3.],\n",
              "        [3., 3., 3.],\n",
              "        [3., 3., 3.],\n",
              "        [3., 3., 3.]])"
            ]
          },
          "metadata": {},
          "execution_count": 504
        }
      ]
    },
    {
      "cell_type": "code",
      "source": [
        "g.nodes['Id'].data['h'] = torch.ones(4, 4)\n",
        "g.apply_nodes(lambda nodes: {'h': nodes.data['h'] * 5}, ntype='Id')\n",
        "g.nodes['Id'].data['h']"
      ],
      "metadata": {
        "colab": {
          "base_uri": "https://localhost:8080/"
        },
        "id": "d9zaIVD44euV",
        "outputId": "5e20f45f-e408-4e56-c3e8-e33d614a857d"
      },
      "execution_count": 505,
      "outputs": [
        {
          "output_type": "execute_result",
          "data": {
            "text/plain": [
              "tensor([[5., 5., 5., 5.],\n",
              "        [5., 5., 5., 5.],\n",
              "        [5., 5., 5., 5.],\n",
              "        [5., 5., 5., 5.]])"
            ]
          },
          "metadata": {},
          "execution_count": 505
        }
      ]
    },
    {
      "cell_type": "markdown",
      "source": [
        "DGLGraph.apply_edges"
      ],
      "metadata": {
        "id": "jIFBJ3HO4-7s"
      }
    },
    {
      "cell_type": "code",
      "source": [
        "f.ndata['h'] = torch.ones(5, 2)\n",
        "f.apply_edges(lambda edges: {'x' : edges.src['h'] + edges.dst['h']})\n",
        "f.edata['x']"
      ],
      "metadata": {
        "colab": {
          "base_uri": "https://localhost:8080/"
        },
        "id": "Qad6veUd5AJ8",
        "outputId": "503cfb26-a1a4-4aec-afe7-4000123980f8"
      },
      "execution_count": 506,
      "outputs": [
        {
          "output_type": "execute_result",
          "data": {
            "text/plain": [
              "tensor([[2., 2.],\n",
              "        [2., 2.],\n",
              "        [2., 2.],\n",
              "        [2., 2.]])"
            ]
          },
          "metadata": {},
          "execution_count": 506
        }
      ]
    },
    {
      "cell_type": "code",
      "source": [
        "f.apply_edges(fn.u_add_v('h', 'h', 'x'))\n",
        "f.edata['x']"
      ],
      "metadata": {
        "colab": {
          "base_uri": "https://localhost:8080/"
        },
        "id": "RZ1TIoH65M40",
        "outputId": "1b829fd2-e307-49bf-b41e-4668fa060464"
      },
      "execution_count": 507,
      "outputs": [
        {
          "output_type": "execute_result",
          "data": {
            "text/plain": [
              "tensor([[2., 2.],\n",
              "        [2., 2.],\n",
              "        [2., 2.],\n",
              "        [2., 2.]])"
            ]
          },
          "metadata": {},
          "execution_count": 507
        }
      ]
    },
    {
      "cell_type": "code",
      "source": [
        "g.edges[('Id', 'follower', 'Id')].data['h'] = torch.ones(4, 2)\n",
        "g.apply_edges(lambda edges: {'h': edges.data['h'] * 2})\n",
        "g.edges[('Id', 'follower', 'Id')].data['h']"
      ],
      "metadata": {
        "colab": {
          "base_uri": "https://localhost:8080/"
        },
        "id": "MRu1DDZe5O1s",
        "outputId": "93b0caa3-1bec-4c8d-d209-2d62e308ddec"
      },
      "execution_count": 508,
      "outputs": [
        {
          "output_type": "execute_result",
          "data": {
            "text/plain": [
              "tensor([[2., 2.],\n",
              "        [2., 2.],\n",
              "        [2., 2.],\n",
              "        [2., 2.]])"
            ]
          },
          "metadata": {},
          "execution_count": 508
        }
      ]
    },
    {
      "cell_type": "markdown",
      "source": [
        "DGLGraph.send_and_recv"
      ],
      "metadata": {
        "id": "fJSvn0lg5mN8"
      }
    },
    {
      "cell_type": "code",
      "source": [
        "f.ndata['x'] = torch.ones(5, 2)"
      ],
      "metadata": {
        "id": "QSojiW3N5nfs"
      },
      "execution_count": 509,
      "outputs": []
    },
    {
      "cell_type": "code",
      "source": [
        "f.send_and_recv(([1, 2], [2, 3]), fn.copy_u('x', 'm'), fn.sum('m', 'h'))\n",
        "f.ndata['h']"
      ],
      "metadata": {
        "colab": {
          "base_uri": "https://localhost:8080/"
        },
        "id": "YS-nZAdY6DRz",
        "outputId": "dafc6d50-f58d-495a-85fb-efd6235e0b4b"
      },
      "execution_count": 510,
      "outputs": [
        {
          "output_type": "execute_result",
          "data": {
            "text/plain": [
              "tensor([[1., 1.],\n",
              "        [1., 1.],\n",
              "        [1., 1.],\n",
              "        [1., 1.],\n",
              "        [1., 1.]])"
            ]
          },
          "metadata": {},
          "execution_count": 510
        }
      ]
    },
    {
      "cell_type": "code",
      "source": [
        "f.send_and_recv([0, 2, 3], fn.copy_u('x', 'm'), fn.sum('m', 'h'))\n",
        "f.ndata['h']"
      ],
      "metadata": {
        "colab": {
          "base_uri": "https://localhost:8080/"
        },
        "id": "GEY1gOyC6DWs",
        "outputId": "f9a72a96-57fa-458f-a7fc-14f2f01e235e"
      },
      "execution_count": 511,
      "outputs": [
        {
          "output_type": "execute_result",
          "data": {
            "text/plain": [
              "tensor([[1., 1.],\n",
              "        [1., 1.],\n",
              "        [1., 1.],\n",
              "        [1., 1.],\n",
              "        [1., 1.]])"
            ]
          },
          "metadata": {},
          "execution_count": 511
        }
      ]
    },
    {
      "cell_type": "code",
      "source": [
        "g.nodes['Id'].data['h'] = torch.tensor([[0.], [1.], [2.], [3]])\n",
        "g.send_and_recv(g['follower'].edges(), fn.copy_u('h', 'm'),\n",
        "                fn.sum('m', 'h'), etype='follower')\n",
        "g.nodes['Id'].data['h']"
      ],
      "metadata": {
        "colab": {
          "base_uri": "https://localhost:8080/"
        },
        "id": "-0hZX2Cm6Db3",
        "outputId": "3528d4b9-61e4-4f7f-9810-271956f930d3"
      },
      "execution_count": 512,
      "outputs": [
        {
          "output_type": "execute_result",
          "data": {
            "text/plain": [
              "tensor([[0.],\n",
              "        [1.],\n",
              "        [2.],\n",
              "        [3.]])"
            ]
          },
          "metadata": {},
          "execution_count": 512
        }
      ]
    },
    {
      "cell_type": "code",
      "source": [
        "# Define the function for sending node features as messages.\n",
        "def send_source(edges):\n",
        "    return {'m': edges.src['x']}\n",
        "# Sum the messages received and use this to replace the original node feature.\n",
        "def simple_reduce(nodes):\n",
        "    return {'x': nodes.mailbox['m'].sum(1)}"
      ],
      "metadata": {
        "id": "BEQNAX5d7Ewl"
      },
      "execution_count": 513,
      "outputs": []
    },
    {
      "cell_type": "code",
      "source": [
        "f.send_and_recv(f.edges(), send_source, simple_reduce)\n",
        "f.ndata['x']"
      ],
      "metadata": {
        "colab": {
          "base_uri": "https://localhost:8080/"
        },
        "id": "dCbE394S7E0s",
        "outputId": "d811d22c-3b73-41cf-a508-970c524f99de"
      },
      "execution_count": 514,
      "outputs": [
        {
          "output_type": "execute_result",
          "data": {
            "text/plain": [
              "tensor([[1., 1.],\n",
              "        [1., 1.],\n",
              "        [1., 1.],\n",
              "        [1., 1.],\n",
              "        [1., 1.]])"
            ]
          },
          "metadata": {},
          "execution_count": 514
        }
      ]
    },
    {
      "cell_type": "markdown",
      "source": [
        "DGLGraph.pull"
      ],
      "metadata": {
        "id": "192UHMJZ-5ec"
      }
    },
    {
      "cell_type": "code",
      "source": [
        "f.ndata['x'] = torch.ones(5, 2)\n",
        "f.pull([0, 3, 4], fn.copy_u('x', 'm'), fn.sum('m', 'h'))\n",
        "f.ndata['h']"
      ],
      "metadata": {
        "colab": {
          "base_uri": "https://localhost:8080/"
        },
        "id": "REhctP1P8hIl",
        "outputId": "819eb71c-26dd-49d1-8e42-fa4d042ca4ac"
      },
      "execution_count": 515,
      "outputs": [
        {
          "output_type": "execute_result",
          "data": {
            "text/plain": [
              "tensor([[0., 0.],\n",
              "        [1., 1.],\n",
              "        [1., 1.],\n",
              "        [1., 1.],\n",
              "        [1., 1.]])"
            ]
          },
          "metadata": {},
          "execution_count": 515
        }
      ]
    },
    {
      "cell_type": "code",
      "source": [
        "#g.nodes['Id'].data['h'] = torch.tensor([[0.], [1.], [2.], [3.]])\n",
        "g['follower'].pull(2, fn.copy_u('h', 'm'), fn.sum('m', 'h'), etype='follower')\n",
        "g.nodes['Id'].data['h']"
      ],
      "metadata": {
        "colab": {
          "base_uri": "https://localhost:8080/"
        },
        "id": "um4W0yry_H9N",
        "outputId": "7ff3bffd-5e84-4830-ca2f-4a200eb2b8fb"
      },
      "execution_count": 516,
      "outputs": [
        {
          "output_type": "execute_result",
          "data": {
            "text/plain": [
              "tensor([[0.],\n",
              "        [1.],\n",
              "        [2.],\n",
              "        [3.]])"
            ]
          },
          "metadata": {},
          "execution_count": 516
        }
      ]
    },
    {
      "cell_type": "markdown",
      "source": [
        "DGLGraph.push"
      ],
      "metadata": {
        "id": "ekZOk9Rq_Yim"
      }
    },
    {
      "cell_type": "code",
      "source": [
        "f.ndata['x'] = torch.ones(5, 2)\n",
        "f.push([0, 1], fn.copy_u('x', 'm'), fn.sum('m', 'h'))\n",
        "f.ndata['h']"
      ],
      "metadata": {
        "colab": {
          "base_uri": "https://localhost:8080/"
        },
        "id": "GGHFb_WH_aWX",
        "outputId": "b0158db4-ea19-452d-8a0e-f4d3747f0901"
      },
      "execution_count": 517,
      "outputs": [
        {
          "output_type": "execute_result",
          "data": {
            "text/plain": [
              "tensor([[0., 0.],\n",
              "        [1., 1.],\n",
              "        [1., 1.],\n",
              "        [1., 1.],\n",
              "        [1., 1.]])"
            ]
          },
          "metadata": {},
          "execution_count": 517
        }
      ]
    },
    {
      "cell_type": "code",
      "source": [
        "#g.nodes['Id'].data['h'] = torch.tensor([[0.], [1.], [2.], [3.]])\n",
        "g['follower'].push(0, fn.copy_u('h', 'm'), fn.sum('m', 'h'), etype='follower')\n",
        "g.nodes['Id'].data['h']"
      ],
      "metadata": {
        "colab": {
          "base_uri": "https://localhost:8080/"
        },
        "id": "L4UJV2Vz_gsQ",
        "outputId": "b6d11558-3e63-4b30-a586-37528ff01271"
      },
      "execution_count": 518,
      "outputs": [
        {
          "output_type": "execute_result",
          "data": {
            "text/plain": [
              "tensor([[0.],\n",
              "        [1.],\n",
              "        [2.],\n",
              "        [3.]])"
            ]
          },
          "metadata": {},
          "execution_count": 518
        }
      ]
    },
    {
      "cell_type": "markdown",
      "source": [
        "DGLGraph.update_all"
      ],
      "metadata": {
        "id": "D80Knyhj_q_f"
      }
    },
    {
      "cell_type": "code",
      "source": [
        "f.update_all(fn.copy_u('x', 'm'), fn.sum('m', 'h'))\n",
        "f.ndata['h']"
      ],
      "metadata": {
        "colab": {
          "base_uri": "https://localhost:8080/"
        },
        "id": "KsVC9AIt_sJe",
        "outputId": "b6c038a1-e842-40a7-8be2-720fad50171b"
      },
      "execution_count": 519,
      "outputs": [
        {
          "output_type": "execute_result",
          "data": {
            "text/plain": [
              "tensor([[0., 0.],\n",
              "        [1., 1.],\n",
              "        [1., 1.],\n",
              "        [1., 1.],\n",
              "        [1., 1.]])"
            ]
          },
          "metadata": {},
          "execution_count": 519
        }
      ]
    },
    {
      "cell_type": "code",
      "source": [
        "g['follower'].update_all(fn.copy_u('h', 'm'), fn.sum('m', 'h'), etype='follower')\n",
        "g.nodes['Id'].data['h']"
      ],
      "metadata": {
        "colab": {
          "base_uri": "https://localhost:8080/"
        },
        "id": "IVWyEgc7_xC5",
        "outputId": "e4dd7240-84b1-4750-a6f5-71885f71aa42"
      },
      "execution_count": 520,
      "outputs": [
        {
          "output_type": "execute_result",
          "data": {
            "text/plain": [
              "tensor([[0.],\n",
              "        [1.],\n",
              "        [2.],\n",
              "        [3.]])"
            ]
          },
          "metadata": {},
          "execution_count": 520
        }
      ]
    },
    {
      "cell_type": "code",
      "source": [
        "g.nodes['Id'].data['h'] = torch.tensor([[0.], [1.], [2.], [3.]])\n",
        "g.update_all(fn.copy_u('h', 'm'), fn.sum('m', 'h'))\n",
        "g.nodes['Id'].data['h']"
      ],
      "metadata": {
        "colab": {
          "base_uri": "https://localhost:8080/"
        },
        "id": "hxKuLO4BAVqU",
        "outputId": "ab76c148-9863-4414-d324-5bfc0280b427"
      },
      "execution_count": 521,
      "outputs": [
        {
          "output_type": "execute_result",
          "data": {
            "text/plain": [
              "tensor([[0.],\n",
              "        [1.],\n",
              "        [2.],\n",
              "        [3.]])"
            ]
          },
          "metadata": {},
          "execution_count": 521
        }
      ]
    },
    {
      "cell_type": "markdown",
      "source": [
        "# dgl.function"
      ],
      "metadata": {
        "id": "-tv3B6E8CF2P"
      }
    },
    {
      "cell_type": "code",
      "source": [
        "f.ndata['h']"
      ],
      "metadata": {
        "colab": {
          "base_uri": "https://localhost:8080/"
        },
        "id": "sJ9_vq5EFzYo",
        "outputId": "f144e5b6-c4da-48c2-ef14-c831b36a3cfa"
      },
      "execution_count": 522,
      "outputs": [
        {
          "output_type": "execute_result",
          "data": {
            "text/plain": [
              "tensor([[0., 0.],\n",
              "        [1., 1.],\n",
              "        [1., 1.],\n",
              "        [1., 1.],\n",
              "        [1., 1.]])"
            ]
          },
          "metadata": {},
          "execution_count": 522
        }
      ]
    },
    {
      "cell_type": "code",
      "source": [
        "f.edata['x']"
      ],
      "metadata": {
        "colab": {
          "base_uri": "https://localhost:8080/"
        },
        "id": "veA3dTueF3fA",
        "outputId": "d9e46fce-88b6-4b12-8570-f2c1a5a2438d"
      },
      "execution_count": 523,
      "outputs": [
        {
          "output_type": "execute_result",
          "data": {
            "text/plain": [
              "tensor([[2., 2.],\n",
              "        [2., 2.],\n",
              "        [2., 2.],\n",
              "        [2., 2.]])"
            ]
          },
          "metadata": {},
          "execution_count": 523
        }
      ]
    },
    {
      "cell_type": "code",
      "source": [
        "g.ndata['h']"
      ],
      "metadata": {
        "colab": {
          "base_uri": "https://localhost:8080/"
        },
        "id": "vOTP2QHwGAAm",
        "outputId": "719afeed-8772-42a9-c0ff-c04b3acbad02"
      },
      "execution_count": 524,
      "outputs": [
        {
          "output_type": "execute_result",
          "data": {
            "text/plain": [
              "tensor([[0.],\n",
              "        [1.],\n",
              "        [2.],\n",
              "        [3.]])"
            ]
          },
          "metadata": {},
          "execution_count": 524
        }
      ]
    },
    {
      "cell_type": "code",
      "source": [
        "g.edata['h']"
      ],
      "metadata": {
        "colab": {
          "base_uri": "https://localhost:8080/"
        },
        "id": "kOLt-LPVGCHv",
        "outputId": "838ed234-cb2d-48fd-dfc2-8a25ef168e10"
      },
      "execution_count": 525,
      "outputs": [
        {
          "output_type": "execute_result",
          "data": {
            "text/plain": [
              "tensor([[2., 2.],\n",
              "        [2., 2.],\n",
              "        [2., 2.],\n",
              "        [2., 2.]])"
            ]
          },
          "metadata": {},
          "execution_count": 525
        }
      ]
    },
    {
      "cell_type": "code",
      "source": [
        "f1 = f\n",
        "g1 = g"
      ],
      "metadata": {
        "id": "8lssr235H1rR"
      },
      "execution_count": 526,
      "outputs": []
    },
    {
      "cell_type": "markdown",
      "source": [
        "copy_u\n"
      ],
      "metadata": {
        "id": "Zr9tYxR6C3cs"
      }
    },
    {
      "cell_type": "code",
      "source": [
        "def message_func(edges):\n",
        "    return {'m': edges.src['h']}"
      ],
      "metadata": {
        "id": "H78xP8t9C9zj"
      },
      "execution_count": 527,
      "outputs": []
    },
    {
      "cell_type": "code",
      "source": [
        "f.update_all(message_func, fn.sum('m', 'h'))"
      ],
      "metadata": {
        "id": "bv2J537QOl9m"
      },
      "execution_count": 528,
      "outputs": []
    },
    {
      "cell_type": "code",
      "source": [
        "f.ndata['h']"
      ],
      "metadata": {
        "colab": {
          "base_uri": "https://localhost:8080/"
        },
        "id": "fcYByZDAOt8X",
        "outputId": "be3de9ba-8fc5-4fd7-f8c2-15e9480ea5af"
      },
      "execution_count": 529,
      "outputs": [
        {
          "output_type": "execute_result",
          "data": {
            "text/plain": [
              "tensor([[0., 0.],\n",
              "        [0., 0.],\n",
              "        [1., 1.],\n",
              "        [1., 1.],\n",
              "        [1., 1.]])"
            ]
          },
          "metadata": {},
          "execution_count": 529
        }
      ]
    },
    {
      "cell_type": "code",
      "source": [
        "g.update_all(message_func, fn.sum('m', 'h'))"
      ],
      "metadata": {
        "id": "D4tYAqeyPyYe"
      },
      "execution_count": 530,
      "outputs": []
    },
    {
      "cell_type": "code",
      "source": [
        "g.ndata['h']"
      ],
      "metadata": {
        "colab": {
          "base_uri": "https://localhost:8080/"
        },
        "id": "90utLhyKP93X",
        "outputId": "cbd9986a-7aba-4bc4-93b1-0b3c8ee66df0"
      },
      "execution_count": 531,
      "outputs": [
        {
          "output_type": "execute_result",
          "data": {
            "text/plain": [
              "tensor([[0.],\n",
              "        [1.],\n",
              "        [2.],\n",
              "        [3.]])"
            ]
          },
          "metadata": {},
          "execution_count": 531
        }
      ]
    },
    {
      "cell_type": "markdown",
      "source": [
        "copy_e"
      ],
      "metadata": {
        "id": "rKpEmzjvDEY0"
      }
    },
    {
      "cell_type": "code",
      "source": [
        "f1 = f"
      ],
      "metadata": {
        "id": "m73HiRkBPD5X"
      },
      "execution_count": 532,
      "outputs": []
    },
    {
      "cell_type": "code",
      "source": [
        "def message_func(edges):\n",
        "    return {'m': edges.data['x']}"
      ],
      "metadata": {
        "id": "Vjw3J5gHD3on"
      },
      "execution_count": 533,
      "outputs": []
    },
    {
      "cell_type": "code",
      "source": [
        "f.update_all(message_func, fn.sum('m', 'x'))"
      ],
      "metadata": {
        "id": "sf2jP6aOOz_k"
      },
      "execution_count": 534,
      "outputs": []
    },
    {
      "cell_type": "code",
      "source": [
        "f.ndata['x']"
      ],
      "metadata": {
        "colab": {
          "base_uri": "https://localhost:8080/"
        },
        "outputId": "071f3bed-e932-4c66-ccb4-12f212a53c22",
        "id": "2LjMspDYOz_k"
      },
      "execution_count": 535,
      "outputs": [
        {
          "output_type": "execute_result",
          "data": {
            "text/plain": [
              "tensor([[0., 0.],\n",
              "        [2., 2.],\n",
              "        [2., 2.],\n",
              "        [2., 2.],\n",
              "        [2., 2.]])"
            ]
          },
          "metadata": {},
          "execution_count": 535
        }
      ]
    },
    {
      "cell_type": "markdown",
      "source": [
        "u_add_v"
      ],
      "metadata": {
        "id": "NNjfNedSECwA"
      }
    },
    {
      "cell_type": "code",
      "source": [
        "f1 = f"
      ],
      "metadata": {
        "id": "3b2CmLvuPqZn"
      },
      "execution_count": 536,
      "outputs": []
    },
    {
      "cell_type": "code",
      "source": [
        "f.update_all(fn.u_add_v('h', 'x', 'm'), fn.sum('m', 'h_new'))\n",
        "f.ndata['h_new']"
      ],
      "metadata": {
        "colab": {
          "base_uri": "https://localhost:8080/"
        },
        "id": "H0bLlL5GG3Q0",
        "outputId": "b765877e-8b2a-41b2-e114-7a0d9701e0cf"
      },
      "execution_count": 537,
      "outputs": [
        {
          "output_type": "execute_result",
          "data": {
            "text/plain": [
              "tensor([[0., 0.],\n",
              "        [2., 2.],\n",
              "        [2., 2.],\n",
              "        [3., 3.],\n",
              "        [3., 3.]])"
            ]
          },
          "metadata": {},
          "execution_count": 537
        }
      ]
    },
    {
      "cell_type": "code",
      "source": [
        "g.update_all(fn.u_add_v('h', 'h', 'm'), fn.sum('m', 'g_new'))\n",
        "g.ndata['g_new']"
      ],
      "metadata": {
        "colab": {
          "base_uri": "https://localhost:8080/"
        },
        "outputId": "ce99223d-af53-4aa7-aac0-2a533ea937df",
        "id": "GB6jr0afJia0"
      },
      "execution_count": 538,
      "outputs": [
        {
          "output_type": "execute_result",
          "data": {
            "text/plain": [
              "tensor([[0.],\n",
              "        [2.],\n",
              "        [4.],\n",
              "        [6.]])"
            ]
          },
          "metadata": {},
          "execution_count": 538
        }
      ]
    },
    {
      "cell_type": "markdown",
      "source": [
        "u_mul_v\n"
      ],
      "metadata": {
        "id": "_qxILZEVEC3y"
      }
    },
    {
      "cell_type": "code",
      "source": [
        "f = f1"
      ],
      "metadata": {
        "id": "LYS1WypLH-bp"
      },
      "execution_count": 539,
      "outputs": []
    },
    {
      "cell_type": "code",
      "source": [
        "f.update_all(fn.u_mul_v('h', 'x', 'm'), fn.sum('m', 'h_new'))\n",
        "f.ndata['h_new']"
      ],
      "metadata": {
        "colab": {
          "base_uri": "https://localhost:8080/"
        },
        "id": "ZR2H4TZOHnK4",
        "outputId": "0bc2574e-16cc-4561-c63d-951b7f24539f"
      },
      "execution_count": 540,
      "outputs": [
        {
          "output_type": "execute_result",
          "data": {
            "text/plain": [
              "tensor([[0., 0.],\n",
              "        [0., 0.],\n",
              "        [0., 0.],\n",
              "        [2., 2.],\n",
              "        [2., 2.]])"
            ]
          },
          "metadata": {},
          "execution_count": 540
        }
      ]
    },
    {
      "cell_type": "code",
      "source": [
        "g = g1"
      ],
      "metadata": {
        "id": "JJd2myaGJTaz"
      },
      "execution_count": 541,
      "outputs": []
    },
    {
      "cell_type": "code",
      "source": [
        "g.update_all(fn.u_mul_v('h', 'h', 'm'), fn.sum('m', 'g_new'))\n",
        "g.ndata['g_new']"
      ],
      "metadata": {
        "colab": {
          "base_uri": "https://localhost:8080/"
        },
        "outputId": "90d6d005-1cfa-4141-ba16-68994461190a",
        "id": "n5Uj0iEiJTa9"
      },
      "execution_count": 542,
      "outputs": [
        {
          "output_type": "execute_result",
          "data": {
            "text/plain": [
              "tensor([[0.],\n",
              "        [1.],\n",
              "        [4.],\n",
              "        [9.]])"
            ]
          },
          "metadata": {},
          "execution_count": 542
        }
      ]
    },
    {
      "cell_type": "markdown",
      "source": [
        "v_add_e\n"
      ],
      "metadata": {
        "id": "vPgRx9nWEC9z"
      }
    },
    {
      "cell_type": "code",
      "source": [
        "f = f1"
      ],
      "metadata": {
        "id": "S22J7BbqIFj6"
      },
      "execution_count": 543,
      "outputs": []
    },
    {
      "cell_type": "code",
      "source": [
        "f.update_all(fn.v_add_e('h', 'x', 'm'), fn.sum('m', 'h_new'))\n",
        "f.ndata['h_new']"
      ],
      "metadata": {
        "colab": {
          "base_uri": "https://localhost:8080/"
        },
        "outputId": "9e602e04-7b3d-4f49-84ed-a161fc4c3da5",
        "id": "yJN9St7ZIFj7"
      },
      "execution_count": 544,
      "outputs": [
        {
          "output_type": "execute_result",
          "data": {
            "text/plain": [
              "tensor([[0., 0.],\n",
              "        [2., 2.],\n",
              "        [3., 3.],\n",
              "        [3., 3.],\n",
              "        [3., 3.]])"
            ]
          },
          "metadata": {},
          "execution_count": 544
        }
      ]
    },
    {
      "cell_type": "code",
      "source": [
        "g = g1"
      ],
      "metadata": {
        "id": "Ar3AFcBOJqvS"
      },
      "execution_count": 545,
      "outputs": []
    },
    {
      "cell_type": "code",
      "source": [
        "g.update_all(fn.v_add_e('h', 'h', 'm'), fn.sum('m', 'g_new'))\n",
        "g.ndata['g_new']"
      ],
      "metadata": {
        "colab": {
          "base_uri": "https://localhost:8080/"
        },
        "outputId": "6d46eab5-2d68-401f-8576-d62d4bf1272b",
        "id": "foK1I9HJJqvb"
      },
      "execution_count": 546,
      "outputs": [
        {
          "output_type": "execute_result",
          "data": {
            "text/plain": [
              "tensor([[2., 2.],\n",
              "        [3., 3.],\n",
              "        [4., 4.],\n",
              "        [5., 5.]])"
            ]
          },
          "metadata": {},
          "execution_count": 546
        }
      ]
    },
    {
      "cell_type": "markdown",
      "source": [
        "v_mul_e"
      ],
      "metadata": {
        "id": "ecNBHp7BEDAu"
      }
    },
    {
      "cell_type": "code",
      "source": [
        "f = f1"
      ],
      "metadata": {
        "id": "S7_9_6vtIGjX"
      },
      "execution_count": 547,
      "outputs": []
    },
    {
      "cell_type": "code",
      "source": [
        "f.update_all(fn.v_mul_e('h', 'x', 'm'), fn.sum('m', 'h_new'))\n",
        "f.ndata['h_new']"
      ],
      "metadata": {
        "colab": {
          "base_uri": "https://localhost:8080/"
        },
        "outputId": "de9ce251-0cbc-44c2-d17c-a15c95e78199",
        "id": "le-w1ooaIGjg"
      },
      "execution_count": 548,
      "outputs": [
        {
          "output_type": "execute_result",
          "data": {
            "text/plain": [
              "tensor([[0., 0.],\n",
              "        [0., 0.],\n",
              "        [2., 2.],\n",
              "        [2., 2.],\n",
              "        [2., 2.]])"
            ]
          },
          "metadata": {},
          "execution_count": 548
        }
      ]
    },
    {
      "cell_type": "code",
      "source": [
        "g = g1"
      ],
      "metadata": {
        "id": "3rRup6ZAJvfc"
      },
      "execution_count": 549,
      "outputs": []
    },
    {
      "cell_type": "code",
      "source": [
        "g.update_all(fn.v_mul_e('h', 'h', 'm'), fn.sum('m', 'g_new'))\n",
        "g.ndata['g_new']"
      ],
      "metadata": {
        "colab": {
          "base_uri": "https://localhost:8080/"
        },
        "outputId": "506edae7-fcc3-4926-ee22-7a1d08e8d5f7",
        "id": "6dBBQFHkJvfd"
      },
      "execution_count": 550,
      "outputs": [
        {
          "output_type": "execute_result",
          "data": {
            "text/plain": [
              "tensor([[0., 0.],\n",
              "        [2., 2.],\n",
              "        [4., 4.],\n",
              "        [6., 6.]])"
            ]
          },
          "metadata": {},
          "execution_count": 550
        }
      ]
    },
    {
      "cell_type": "markdown",
      "source": [
        "v_add_u"
      ],
      "metadata": {
        "id": "zQuTbI9WEDFX"
      }
    },
    {
      "cell_type": "code",
      "source": [
        "f = f1"
      ],
      "metadata": {
        "id": "ZrpgSUzZIIiq"
      },
      "execution_count": 551,
      "outputs": []
    },
    {
      "cell_type": "code",
      "source": [
        "f.update_all(fn.v_add_u('h', 'x', 'm'), fn.sum('m', 'h_new'))\n",
        "f.ndata['h_new']"
      ],
      "metadata": {
        "colab": {
          "base_uri": "https://localhost:8080/"
        },
        "outputId": "389a0b53-ae0e-4083-ef8a-af18b071f98a",
        "id": "2p3DjgFSIIix"
      },
      "execution_count": 552,
      "outputs": [
        {
          "output_type": "execute_result",
          "data": {
            "text/plain": [
              "tensor([[0., 0.],\n",
              "        [0., 0.],\n",
              "        [3., 3.],\n",
              "        [3., 3.],\n",
              "        [3., 3.]])"
            ]
          },
          "metadata": {},
          "execution_count": 552
        }
      ]
    },
    {
      "cell_type": "code",
      "source": [
        "g = g1"
      ],
      "metadata": {
        "id": "k5ApqtIgJzEN"
      },
      "execution_count": 553,
      "outputs": []
    },
    {
      "cell_type": "code",
      "source": [
        "g.update_all(fn.v_add_u('h', 'h', 'm'), fn.sum('m', 'g_new'))\n",
        "g.ndata['g_new']"
      ],
      "metadata": {
        "colab": {
          "base_uri": "https://localhost:8080/"
        },
        "outputId": "f4034f75-63e5-4129-b299-b49ef07de6a5",
        "id": "FHPHxqIaJzEW"
      },
      "execution_count": 554,
      "outputs": [
        {
          "output_type": "execute_result",
          "data": {
            "text/plain": [
              "tensor([[0.],\n",
              "        [2.],\n",
              "        [4.],\n",
              "        [6.]])"
            ]
          },
          "metadata": {},
          "execution_count": 554
        }
      ]
    },
    {
      "cell_type": "markdown",
      "source": [
        "v_mul_u"
      ],
      "metadata": {
        "id": "-MeSGZXmEDGp"
      }
    },
    {
      "cell_type": "code",
      "source": [
        "f = f1"
      ],
      "metadata": {
        "id": "NzcBCf6KIJLc"
      },
      "execution_count": 555,
      "outputs": []
    },
    {
      "cell_type": "code",
      "source": [
        "f.update_all(fn.v_mul_u('h', 'x', 'm'), fn.sum('m', 'h_new'))\n",
        "f.ndata['h_new']"
      ],
      "metadata": {
        "colab": {
          "base_uri": "https://localhost:8080/"
        },
        "outputId": "d3ea4eff-1411-43a0-efc1-1e574f319e64",
        "id": "kMZsm9veIJLd"
      },
      "execution_count": 556,
      "outputs": [
        {
          "output_type": "execute_result",
          "data": {
            "text/plain": [
              "tensor([[0., 0.],\n",
              "        [0., 0.],\n",
              "        [2., 2.],\n",
              "        [2., 2.],\n",
              "        [2., 2.]])"
            ]
          },
          "metadata": {},
          "execution_count": 556
        }
      ]
    },
    {
      "cell_type": "code",
      "source": [
        "g = g1"
      ],
      "metadata": {
        "id": "sWUWNPQNJ2i_"
      },
      "execution_count": 557,
      "outputs": []
    },
    {
      "cell_type": "code",
      "source": [
        "g.update_all(fn.v_mul_u('h', 'h', 'm'), fn.sum('m', 'g_new'))\n",
        "g.ndata['g_new']"
      ],
      "metadata": {
        "colab": {
          "base_uri": "https://localhost:8080/"
        },
        "outputId": "fd17770f-72ee-4acb-f93b-70f14d291832",
        "id": "zUbHnOJcJ2jA"
      },
      "execution_count": 558,
      "outputs": [
        {
          "output_type": "execute_result",
          "data": {
            "text/plain": [
              "tensor([[0.],\n",
              "        [1.],\n",
              "        [4.],\n",
              "        [9.]])"
            ]
          },
          "metadata": {},
          "execution_count": 558
        }
      ]
    },
    {
      "cell_type": "markdown",
      "source": [
        "u_add_e"
      ],
      "metadata": {
        "id": "PSTDzJ6BEKuX"
      }
    },
    {
      "cell_type": "code",
      "source": [
        "f = f1"
      ],
      "metadata": {
        "id": "MWowLXHQIJk_"
      },
      "execution_count": 559,
      "outputs": []
    },
    {
      "cell_type": "code",
      "source": [
        "f.update_all(fn.u_add_e('h', 'x', 'm'), fn.sum('m', 'h_new'))\n",
        "f.ndata['h_new']"
      ],
      "metadata": {
        "colab": {
          "base_uri": "https://localhost:8080/"
        },
        "outputId": "15f8982c-a0da-47e9-902a-606f7dd1fb60",
        "id": "J7qRm6d7IJk_"
      },
      "execution_count": 560,
      "outputs": [
        {
          "output_type": "execute_result",
          "data": {
            "text/plain": [
              "tensor([[0., 0.],\n",
              "        [2., 2.],\n",
              "        [2., 2.],\n",
              "        [3., 3.],\n",
              "        [3., 3.]])"
            ]
          },
          "metadata": {},
          "execution_count": 560
        }
      ]
    },
    {
      "cell_type": "code",
      "source": [
        "g = g1"
      ],
      "metadata": {
        "id": "sJeajBNgJ_HF"
      },
      "execution_count": 561,
      "outputs": []
    },
    {
      "cell_type": "code",
      "source": [
        "g.update_all(fn.u_add_e('h', 'h', 'm'), fn.sum('m', 'g_new'))\n",
        "g.ndata['g_new']"
      ],
      "metadata": {
        "colab": {
          "base_uri": "https://localhost:8080/"
        },
        "outputId": "0668a3da-d4db-4f7e-ceaa-0c9a88f9eee2",
        "id": "L1S0eZnQJ_HO"
      },
      "execution_count": 562,
      "outputs": [
        {
          "output_type": "execute_result",
          "data": {
            "text/plain": [
              "tensor([[2., 2.],\n",
              "        [3., 3.],\n",
              "        [4., 4.],\n",
              "        [5., 5.]])"
            ]
          },
          "metadata": {},
          "execution_count": 562
        }
      ]
    },
    {
      "cell_type": "markdown",
      "source": [
        "u_mul_e"
      ],
      "metadata": {
        "id": "GdlTU5HMEKwo"
      }
    },
    {
      "cell_type": "code",
      "source": [
        "f = f1"
      ],
      "metadata": {
        "id": "gHlKIAovIKBS"
      },
      "execution_count": 563,
      "outputs": []
    },
    {
      "cell_type": "code",
      "source": [
        "f.update_all(fn.u_mul_e('h', 'x', 'm'), fn.sum('m', 'h_new'))\n",
        "f.ndata['h_new']"
      ],
      "metadata": {
        "colab": {
          "base_uri": "https://localhost:8080/"
        },
        "outputId": "2f0b32e5-d580-49ff-c724-adc0686f4477",
        "id": "W-4JudwyIKBT"
      },
      "execution_count": 564,
      "outputs": [
        {
          "output_type": "execute_result",
          "data": {
            "text/plain": [
              "tensor([[0., 0.],\n",
              "        [0., 0.],\n",
              "        [0., 0.],\n",
              "        [2., 2.],\n",
              "        [2., 2.]])"
            ]
          },
          "metadata": {},
          "execution_count": 564
        }
      ]
    },
    {
      "cell_type": "code",
      "source": [
        "g = g1"
      ],
      "metadata": {
        "id": "EG184EwQKEJ_"
      },
      "execution_count": 565,
      "outputs": []
    },
    {
      "cell_type": "code",
      "source": [
        "g.update_all(fn.u_mul_e('h', 'h', 'm'), fn.sum('m', 'g_new'))\n",
        "g.ndata['g_new']"
      ],
      "metadata": {
        "colab": {
          "base_uri": "https://localhost:8080/"
        },
        "outputId": "5d6348aa-f189-4eb1-80d3-9bc358896a40",
        "id": "Ocr0Huf9KEJ_"
      },
      "execution_count": 566,
      "outputs": [
        {
          "output_type": "execute_result",
          "data": {
            "text/plain": [
              "tensor([[0., 0.],\n",
              "        [2., 2.],\n",
              "        [4., 4.],\n",
              "        [6., 6.]])"
            ]
          },
          "metadata": {},
          "execution_count": 566
        }
      ]
    }
  ]
}