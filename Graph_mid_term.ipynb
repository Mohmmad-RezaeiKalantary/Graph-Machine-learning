{
  "nbformat": 4,
  "nbformat_minor": 0,
  "metadata": {
    "colab": {
      "provenance": []
    },
    "kernelspec": {
      "name": "python3",
      "display_name": "Python 3"
    },
    "language_info": {
      "name": "python"
    }
  },
  "cells": [
    {
      "cell_type": "markdown",
      "source": [
        "# Question 1\n"
      ],
      "metadata": {
        "id": "RJONQoEw4lS4"
      }
    },
    {
      "cell_type": "code",
      "source": [
        "import networkx as nx\n",
        "import pandas as pd\n",
        "import cv2\n",
        "from google.colab.patches import cv2_imshow"
      ],
      "metadata": {
        "id": "NOSDvmrkmffh"
      },
      "execution_count": 70,
      "outputs": []
    },
    {
      "cell_type": "code",
      "execution_count": 71,
      "metadata": {
        "id": "WfHXsZzskNxZ"
      },
      "outputs": [],
      "source": [
        "graph = {\n",
        "    '1': ['2', '3'],\n",
        "    '2': ['1', '3', '4' , '5'],\n",
        "    '3': ['1', '2'],\n",
        "    '4': ['2'],\n",
        "    '5': ['2', '6'],\n",
        "    '6': ['5']\n",
        "}\n",
        "\n",
        "# Create a NetworkX graph object from the dictionary\n",
        "G = nx.Graph(graph)"
      ]
    },
    {
      "cell_type": "code",
      "source": [
        "# Find the degree of each node\n",
        "degrees = dict(G.degree())\n",
        "\n",
        "# Print the degree of each node\n",
        "print(degrees)"
      ],
      "metadata": {
        "colab": {
          "base_uri": "https://localhost:8080/"
        },
        "id": "-VKNvO5Tl4Oi",
        "outputId": "e925295e-8a2a-4bd7-938c-7d2506171f84"
      },
      "execution_count": 72,
      "outputs": [
        {
          "output_type": "stream",
          "name": "stdout",
          "text": [
            "{'1': 2, '2': 4, '3': 2, '4': 1, '5': 2, '6': 1}\n"
          ]
        }
      ]
    },
    {
      "cell_type": "code",
      "source": [
        "# Find the closeness centrality of each node\n",
        "closeness_centrality = nx.closeness_centrality(G)\n",
        "\n",
        "# Print the closeness centrality of each node\n",
        "print(closeness_centrality)"
      ],
      "metadata": {
        "colab": {
          "base_uri": "https://localhost:8080/"
        },
        "id": "liowssCxl4Q5",
        "outputId": "17f3bf48-4114-4929-e8b3-a503096f8ae2"
      },
      "execution_count": 73,
      "outputs": [
        {
          "output_type": "stream",
          "name": "stdout",
          "text": [
            "{'1': 0.5555555555555556, '2': 0.8333333333333334, '3': 0.5555555555555556, '4': 0.5, '5': 0.625, '6': 0.4166666666666667}\n"
          ]
        }
      ]
    },
    {
      "cell_type": "code",
      "source": [
        "# Find the betweenness centrality of each node\n",
        "betweenness_centrality = nx.betweenness_centrality(G)\n",
        "\n",
        "# Print the betweenness centrality of each node\n",
        "print(betweenness_centrality)"
      ],
      "metadata": {
        "colab": {
          "base_uri": "https://localhost:8080/"
        },
        "id": "RF7sV0i0miAS",
        "outputId": "5ec33eba-f5aa-431b-c198-f9c111e43081"
      },
      "execution_count": 74,
      "outputs": [
        {
          "output_type": "stream",
          "name": "stdout",
          "text": [
            "{'1': 0.0, '2': 0.8, '3': 0.0, '4': 0.0, '5': 0.4, '6': 0.0}\n"
          ]
        }
      ]
    },
    {
      "cell_type": "code",
      "source": [
        "# Find the clustering coefficient of each node\n",
        "clustering_coefficient = nx.clustering(G)\n",
        "\n",
        "# Print the clustering coefficient of each node\n",
        "print(clustering_coefficient)"
      ],
      "metadata": {
        "colab": {
          "base_uri": "https://localhost:8080/"
        },
        "id": "bVFUUsQEmq46",
        "outputId": "74e35717-8c53-4db5-b2f3-8b072ab12260"
      },
      "execution_count": 75,
      "outputs": [
        {
          "output_type": "stream",
          "name": "stdout",
          "text": [
            "{'1': 1.0, '2': 0.16666666666666666, '3': 1.0, '4': 0, '5': 0, '6': 0}\n"
          ]
        }
      ]
    },
    {
      "cell_type": "code",
      "source": [
        "# create a dictionary to store the data\n",
        "data = {'Node': [1, 2, 3, 4, 5, 6],\n",
        "        'Degree': pd.Series({'1': 2, '2': 4, '3': 2, '4': 1, '5': 2, '6': 1}),\n",
        "        'Closeness Centrality': pd.Series({'1': 0.5, '2': 0.83, '3': 0.55, '4': 0.5, '5': 0.625, '6': 0.416}),\n",
        "        'Betweenness Centrality': pd.Series({'1': 0.0, '2': 0.8, '3': 0.0, '4': 0.0, '5': 0.4, '6': 0.0}),\n",
        "        'Clustering Coefficient': pd.Series({'1': 1.0, '2': 0.166, '3': 1.0, '4': 0, '5': 0, '6': 0}),\n",
        "                'Graphlet of size 3': pd.Series({'1': 3, '2': 7, '3': 4, '4': 3, '5': 4, '6': 1})}\n",
        "\n",
        "# create a DataFrame from the dictionary\n",
        "df = pd.DataFrame(data)\n",
        "\n",
        "# print the DataFrame\n",
        "print(df)\n"
      ],
      "metadata": {
        "colab": {
          "base_uri": "https://localhost:8080/"
        },
        "id": "0X_iX7cg9SYM",
        "outputId": "599e5c06-9659-49fe-8d30-330c198497a3"
      },
      "execution_count": 76,
      "outputs": [
        {
          "output_type": "stream",
          "name": "stdout",
          "text": [
            "   Node  Degree  Closeness Centrality  Betweenness Centrality  \\\n",
            "1     1       2                 0.500                     0.0   \n",
            "2     2       4                 0.830                     0.8   \n",
            "3     3       2                 0.550                     0.0   \n",
            "4     4       1                 0.500                     0.0   \n",
            "5     5       2                 0.625                     0.4   \n",
            "6     6       1                 0.416                     0.0   \n",
            "\n",
            "   Clustering Coefficient  Graphlet of size 3  \n",
            "1                   1.000                   3  \n",
            "2                   0.166                   7  \n",
            "3                   1.000                   4  \n",
            "4                   0.000                   3  \n",
            "5                   0.000                   4  \n",
            "6                   0.000                   1  \n"
          ]
        }
      ]
    },
    {
      "cell_type": "code",
      "source": [
        "# find the maximum and minimum values in each column\n",
        "max_values = df.max()\n",
        "min_values = df.min()\n",
        "\n",
        "# print the results\n",
        "print(\"Maximum values:\\n\", max_values)\n",
        "print(\"\\nMinimum values:\\n\", min_values)"
      ],
      "metadata": {
        "colab": {
          "base_uri": "https://localhost:8080/"
        },
        "id": "mGaa9YPM9v20",
        "outputId": "d8fc6c35-fe36-4efc-d3fc-f4183640a728"
      },
      "execution_count": 77,
      "outputs": [
        {
          "output_type": "stream",
          "name": "stdout",
          "text": [
            "Maximum values:\n",
            " Node                      6.00\n",
            "Degree                    4.00\n",
            "Closeness Centrality      0.83\n",
            "Betweenness Centrality    0.80\n",
            "Clustering Coefficient    1.00\n",
            "Graphlet of size 3        7.00\n",
            "dtype: float64\n",
            "\n",
            "Minimum values:\n",
            " Node                      1.000\n",
            "Degree                    1.000\n",
            "Closeness Centrality      0.416\n",
            "Betweenness Centrality    0.000\n",
            "Clustering Coefficient    0.000\n",
            "Graphlet of size 3        1.000\n",
            "dtype: float64\n"
          ]
        }
      ]
    },
    {
      "cell_type": "markdown",
      "source": [
        "**Degree Centrality**: is a measure of how many nodes in a network are connected to one another (degree). In the network, nodes having a higher degree of centrality are viewed as being more significant.\n",
        "\n",
        "**Closeness Centrality**: This gauges a node's typical separation from every other node in the network. Higher proximity centrality nodes are regarded as being more significant in terms of network influence and accessibility.\n",
        "\n",
        "\n",
        "**Betweenness Centrality**: is a measure of how closely a node is located on the network's shortest path between other nodes. Higher betweenness centrality nodes can operate as network brokers to connect nodes that would not otherwise be connected.\n",
        "\n",
        "**Clustering Coefficient**: calculates how closely a node's neighbours are related to one another. Higher clustering coefficient nodes are more likely to be found in close-knit communities or cliques within the network.\n"
      ],
      "metadata": {
        "id": "VHmnmgr3-zK0"
      }
    },
    {
      "cell_type": "markdown",
      "source": [
        "The degree centrality metric can be used to determine which user is the most influential. The degree of a node's connections (degree) with other nodes in the network are used to calculate degree centrality. Because they have more connections to other nodes, nodes with higher degree centrality are viewed as being more significant in the network.\n",
        "\n",
        "The table shows that node 2 has the highest degree centrality with 4 connections, making it the network node with the greatest influence over targeted advertising. Although node 2 has the largest degree centrality and hence the most impact on network engagement metrics, nodes 1, 3, and 5 also have relatively high degree centrality with two connections apiece.\n",
        "\n",
        "It is important to remember that, depending on the precise objectives of the focused advertising campaign, other centrality metrics, such as betweenness centrality and closeness centrality, may also offer insightful information about the most influential person in the network."
      ],
      "metadata": {
        "id": "771-5NOTBSXF"
      }
    },
    {
      "cell_type": "markdown",
      "source": [
        "Shortest-path distance: This metric establishes the length of the network's shortest path between any two nodes. An interaction (edge) between two significant nodes that has a low shortest-path distance may be deemed significant.\n",
        "\n",
        "Local neighbourhood overlap: This metric counts the number of nearby nodes that two nodes have in common. Common neighbours, the Jaccard coefficient, and the Adamic-Adar index are a few examples of metrics that can be used to assess the local neighbourhood overlap between two nodes. A high local neighbourhood overlap interaction (edge) between two nodes can be regarded as significant.\n",
        "\n",
        "Global neighbourhood overlap: This metric accounts for the network's general structure and calculates a node's effect based on the influence of its nearby nodes. An illustration of a global neighbourhood overlap metric that may be used to assess the significance of an interaction (edge) in the network is the Katz index.\n",
        "\n",
        "Since the choice of measure depends on the particular problem and the network's characteristics, no one measure is inherently more significant than others. For instance, global neighbourhood overlap measures like the Katz index may be better suitable if the objective is to identify the network's most important nodes. On the other hand, metrics like shortest-path distance and local neighbourhood overlap metrics like similar neighbours, Jaccard coefficient, and Adamic-Adar index may be more suitable if the aim is to find the most significant interactions (edges) in the network.\n",
        "\n",
        "Therefore, before selecting a measure to evaluate the significance of interactions (edges) in the network, it is crucial to carefully consider the particular problem and the characteristics of the network.\n"
      ],
      "metadata": {
        "id": "oe566ue_C3Hs"
      }
    },
    {
      "cell_type": "markdown",
      "source": [
        "# Question 2"
      ],
      "metadata": {
        "id": "OvEd-_y4D-0t"
      }
    },
    {
      "cell_type": "markdown",
      "source": [
        "**P1**: Both Node2vec and DeepWalk are graph embedding methods that try to discover low-dimensional vector representations of a node's structural characteristics. Then, numerous downstream tasks, including link prediction, node categorization, and clustering, can be carried out using these vector representations.\n",
        "\n",
        "The fundamental goal of Node2vec is to learn node embeddings by taking into account both the local and global topology of the network. By specifying a biassed random walk technique that investigates many neighbourhoods surrounding a node, it achieves this. In particular, Node2vec employs a hyperparameter called \"p\" to regulate the probability that the random walker will go back to its previous node and a hyperparameter named \"q\" to regulate the probability that the random walker will explore a new area. Node2vec may produce embeddings that capture various kinds of structural information in the graph by adjusting these hyperparameters.\n",
        "\n",
        "DeepWalk, in comparison, employs a more straightforward random walk methodology that only considers the local structure of the graph. In particular, the word2vec technique is used to learn the node embeddings after interpreting a random walk around a node as a phrase. DeepWalk captures the \"local context\" of nodes in the network by interpreting the random walk pathways as sentences and the nodes as words.\n",
        "\n",
        "The way Node2vec and DeepWalk examine the graph structure is where they diverge most from one another. While DeepWalk only considers the local structure of the graph, Node2vec employs a more adaptable biassed random walk method that can capture both the local and global structure of the network. Node2vec would therefore be better at catching the subtle structural patterns in complicated graphs, whereas DeepWalk might be easier to use and more computationally effective.\n",
        "\n",
        "**P2**: Let's say we set p = 0.5, q = 2, num_walks = 5, walk_length = 10, and dimensions = 64 in our example. for each node, the node2vec algorithm will perform 5 random walks of length 10 from each node in the graph.\n",
        "\n",
        "In a random walk, the algorithm will typically explore nodes farther away from the previous node if p = 0.5, whereas q = 2 indicates that it would typically investigate nodes closer to the previous node. The balance between local and global graph exploration is achieved by these parameter values.\n",
        "\n",
        "The node2vec approach balances the likelihood of going back to the previous node (p) and the likelihood of visiting distant nodes (q) during a random walk to produce embeddings that capture both local and global structural information in the network. Node2vec offers more freedom and control over the exploration of the graph in comparison to DeepWalk, which only generates embeddings using a predetermined window size.\n",
        "\n",
        "\n",
        "**P3** :\n",
        "Node2Vec:\n",
        "\n",
        "Pros:\n",
        "\n",
        "1)By allowing users to regulate the exploration of graph neighbourhoods using the p and q parameters, Node2Vec can capture higher-order graph structures.\n",
        "\n",
        "2)Both local and global graph structures can be preserved in the embeddings produced by this method.\n",
        "\n",
        "3)It can be applied to tasks requiring supervised and unsupervised learning.\n",
        "\n",
        "Cons:\n",
        "\n",
        "1)In comparison to DeepWalk, Node2Vec needs more computational power and takes longer to train.\n",
        "\n",
        "2)The algorithm may be more challenging to adjust because to the additional hyperparameters (p, q).\n",
        "\n",
        "3)Because a transition probability matrix must be calculated, Node2Vec might not perform well on very large graphs.\n",
        " \n",
        "DeepWalk:\n",
        "Pros:\n",
        "\n",
        "1)DeepWalk is straightforward to set up and requires only a little amount of computing power.\n",
        "\n",
        "2)It can pick up accurate node representations in sparse or massive graphs.\n",
        "\n",
        "3)Directed and weighted graphs can be handled with ease by extending it.\n",
        "\n",
        "Cons:\n",
        "\n",
        "1)Higher-order structures are not taken into account by DeepWalk; only local graph topologies are captured.\n",
        "\n",
        "2)DeepWalk's embeddings might not be as useful for jobs that call for capturing global graph topologies.\n",
        "\n",
        "3)It can only be applied to tasks requiring unsupervised learning.\n",
        "\n",
        "The exact requirements and characteristics of the current challenge genuinely determine if a certain graph data structure is preferred. Node2Vec might be a preferable choice if the issue calls for capturing higher-order graph topologies and there are enough computational resources available. On the other hand, DeepWalk may be more appropriate if the issue involves sizable sparse graphs and the objective is to learn embeddings for unsupervised learning tasks.\n",
        "\n",
        "\n",
        "\n"
      ],
      "metadata": {
        "id": "MWrtk120EBrd"
      }
    },
    {
      "cell_type": "markdown",
      "source": [
        "# Question 3"
      ],
      "metadata": {
        "id": "5TzKnSD9wf4o"
      }
    },
    {
      "cell_type": "code",
      "source": [
        "A = {\n",
        "    '1': ['2', '3'],\n",
        "    '2': ['1', '3'],\n",
        "    '3': ['1', '2', '4'],\n",
        "    '4': ['3', '5', '6'],\n",
        "    '5': ['4', '6'],\n",
        "    '6': ['5', '4']\n",
        "}\n",
        "G1 = nx.Graph(A)\n",
        "B = {\n",
        "    'a': ['b', 'd'],\n",
        "    'b': ['a', 'e', 'c'],\n",
        "    'c': ['b', 'f'],\n",
        "    'd': ['a', 'e'],\n",
        "    'e': ['d', 'b', 'f'],\n",
        "    'f': ['e', 'c']\n",
        "}\n",
        "G2 = nx.Graph(B)"
      ],
      "metadata": {
        "id": "kRxRJQICwhh3"
      },
      "execution_count": 78,
      "outputs": []
    },
    {
      "cell_type": "code",
      "source": [
        "nx.weisfeiler_lehman_graph_hash(G1)\n"
      ],
      "metadata": {
        "colab": {
          "base_uri": "https://localhost:8080/",
          "height": 35
        },
        "id": "Z00H7uPwxuWq",
        "outputId": "fadc6f34-468c-4d58-b78b-1b7a959dc237"
      },
      "execution_count": 79,
      "outputs": [
        {
          "output_type": "execute_result",
          "data": {
            "text/plain": [
              "'15981867526b451292338ffade4ee93e'"
            ],
            "application/vnd.google.colaboratory.intrinsic+json": {
              "type": "string"
            }
          },
          "metadata": {},
          "execution_count": 79
        }
      ]
    },
    {
      "cell_type": "code",
      "source": [
        "nx.weisfeiler_lehman_graph_hash(G2)"
      ],
      "metadata": {
        "colab": {
          "base_uri": "https://localhost:8080/",
          "height": 35
        },
        "id": "ZvKriBUJyrPi",
        "outputId": "80d059f6-69ca-48d2-c022-81b58964b196"
      },
      "execution_count": 80,
      "outputs": [
        {
          "output_type": "execute_result",
          "data": {
            "text/plain": [
              "'15981867526b451292338ffade4ee93e'"
            ],
            "application/vnd.google.colaboratory.intrinsic+json": {
              "type": "string"
            }
          },
          "metadata": {},
          "execution_count": 80
        }
      ]
    },
    {
      "cell_type": "markdown",
      "source": [
        "**P2**: The defined basic graph neural network is unable to immediately determine whether two graphs are identical or not. It computes node representations based on their immediate surroundings at the node level. Other graph-level similarity metrics, such as graph edit distance or maximum common subgraph, must be used to compare two graphs. These measurements contrast the two graphs' overall structures and can help us determine how similar or dissimilar they are.\n"
      ],
      "metadata": {
        "id": "kBhRqMID4FBy"
      }
    },
    {
      "cell_type": "markdown",
      "source": [
        "**P3**:"
      ],
      "metadata": {
        "id": "R_4LDpnBkWC2"
      }
    },
    {
      "cell_type": "code",
      "source": [
        "img= cv2.imread(\"/content/g1.png\")"
      ],
      "metadata": {
        "id": "6hEuUOAzd3D1"
      },
      "execution_count": 81,
      "outputs": []
    },
    {
      "cell_type": "code",
      "source": [
        "cv2_imshow(img)"
      ],
      "metadata": {
        "colab": {
          "base_uri": "https://localhost:8080/",
          "height": 783
        },
        "id": "LTvVyaQnfX4v",
        "outputId": "2bc49790-d0be-4dc7-e5f8-052e079985e7"
      },
      "execution_count": 82,
      "outputs": [
        {
          "output_type": "display_data",
          "data": {
            "text/plain": [
              "<PIL.Image.Image image mode=RGB size=1737x889 at 0x7F3A4446A6E0>"
            ],
            "image/png": "[encoded data removed]"
          },
          "metadata": {}
        }
      ]
    },
    {
      "cell_type": "code",
      "source": [
        "img= cv2.imread(\"/content/g2.png\")"
      ],
      "metadata": {
        "id": "zFuKC0vJfb5d"
      },
      "execution_count": 83,
      "outputs": []
    },
    {
      "cell_type": "code",
      "source": [
        "cv2_imshow(img)"
      ],
      "metadata": {
        "colab": {
          "base_uri": "https://localhost:8080/",
          "height": 833
        },
        "id": "VGdyo1LTgmX_",
        "outputId": "1e4b322b-0c38-4100-9fdc-4764f49c37e0"
      },
      "execution_count": 84,
      "outputs": [
        {
          "output_type": "display_data",
          "data": {
            "text/plain": [
              "<PIL.Image.Image image mode=RGB size=1682x917 at 0x7F3A4446A6B0>"
            ],
            "image/png": "[encoded data removed]"
          },
          "metadata": {}
        }
      ]
    },
    {
      "cell_type": "code",
      "source": [],
      "metadata": {
        "id": "hb9vuQ2Ikmml"
      },
      "execution_count": 84,
      "outputs": []
    }
  ]
}