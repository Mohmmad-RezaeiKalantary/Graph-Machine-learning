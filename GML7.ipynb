{
  "nbformat": 4,
  "nbformat_minor": 0,
  "metadata": {
    "colab": {
      "provenance": [],
      "toc_visible": true
    },
    "kernelspec": {
      "name": "python3",
      "display_name": "Python 3"
    },
    "language_info": {
      "name": "python"
    }
  },
  "cells": [
    {
      "cell_type": "markdown",
      "source": [
        "# Setup"
      ],
      "metadata": {
        "id": "5lmSMkg4GKMM"
      }
    },
    {
      "cell_type": "code",
      "source": [
        "!pip install dgl -f https://data.dgl.ai/wheels/repo.html\n",
        "\n",
        "!pip install dglgo -f https://data.dgl.ai/wheels-test/repo.html"
      ],
      "metadata": {
        "colab": {
          "base_uri": "https://localhost:8080/"
        },
        "id": "svYZdSBIDaAN",
        "outputId": "60c68ede-fb39-4ab3-c8ea-91c69f256988"
      },
      "execution_count": 195,
      "outputs": [
        {
          "output_type": "stream",
          "name": "stdout",
          "text": [
            "Looking in indexes: https://pypi.org/simple, https://us-python.pkg.dev/colab-wheels/public/simple/\n",
            "Looking in links: https://data.dgl.ai/wheels/repo.html\n",
            "Requirement already satisfied: dgl in /usr/local/lib/python3.10/dist-packages (1.1.0)\n",
            "Requirement already satisfied: numpy>=1.14.0 in /usr/local/lib/python3.10/dist-packages (from dgl) (1.22.4)\n",
            "Requirement already satisfied: scipy>=1.1.0 in /usr/local/lib/python3.10/dist-packages (from dgl) (1.10.1)\n",
            "Requirement already satisfied: networkx>=2.1 in /usr/local/lib/python3.10/dist-packages (from dgl) (3.1)\n",
            "Requirement already satisfied: requests>=2.19.0 in /usr/local/lib/python3.10/dist-packages (from dgl) (2.27.1)\n",
            "Requirement already satisfied: tqdm in /usr/local/lib/python3.10/dist-packages (from dgl) (4.65.0)\n",
            "Requirement already satisfied: psutil>=5.8.0 in /usr/local/lib/python3.10/dist-packages (from dgl) (5.9.5)\n",
            "Requirement already satisfied: urllib3<1.27,>=1.21.1 in /usr/local/lib/python3.10/dist-packages (from requests>=2.19.0->dgl) (1.26.15)\n",
            "Requirement already satisfied: certifi>=2017.4.17 in /usr/local/lib/python3.10/dist-packages (from requests>=2.19.0->dgl) (2022.12.7)\n",
            "Requirement already satisfied: charset-normalizer~=2.0.0 in /usr/local/lib/python3.10/dist-packages (from requests>=2.19.0->dgl) (2.0.12)\n",
            "Requirement already satisfied: idna<4,>=2.5 in /usr/local/lib/python3.10/dist-packages (from requests>=2.19.0->dgl) (3.4)\n",
            "Looking in indexes: https://pypi.org/simple, https://us-python.pkg.dev/colab-wheels/public/simple/\n",
            "Looking in links: https://data.dgl.ai/wheels-test/repo.html\n",
            "Requirement already satisfied: dglgo in /usr/local/lib/python3.10/dist-packages (0.0.2)\n",
            "Requirement already satisfied: typer>=0.4.0 in /usr/local/lib/python3.10/dist-packages (from dglgo) (0.7.0)\n",
            "Requirement already satisfied: isort>=5.10.1 in /usr/local/lib/python3.10/dist-packages (from dglgo) (5.12.0)\n",
            "Requirement already satisfied: autopep8>=1.6.0 in /usr/local/lib/python3.10/dist-packages (from dglgo) (2.0.2)\n",
            "Requirement already satisfied: numpydoc>=1.1.0 in /usr/local/lib/python3.10/dist-packages (from dglgo) (1.5.0)\n",
            "Requirement already satisfied: pydantic>=1.9.0 in /usr/local/lib/python3.10/dist-packages (from dglgo) (1.10.7)\n",
            "Requirement already satisfied: ruamel.yaml>=0.17.20 in /usr/local/lib/python3.10/dist-packages (from dglgo) (0.17.32)\n",
            "Requirement already satisfied: PyYAML>=5.1 in /usr/local/lib/python3.10/dist-packages (from dglgo) (6.0)\n",
            "Requirement already satisfied: ogb>=1.3.3 in /usr/local/lib/python3.10/dist-packages (from dglgo) (1.3.6)\n",
            "Requirement already satisfied: rdkit-pypi in /usr/local/lib/python3.10/dist-packages (from dglgo) (2022.9.5)\n",
            "Requirement already satisfied: scikit-learn>=0.20.0 in /usr/local/lib/python3.10/dist-packages (from dglgo) (1.2.2)\n",
            "Requirement already satisfied: pycodestyle>=2.10.0 in /usr/local/lib/python3.10/dist-packages (from autopep8>=1.6.0->dglgo) (2.10.0)\n",
            "Requirement already satisfied: tomli in /usr/local/lib/python3.10/dist-packages (from autopep8>=1.6.0->dglgo) (2.0.1)\n",
            "Requirement already satisfied: sphinx>=4.2 in /usr/local/lib/python3.10/dist-packages (from numpydoc>=1.1.0->dglgo) (7.0.1)\n",
            "Requirement already satisfied: Jinja2>=2.10 in /usr/local/lib/python3.10/dist-packages (from numpydoc>=1.1.0->dglgo) (3.1.2)\n",
            "Requirement already satisfied: torch>=1.6.0 in /usr/local/lib/python3.10/dist-packages (from ogb>=1.3.3->dglgo) (2.0.1+cu118)\n",
            "Requirement already satisfied: numpy>=1.16.0 in /usr/local/lib/python3.10/dist-packages (from ogb>=1.3.3->dglgo) (1.22.4)\n",
            "Requirement already satisfied: tqdm>=4.29.0 in /usr/local/lib/python3.10/dist-packages (from ogb>=1.3.3->dglgo) (4.65.0)\n",
            "Requirement already satisfied: pandas>=0.24.0 in /usr/local/lib/python3.10/dist-packages (from ogb>=1.3.3->dglgo) (1.5.3)\n",
            "Requirement already satisfied: six>=1.12.0 in /usr/local/lib/python3.10/dist-packages (from ogb>=1.3.3->dglgo) (1.16.0)\n",
            "Requirement already satisfied: urllib3>=1.24.0 in /usr/local/lib/python3.10/dist-packages (from ogb>=1.3.3->dglgo) (1.26.15)\n",
            "Requirement already satisfied: outdated>=0.2.0 in /usr/local/lib/python3.10/dist-packages (from ogb>=1.3.3->dglgo) (0.2.2)\n",
            "Requirement already satisfied: typing-extensions>=4.2.0 in /usr/local/lib/python3.10/dist-packages (from pydantic>=1.9.0->dglgo) (4.5.0)\n",
            "Requirement already satisfied: ruamel.yaml.clib>=0.2.7 in /usr/local/lib/python3.10/dist-packages (from ruamel.yaml>=0.17.20->dglgo) (0.2.7)\n",
            "Requirement already satisfied: scipy>=1.3.2 in /usr/local/lib/python3.10/dist-packages (from scikit-learn>=0.20.0->dglgo) (1.10.1)\n",
            "Requirement already satisfied: joblib>=1.1.1 in /usr/local/lib/python3.10/dist-packages (from scikit-learn>=0.20.0->dglgo) (1.2.0)\n",
            "Requirement already satisfied: threadpoolctl>=2.0.0 in /usr/local/lib/python3.10/dist-packages (from scikit-learn>=0.20.0->dglgo) (3.1.0)\n",
            "Requirement already satisfied: click<9.0.0,>=7.1.1 in /usr/local/lib/python3.10/dist-packages (from typer>=0.4.0->dglgo) (8.1.3)\n",
            "Requirement already satisfied: Pillow in /usr/local/lib/python3.10/dist-packages (from rdkit-pypi->dglgo) (8.4.0)\n",
            "Requirement already satisfied: MarkupSafe>=2.0 in /usr/local/lib/python3.10/dist-packages (from Jinja2>=2.10->numpydoc>=1.1.0->dglgo) (2.1.2)\n",
            "Requirement already satisfied: setuptools>=44 in /usr/local/lib/python3.10/dist-packages (from outdated>=0.2.0->ogb>=1.3.3->dglgo) (67.7.2)\n",
            "Requirement already satisfied: littleutils in /usr/local/lib/python3.10/dist-packages (from outdated>=0.2.0->ogb>=1.3.3->dglgo) (0.2.2)\n",
            "Requirement already satisfied: requests in /usr/local/lib/python3.10/dist-packages (from outdated>=0.2.0->ogb>=1.3.3->dglgo) (2.27.1)\n",
            "Requirement already satisfied: python-dateutil>=2.8.1 in /usr/local/lib/python3.10/dist-packages (from pandas>=0.24.0->ogb>=1.3.3->dglgo) (2.8.2)\n",
            "Requirement already satisfied: pytz>=2020.1 in /usr/local/lib/python3.10/dist-packages (from pandas>=0.24.0->ogb>=1.3.3->dglgo) (2022.7.1)\n",
            "Requirement already satisfied: sphinxcontrib-applehelp in /usr/local/lib/python3.10/dist-packages (from sphinx>=4.2->numpydoc>=1.1.0->dglgo) (1.0.4)\n",
            "Requirement already satisfied: sphinxcontrib-devhelp in /usr/local/lib/python3.10/dist-packages (from sphinx>=4.2->numpydoc>=1.1.0->dglgo) (1.0.2)\n",
            "Requirement already satisfied: sphinxcontrib-jsmath in /usr/local/lib/python3.10/dist-packages (from sphinx>=4.2->numpydoc>=1.1.0->dglgo) (1.0.1)\n",
            "Requirement already satisfied: sphinxcontrib-htmlhelp>=2.0.0 in /usr/local/lib/python3.10/dist-packages (from sphinx>=4.2->numpydoc>=1.1.0->dglgo) (2.0.1)\n",
            "Requirement already satisfied: sphinxcontrib-serializinghtml>=1.1.5 in /usr/local/lib/python3.10/dist-packages (from sphinx>=4.2->numpydoc>=1.1.0->dglgo) (1.1.5)\n",
            "Requirement already satisfied: sphinxcontrib-qthelp in /usr/local/lib/python3.10/dist-packages (from sphinx>=4.2->numpydoc>=1.1.0->dglgo) (1.0.3)\n",
            "Requirement already satisfied: Pygments>=2.13 in /usr/local/lib/python3.10/dist-packages (from sphinx>=4.2->numpydoc>=1.1.0->dglgo) (2.14.0)\n",
            "Requirement already satisfied: docutils<0.21,>=0.18.1 in /usr/local/lib/python3.10/dist-packages (from sphinx>=4.2->numpydoc>=1.1.0->dglgo) (0.20.1)\n",
            "Requirement already satisfied: snowballstemmer>=2.0 in /usr/local/lib/python3.10/dist-packages (from sphinx>=4.2->numpydoc>=1.1.0->dglgo) (2.2.0)\n",
            "Requirement already satisfied: babel>=2.9 in /usr/local/lib/python3.10/dist-packages (from sphinx>=4.2->numpydoc>=1.1.0->dglgo) (2.12.1)\n",
            "Requirement already satisfied: alabaster<0.8,>=0.7 in /usr/local/lib/python3.10/dist-packages (from sphinx>=4.2->numpydoc>=1.1.0->dglgo) (0.7.13)\n",
            "Requirement already satisfied: imagesize>=1.3 in /usr/local/lib/python3.10/dist-packages (from sphinx>=4.2->numpydoc>=1.1.0->dglgo) (1.4.1)\n",
            "Requirement already satisfied: packaging>=21.0 in /usr/local/lib/python3.10/dist-packages (from sphinx>=4.2->numpydoc>=1.1.0->dglgo) (23.1)\n",
            "Requirement already satisfied: filelock in /usr/local/lib/python3.10/dist-packages (from torch>=1.6.0->ogb>=1.3.3->dglgo) (3.12.0)\n",
            "Requirement already satisfied: sympy in /usr/local/lib/python3.10/dist-packages (from torch>=1.6.0->ogb>=1.3.3->dglgo) (1.11.1)\n",
            "Requirement already satisfied: networkx in /usr/local/lib/python3.10/dist-packages (from torch>=1.6.0->ogb>=1.3.3->dglgo) (3.1)\n",
            "Requirement already satisfied: triton==2.0.0 in /usr/local/lib/python3.10/dist-packages (from torch>=1.6.0->ogb>=1.3.3->dglgo) (2.0.0)\n",
            "Requirement already satisfied: cmake in /usr/local/lib/python3.10/dist-packages (from triton==2.0.0->torch>=1.6.0->ogb>=1.3.3->dglgo) (3.25.2)\n",
            "Requirement already satisfied: lit in /usr/local/lib/python3.10/dist-packages (from triton==2.0.0->torch>=1.6.0->ogb>=1.3.3->dglgo) (16.0.5)\n",
            "Requirement already satisfied: certifi>=2017.4.17 in /usr/local/lib/python3.10/dist-packages (from requests->outdated>=0.2.0->ogb>=1.3.3->dglgo) (2022.12.7)\n",
            "Requirement already satisfied: charset-normalizer~=2.0.0 in /usr/local/lib/python3.10/dist-packages (from requests->outdated>=0.2.0->ogb>=1.3.3->dglgo) (2.0.12)\n",
            "Requirement already satisfied: idna<4,>=2.5 in /usr/local/lib/python3.10/dist-packages (from requests->outdated>=0.2.0->ogb>=1.3.3->dglgo) (3.4)\n",
            "Requirement already satisfied: mpmath>=0.19 in /usr/local/lib/python3.10/dist-packages (from sympy->torch>=1.6.0->ogb>=1.3.3->dglgo) (1.3.0)\n"
          ]
        }
      ]
    },
    {
      "cell_type": "code",
      "execution_count": 196,
      "metadata": {
        "id": "cVdAdopoCSiO"
      },
      "outputs": [],
      "source": [
        "%matplotlib inline\n",
        "import os\n",
        "\n",
        "os.environ[\"DGLBACKEND\"] = \"pytorch\"\n",
        "import dgl\n",
        "import numpy as np\n",
        "import networkx as nx\n",
        "import torch\n",
        "import torch.nn as nn"
      ]
    },
    {
      "cell_type": "markdown",
      "source": [
        "# My Graph"
      ],
      "metadata": {
        "id": "H1kqU5owGMw8"
      }
    },
    {
      "cell_type": "code",
      "source": [
        "g = dgl.heterograph({\n",
        "    ('ID', 'follower', 'ID'): (torch.tensor([0, 1, 1, 2]), torch.tensor([1, 2, 3, 0])),\n",
        "    ('ID', 'Cinema', 'Video'): (torch.tensor([3, 1, 2]), torch.tensor([5, 4, 6])),\n",
        "    ('Video', 'belongs_to', 'genre'): (torch.tensor([4, 5, 6]), torch.tensor([7, 8, 9]))\n",
        "})\n"
      ],
      "metadata": {
        "id": "g9jA6W5EDaCM"
      },
      "execution_count": 197,
      "outputs": []
    },
    {
      "cell_type": "code",
      "source": [
        "f = dgl.graph((torch.tensor([1, 1, 0, 3]), torch.tensor([2, 3, 3, 1])))"
      ],
      "metadata": {
        "id": "bRhNDkGzwqr5"
      },
      "execution_count": 198,
      "outputs": []
    },
    {
      "cell_type": "code",
      "source": [
        "b = dgl.heterograph({\n",
        "    ('ID', 'follower', 'name'): (torch.tensor([0]), torch.tensor([1])),\n",
        "    ('Video', 'belongs_to', 'genre'): (torch.tensor([1]), torch.tensor([2]))\n",
        "})"
      ],
      "metadata": {
        "id": "Qd0UNFlUZa_H"
      },
      "execution_count": 199,
      "outputs": []
    },
    {
      "cell_type": "code",
      "source": [
        "n =  dgl.heterograph({\n",
        "    ('ID', 'follower', 'ID'): (torch.tensor([0]), torch.tensor([1])),\n",
        "    ('Video', 'belongs_to', 'genre'): (torch.tensor([1]), torch.tensor([2]))\n",
        "})"
      ],
      "metadata": {
        "id": "3cQlyIrebKX_"
      },
      "execution_count": 200,
      "outputs": []
    },
    {
      "cell_type": "markdown",
      "source": [
        "# Querying graph structure"
      ],
      "metadata": {
        "id": "ygDlZ2xEwOPX"
      }
    },
    {
      "cell_type": "markdown",
      "source": [
        "Return the number of nodes in the graph"
      ],
      "metadata": {
        "id": "Ez2QKQ8tvkG8"
      }
    },
    {
      "cell_type": "code",
      "source": [
        "g.num_nodes('ID')"
      ],
      "metadata": {
        "colab": {
          "base_uri": "https://localhost:8080/"
        },
        "id": "rkQVAqE9DaEc",
        "outputId": "8ddd0529-c5d3-444b-ad79-6a83d630d7f1"
      },
      "execution_count": 201,
      "outputs": [
        {
          "output_type": "execute_result",
          "data": {
            "text/plain": [
              "4"
            ]
          },
          "metadata": {},
          "execution_count": 201
        }
      ]
    },
    {
      "cell_type": "code",
      "source": [
        "g.num_nodes('Video')"
      ],
      "metadata": {
        "colab": {
          "base_uri": "https://localhost:8080/"
        },
        "id": "DqHlfkGqDaGe",
        "outputId": "99159988-8d9e-41ba-a42b-f036b1377264"
      },
      "execution_count": 202,
      "outputs": [
        {
          "output_type": "execute_result",
          "data": {
            "text/plain": [
              "7"
            ]
          },
          "metadata": {},
          "execution_count": 202
        }
      ]
    },
    {
      "cell_type": "markdown",
      "source": [
        "Alias of num_nodes()"
      ],
      "metadata": {
        "id": "KU1pv-f1voI0"
      }
    },
    {
      "cell_type": "code",
      "source": [
        "g.num_nodes()"
      ],
      "metadata": {
        "colab": {
          "base_uri": "https://localhost:8080/"
        },
        "id": "-unDat75DaIX",
        "outputId": "0c41d1d5-29aa-4d13-d334-117344082b52"
      },
      "execution_count": 203,
      "outputs": [
        {
          "output_type": "execute_result",
          "data": {
            "text/plain": [
              "21"
            ]
          },
          "metadata": {},
          "execution_count": 203
        }
      ]
    },
    {
      "cell_type": "markdown",
      "source": [
        "Return the number of edges in the graph"
      ],
      "metadata": {
        "id": "TyRcZ2Q-vrel"
      }
    },
    {
      "cell_type": "code",
      "source": [
        "g.num_edges('follower')"
      ],
      "metadata": {
        "colab": {
          "base_uri": "https://localhost:8080/"
        },
        "id": "hPsgJ0MuFt68",
        "outputId": "c1a1c5b0-1e28-4325-fed6-59a18b5668c2"
      },
      "execution_count": 204,
      "outputs": [
        {
          "output_type": "execute_result",
          "data": {
            "text/plain": [
              "4"
            ]
          },
          "metadata": {},
          "execution_count": 204
        }
      ]
    },
    {
      "cell_type": "code",
      "source": [
        "g.num_edges('Cinema')"
      ],
      "metadata": {
        "colab": {
          "base_uri": "https://localhost:8080/"
        },
        "id": "6d_7c3mHF0hk",
        "outputId": "c3e2b097-15f6-4e4d-d561-e9c0fe0caa26"
      },
      "execution_count": 205,
      "outputs": [
        {
          "output_type": "execute_result",
          "data": {
            "text/plain": [
              "3"
            ]
          },
          "metadata": {},
          "execution_count": 205
        }
      ]
    },
    {
      "cell_type": "code",
      "source": [
        "g.num_edges('belongs_to')"
      ],
      "metadata": {
        "colab": {
          "base_uri": "https://localhost:8080/"
        },
        "id": "PncCdH4ZF0jt",
        "outputId": "0273f674-86b9-456b-fa1a-21108af874ff"
      },
      "execution_count": 206,
      "outputs": [
        {
          "output_type": "execute_result",
          "data": {
            "text/plain": [
              "3"
            ]
          },
          "metadata": {},
          "execution_count": 206
        }
      ]
    },
    {
      "cell_type": "code",
      "source": [
        "g.num_edges(('ID', 'follower', 'ID'))"
      ],
      "metadata": {
        "colab": {
          "base_uri": "https://localhost:8080/"
        },
        "id": "Jbrd3V-iDaKW",
        "outputId": "4274ab52-85e5-4af2-d069-3a0743b1e5e9"
      },
      "execution_count": 207,
      "outputs": [
        {
          "output_type": "execute_result",
          "data": {
            "text/plain": [
              "4"
            ]
          },
          "metadata": {},
          "execution_count": 207
        }
      ]
    },
    {
      "cell_type": "code",
      "source": [
        "g.num_edges(('ID', 'Cinema', 'Video'))"
      ],
      "metadata": {
        "colab": {
          "base_uri": "https://localhost:8080/"
        },
        "id": "IA5hjEPNFh5N",
        "outputId": "b04d57b4-1318-4abf-bf2f-5ced184f99dc"
      },
      "execution_count": 208,
      "outputs": [
        {
          "output_type": "execute_result",
          "data": {
            "text/plain": [
              "3"
            ]
          },
          "metadata": {},
          "execution_count": 208
        }
      ]
    },
    {
      "cell_type": "code",
      "source": [
        "g.num_edges(('Video', 'belongs_to', 'genre'))"
      ],
      "metadata": {
        "colab": {
          "base_uri": "https://localhost:8080/"
        },
        "id": "HrTVW6J9Dko8",
        "outputId": "77cea2d8-d2dd-4e28-fb97-7792e01a47c6"
      },
      "execution_count": 209,
      "outputs": [
        {
          "output_type": "execute_result",
          "data": {
            "text/plain": [
              "3"
            ]
          },
          "metadata": {},
          "execution_count": 209
        }
      ]
    },
    {
      "cell_type": "markdown",
      "source": [
        " Alias of num_edges()\n",
        "\n"
      ],
      "metadata": {
        "id": "XmbmRT1KGlBk"
      }
    },
    {
      "cell_type": "code",
      "source": [
        "g.num_edges()"
      ],
      "metadata": {
        "colab": {
          "base_uri": "https://localhost:8080/"
        },
        "id": "FsUpuTCyGjxk",
        "outputId": "e401a23a-f4c9-410c-d0f9-2347beae8b54"
      },
      "execution_count": 210,
      "outputs": [
        {
          "output_type": "execute_result",
          "data": {
            "text/plain": [
              "10"
            ]
          },
          "metadata": {},
          "execution_count": 210
        }
      ]
    },
    {
      "cell_type": "markdown",
      "source": [
        "Return the number of source nodes in the graph"
      ],
      "metadata": {
        "id": "9xew6btEvush"
      }
    },
    {
      "cell_type": "code",
      "source": [
        "g.num_src_nodes('ID')"
      ],
      "metadata": {
        "colab": {
          "base_uri": "https://localhost:8080/"
        },
        "id": "GDDqa-ysGpZ1",
        "outputId": "33a46302-265c-4dc6-b53d-8eb6d062b998"
      },
      "execution_count": 211,
      "outputs": [
        {
          "output_type": "execute_result",
          "data": {
            "text/plain": [
              "4"
            ]
          },
          "metadata": {},
          "execution_count": 211
        }
      ]
    },
    {
      "cell_type": "code",
      "source": [
        "g.num_src_nodes('Video')"
      ],
      "metadata": {
        "colab": {
          "base_uri": "https://localhost:8080/"
        },
        "id": "aTTx1mbUG6Hk",
        "outputId": "9f5f43e8-882b-41ff-f13a-c583d63b9967"
      },
      "execution_count": 212,
      "outputs": [
        {
          "output_type": "execute_result",
          "data": {
            "text/plain": [
              "7"
            ]
          },
          "metadata": {},
          "execution_count": 212
        }
      ]
    },
    {
      "cell_type": "code",
      "source": [
        "g.num_src_nodes('genre')"
      ],
      "metadata": {
        "colab": {
          "base_uri": "https://localhost:8080/"
        },
        "id": "HpMMBnnSHDEM",
        "outputId": "4f637a25-9a74-4a1e-9f77-acacd6d33b42"
      },
      "execution_count": 213,
      "outputs": [
        {
          "output_type": "execute_result",
          "data": {
            "text/plain": [
              "10"
            ]
          },
          "metadata": {},
          "execution_count": 213
        }
      ]
    },
    {
      "cell_type": "markdown",
      "source": [
        " Alias of num_src_nodes()"
      ],
      "metadata": {
        "id": "gzf5E2ZJHOIV"
      }
    },
    {
      "cell_type": "code",
      "source": [
        "g.num_src_nodes()"
      ],
      "metadata": {
        "colab": {
          "base_uri": "https://localhost:8080/"
        },
        "id": "OHx7Qoz0HQQl",
        "outputId": "daef185a-20c2-4c18-d5e3-7d4dd49051cd"
      },
      "execution_count": 214,
      "outputs": [
        {
          "output_type": "execute_result",
          "data": {
            "text/plain": [
              "21"
            ]
          },
          "metadata": {},
          "execution_count": 214
        }
      ]
    },
    {
      "cell_type": "markdown",
      "source": [
        " Return the number of destination nodes in the graph."
      ],
      "metadata": {
        "id": "kMM_08DsHSy8"
      }
    },
    {
      "cell_type": "code",
      "source": [
        "g.num_dst_nodes('ID')"
      ],
      "metadata": {
        "colab": {
          "base_uri": "https://localhost:8080/"
        },
        "id": "Z6M2ApVKHVF0",
        "outputId": "32587734-9f5a-4e04-b65c-732f90d44e1d"
      },
      "execution_count": 215,
      "outputs": [
        {
          "output_type": "execute_result",
          "data": {
            "text/plain": [
              "4"
            ]
          },
          "metadata": {},
          "execution_count": 215
        }
      ]
    },
    {
      "cell_type": "code",
      "source": [
        "g.num_dst_nodes('Video')"
      ],
      "metadata": {
        "colab": {
          "base_uri": "https://localhost:8080/"
        },
        "id": "5E7AalQ5HZ4M",
        "outputId": "8ac7f6ab-10ef-481f-9519-9a708793fe52"
      },
      "execution_count": 216,
      "outputs": [
        {
          "output_type": "execute_result",
          "data": {
            "text/plain": [
              "7"
            ]
          },
          "metadata": {},
          "execution_count": 216
        }
      ]
    },
    {
      "cell_type": "code",
      "source": [
        "g.num_dst_nodes('genre')"
      ],
      "metadata": {
        "colab": {
          "base_uri": "https://localhost:8080/"
        },
        "id": "XJbwfZNXHbGE",
        "outputId": "557c0cba-0e4e-4af4-96eb-6b65be73b290"
      },
      "execution_count": 217,
      "outputs": [
        {
          "output_type": "execute_result",
          "data": {
            "text/plain": [
              "10"
            ]
          },
          "metadata": {},
          "execution_count": 217
        }
      ]
    },
    {
      "cell_type": "markdown",
      "source": [
        " Alias of num_dst_nodes()"
      ],
      "metadata": {
        "id": "3a6OzQzKHnR8"
      }
    },
    {
      "cell_type": "code",
      "source": [
        "g.num_dst_nodes()"
      ],
      "metadata": {
        "colab": {
          "base_uri": "https://localhost:8080/"
        },
        "id": "VPtHeO45Hpbd",
        "outputId": "a4029f11-d817-47b6-cb28-dbe24a07b832"
      },
      "execution_count": 218,
      "outputs": [
        {
          "output_type": "execute_result",
          "data": {
            "text/plain": [
              "21"
            ]
          },
          "metadata": {},
          "execution_count": 218
        }
      ]
    },
    {
      "cell_type": "markdown",
      "source": [
        " Return whether the graph is a uni-bipartite graph."
      ],
      "metadata": {
        "id": "amwDb7a4H2Y8"
      }
    },
    {
      "cell_type": "code",
      "source": [
        "g.is_unibipartite"
      ],
      "metadata": {
        "colab": {
          "base_uri": "https://localhost:8080/"
        },
        "id": "j1jLklLpH4Vs",
        "outputId": "ab03d557-8107-49f2-a6b9-a946b1c03f0c"
      },
      "execution_count": 219,
      "outputs": [
        {
          "output_type": "execute_result",
          "data": {
            "text/plain": [
              "False"
            ]
          },
          "metadata": {},
          "execution_count": 219
        }
      ]
    },
    {
      "cell_type": "markdown",
      "source": [
        " Return whether the graph is a multigraph with parallel edges"
      ],
      "metadata": {
        "id": "ajVZyaozIMPN"
      }
    },
    {
      "cell_type": "code",
      "source": [
        "g.is_multigraph"
      ],
      "metadata": {
        "colab": {
          "base_uri": "https://localhost:8080/"
        },
        "id": "jfWHNyS-IO5V",
        "outputId": "f72f89f4-a137-4699-e5ec-bb0e73ff6076"
      },
      "execution_count": 220,
      "outputs": [
        {
          "output_type": "execute_result",
          "data": {
            "text/plain": [
              "False"
            ]
          },
          "metadata": {},
          "execution_count": 220
        }
      ]
    },
    {
      "cell_type": "markdown",
      "source": [
        "Return whether the graph is a homogeneous graph.\n",
        "\n"
      ],
      "metadata": {
        "id": "a1U6jmKgITM0"
      }
    },
    {
      "cell_type": "code",
      "source": [
        "g.is_homogeneous"
      ],
      "metadata": {
        "colab": {
          "base_uri": "https://localhost:8080/"
        },
        "id": "ZWFVjW6XISc0",
        "outputId": "bce19b73-4ec6-4d07-d72a-2533971c1dcb"
      },
      "execution_count": 221,
      "outputs": [
        {
          "output_type": "execute_result",
          "data": {
            "text/plain": [
              "False"
            ]
          },
          "metadata": {},
          "execution_count": 221
        }
      ]
    },
    {
      "cell_type": "markdown",
      "source": [
        "Return whether the graph contains the given nodes.\n",
        "\n"
      ],
      "metadata": {
        "id": "QYm3Hih3IW89"
      }
    },
    {
      "cell_type": "code",
      "source": [
        "g.has_nodes(0, 'ID')"
      ],
      "metadata": {
        "colab": {
          "base_uri": "https://localhost:8080/"
        },
        "id": "SveLzNPyIWMc",
        "outputId": "537a3ab7-b4cb-41ef-a496-f4bf63ee6fc7"
      },
      "execution_count": 222,
      "outputs": [
        {
          "output_type": "execute_result",
          "data": {
            "text/plain": [
              "True"
            ]
          },
          "metadata": {},
          "execution_count": 222
        }
      ]
    },
    {
      "cell_type": "code",
      "source": [
        "g.has_nodes(1, 'ID')"
      ],
      "metadata": {
        "colab": {
          "base_uri": "https://localhost:8080/"
        },
        "id": "-doT_DfeIeJE",
        "outputId": "deda2002-1b8a-4704-aed6-d8a9bc1b9c33"
      },
      "execution_count": 223,
      "outputs": [
        {
          "output_type": "execute_result",
          "data": {
            "text/plain": [
              "True"
            ]
          },
          "metadata": {},
          "execution_count": 223
        }
      ]
    },
    {
      "cell_type": "code",
      "source": [
        "g.has_nodes(4, 'ID')"
      ],
      "metadata": {
        "colab": {
          "base_uri": "https://localhost:8080/"
        },
        "id": "hC86mXY9IhGU",
        "outputId": "80a81675-aa07-4d94-f8de-f0471ca8c839"
      },
      "execution_count": 224,
      "outputs": [
        {
          "output_type": "execute_result",
          "data": {
            "text/plain": [
              "False"
            ]
          },
          "metadata": {},
          "execution_count": 224
        }
      ]
    },
    {
      "cell_type": "code",
      "source": [
        "g.has_nodes(4, 'Video')"
      ],
      "metadata": {
        "outputId": "f1508a93-a695-44ef-91a3-9b984ea5218f",
        "colab": {
          "base_uri": "https://localhost:8080/"
        },
        "id": "V4mmO97kIjvN"
      },
      "execution_count": 225,
      "outputs": [
        {
          "output_type": "execute_result",
          "data": {
            "text/plain": [
              "True"
            ]
          },
          "metadata": {},
          "execution_count": 225
        }
      ]
    },
    {
      "cell_type": "code",
      "source": [
        "g.has_nodes(9, 'Video')"
      ],
      "metadata": {
        "outputId": "e9cdb7b4-a587-466d-dd28-b53fa5093901",
        "colab": {
          "base_uri": "https://localhost:8080/"
        },
        "id": "-y3ABm53Ij0-"
      },
      "execution_count": 226,
      "outputs": [
        {
          "output_type": "execute_result",
          "data": {
            "text/plain": [
              "False"
            ]
          },
          "metadata": {},
          "execution_count": 226
        }
      ]
    },
    {
      "cell_type": "code",
      "source": [
        "g.has_nodes(2, 'genre')"
      ],
      "metadata": {
        "outputId": "000ab3d8-80f3-4728-ce9a-524de1131333",
        "colab": {
          "base_uri": "https://localhost:8080/"
        },
        "id": "5VCrt4F2Ij4M"
      },
      "execution_count": 227,
      "outputs": [
        {
          "output_type": "execute_result",
          "data": {
            "text/plain": [
              "True"
            ]
          },
          "metadata": {},
          "execution_count": 227
        }
      ]
    },
    {
      "cell_type": "code",
      "source": [
        "g.has_nodes(5, 'genre')"
      ],
      "metadata": {
        "outputId": "6260ac81-70a3-4852-a40e-8394291f95b2",
        "colab": {
          "base_uri": "https://localhost:8080/"
        },
        "id": "9DNwq5rNIj9I"
      },
      "execution_count": 228,
      "outputs": [
        {
          "output_type": "execute_result",
          "data": {
            "text/plain": [
              "True"
            ]
          },
          "metadata": {},
          "execution_count": 228
        }
      ]
    },
    {
      "cell_type": "code",
      "source": [
        "g.has_nodes(torch.tensor([1, 1, 2]), 'genre')"
      ],
      "metadata": {
        "colab": {
          "base_uri": "https://localhost:8080/"
        },
        "id": "gSYTSQ_4Iz3t",
        "outputId": "e7133359-7f7e-4ca5-aa5f-36d579490f4f"
      },
      "execution_count": 229,
      "outputs": [
        {
          "output_type": "execute_result",
          "data": {
            "text/plain": [
              "tensor([True, True, True])"
            ]
          },
          "metadata": {},
          "execution_count": 229
        }
      ]
    },
    {
      "cell_type": "code",
      "source": [
        "g.has_nodes(torch.tensor([2, 3, 5]), 'Video')"
      ],
      "metadata": {
        "colab": {
          "base_uri": "https://localhost:8080/"
        },
        "id": "x5dXMAQQI30c",
        "outputId": "cad57de8-96a6-40ca-b996-a010dd2ef629"
      },
      "execution_count": 230,
      "outputs": [
        {
          "output_type": "execute_result",
          "data": {
            "text/plain": [
              "tensor([True, True, True])"
            ]
          },
          "metadata": {},
          "execution_count": 230
        }
      ]
    },
    {
      "cell_type": "code",
      "source": [
        "g.has_nodes(torch.tensor([7, 8, 9]), 'ID')"
      ],
      "metadata": {
        "colab": {
          "base_uri": "https://localhost:8080/"
        },
        "id": "lW-X4J3aI-h8",
        "outputId": "5ab17fd4-1694-4a67-bccc-f6ca149d01da"
      },
      "execution_count": 231,
      "outputs": [
        {
          "output_type": "execute_result",
          "data": {
            "text/plain": [
              "tensor([False, False, False])"
            ]
          },
          "metadata": {},
          "execution_count": 231
        }
      ]
    },
    {
      "cell_type": "code",
      "source": [
        "g.has_nodes(torch.tensor([1, 8, 0]), 'ID')"
      ],
      "metadata": {
        "colab": {
          "base_uri": "https://localhost:8080/"
        },
        "id": "kEpNTiaPJCEs",
        "outputId": "a8db10f0-4301-4b9b-9ff6-c73b45834052"
      },
      "execution_count": 232,
      "outputs": [
        {
          "output_type": "execute_result",
          "data": {
            "text/plain": [
              "tensor([ True, False,  True])"
            ]
          },
          "metadata": {},
          "execution_count": 232
        }
      ]
    },
    {
      "cell_type": "markdown",
      "source": [
        "Return whether the graph contains the given edges."
      ],
      "metadata": {
        "id": "7Q8HrLbVJFG7"
      }
    },
    {
      "cell_type": "code",
      "source": [
        "g.has_edges_between(torch.tensor([1, 2]), torch.tensor([2, 3]),\n",
        "                    ('ID', 'follower', 'ID'))"
      ],
      "metadata": {
        "colab": {
          "base_uri": "https://localhost:8080/"
        },
        "id": "-WnMipiZJHek",
        "outputId": "079a6943-f445-4437-bb45-2d18795caba0"
      },
      "execution_count": 233,
      "outputs": [
        {
          "output_type": "execute_result",
          "data": {
            "text/plain": [
              "tensor([ True, False])"
            ]
          },
          "metadata": {},
          "execution_count": 233
        }
      ]
    },
    {
      "cell_type": "code",
      "source": [
        "g.has_edges_between(torch.tensor([4, 5]), torch.tensor([8, 9]),\n",
        "                     ('Video', 'belongs_to', 'genre'))"
      ],
      "metadata": {
        "colab": {
          "base_uri": "https://localhost:8080/"
        },
        "id": "f1KhhvjeJcRE",
        "outputId": "c4d84347-c546-4b90-de3f-013546f3fe9c"
      },
      "execution_count": 234,
      "outputs": [
        {
          "output_type": "execute_result",
          "data": {
            "text/plain": [
              "tensor([False, False])"
            ]
          },
          "metadata": {},
          "execution_count": 234
        }
      ]
    },
    {
      "cell_type": "code",
      "source": [
        "g.has_edges_between(torch.tensor([3, 1]), torch.tensor([5, 4]),\n",
        "                    ('ID', 'Cinema', 'Video'))"
      ],
      "metadata": {
        "colab": {
          "base_uri": "https://localhost:8080/"
        },
        "id": "66wM_xTzKUsk",
        "outputId": "6be5208e-53cd-4535-a8b5-9c6765066ee7"
      },
      "execution_count": 235,
      "outputs": [
        {
          "output_type": "execute_result",
          "data": {
            "text/plain": [
              "tensor([True, True])"
            ]
          },
          "metadata": {},
          "execution_count": 235
        }
      ]
    },
    {
      "cell_type": "markdown",
      "source": [
        "Return the predecessor(s) of a particular node with the specified edge type."
      ],
      "metadata": {
        "id": "Kg81Fq3SKgvN"
      }
    },
    {
      "cell_type": "code",
      "source": [
        "#f = dgl.graph((torch.tensor([1, 1, 0, 3]), torch.tensor([2, 3, 3, 1])))\n",
        "f.predecessors(1)"
      ],
      "metadata": {
        "colab": {
          "base_uri": "https://localhost:8080/"
        },
        "id": "kVKhghn1LF0c",
        "outputId": "b5ad03be-52b0-405a-a12f-23ce2f32b222"
      },
      "execution_count": 236,
      "outputs": [
        {
          "output_type": "execute_result",
          "data": {
            "text/plain": [
              "tensor([3])"
            ]
          },
          "metadata": {},
          "execution_count": 236
        }
      ]
    },
    {
      "cell_type": "code",
      "source": [
        "g.predecessors(1, etype='follower')"
      ],
      "metadata": {
        "colab": {
          "base_uri": "https://localhost:8080/"
        },
        "id": "XkQDr6z5KjFc",
        "outputId": "471d721b-dae2-42e9-aac8-124c35f78d1e"
      },
      "execution_count": 237,
      "outputs": [
        {
          "output_type": "execute_result",
          "data": {
            "text/plain": [
              "tensor([0])"
            ]
          },
          "metadata": {},
          "execution_count": 237
        }
      ]
    },
    {
      "cell_type": "code",
      "source": [
        "g.predecessors(4, etype='Cinema')"
      ],
      "metadata": {
        "colab": {
          "base_uri": "https://localhost:8080/"
        },
        "outputId": "00adb6c2-08c7-4aae-9c09-a27d74e412aa",
        "id": "UeFP8A_xKyU8"
      },
      "execution_count": 238,
      "outputs": [
        {
          "output_type": "execute_result",
          "data": {
            "text/plain": [
              "tensor([1])"
            ]
          },
          "metadata": {},
          "execution_count": 238
        }
      ]
    },
    {
      "cell_type": "code",
      "source": [
        "g.predecessors(7, etype='belongs_to')"
      ],
      "metadata": {
        "colab": {
          "base_uri": "https://localhost:8080/"
        },
        "outputId": "b63d49fa-9a94-493d-9405-bbdb3ec12ca4",
        "id": "iP0sUDiYKyat"
      },
      "execution_count": 239,
      "outputs": [
        {
          "output_type": "execute_result",
          "data": {
            "text/plain": [
              "tensor([4])"
            ]
          },
          "metadata": {},
          "execution_count": 239
        }
      ]
    },
    {
      "cell_type": "markdown",
      "source": [
        "Return the successor(s) of a particular node with the specified edge type.\n",
        "\n"
      ],
      "metadata": {
        "id": "FlrWu3-4Ldqu"
      }
    },
    {
      "cell_type": "code",
      "source": [
        "f.successors(1)"
      ],
      "metadata": {
        "colab": {
          "base_uri": "https://localhost:8080/"
        },
        "id": "XQTX8hnjKxoN",
        "outputId": "da0f18fa-400a-4c65-bad5-801d871c4ee7"
      },
      "execution_count": 240,
      "outputs": [
        {
          "output_type": "execute_result",
          "data": {
            "text/plain": [
              "tensor([2, 3])"
            ]
          },
          "metadata": {},
          "execution_count": 240
        }
      ]
    },
    {
      "cell_type": "code",
      "source": [
        "g.successors(1, etype='follower')"
      ],
      "metadata": {
        "colab": {
          "base_uri": "https://localhost:8080/"
        },
        "id": "pNb00cnuLmCN",
        "outputId": "fac42b7f-a244-4620-ee66-50b0c70b86a5"
      },
      "execution_count": 241,
      "outputs": [
        {
          "output_type": "execute_result",
          "data": {
            "text/plain": [
              "tensor([2, 3])"
            ]
          },
          "metadata": {},
          "execution_count": 241
        }
      ]
    },
    {
      "cell_type": "code",
      "source": [
        "g.successors(2, etype='Cinema')"
      ],
      "metadata": {
        "colab": {
          "base_uri": "https://localhost:8080/"
        },
        "id": "itpHJdfELrid",
        "outputId": "ef44984b-928d-4aa5-ca0b-d431666e0a97"
      },
      "execution_count": 242,
      "outputs": [
        {
          "output_type": "execute_result",
          "data": {
            "text/plain": [
              "tensor([6])"
            ]
          },
          "metadata": {},
          "execution_count": 242
        }
      ]
    },
    {
      "cell_type": "code",
      "source": [
        "g.successors(4, etype='belongs_to')"
      ],
      "metadata": {
        "colab": {
          "base_uri": "https://localhost:8080/"
        },
        "id": "wnQevNyoLrko",
        "outputId": "98d34b82-a2e9-4bb4-94d9-9ecee26583d5"
      },
      "execution_count": 243,
      "outputs": [
        {
          "output_type": "execute_result",
          "data": {
            "text/plain": [
              "tensor([7])"
            ]
          },
          "metadata": {},
          "execution_count": 243
        }
      ]
    },
    {
      "cell_type": "markdown",
      "source": [
        "Return the edge ID(s) given the two endpoints of the edge(s).\n"
      ],
      "metadata": {
        "id": "Xekqi-2YL10N"
      }
    },
    {
      "cell_type": "markdown",
      "source": [
        "Query for the edges.\n",
        "\n"
      ],
      "metadata": {
        "id": "Emj7x6E4MfMN"
      }
    },
    {
      "cell_type": "code",
      "source": [
        "f.edge_ids(1, 3)"
      ],
      "metadata": {
        "colab": {
          "base_uri": "https://localhost:8080/"
        },
        "id": "CC6jBu0fMN11",
        "outputId": "fc32b56a-9a59-4ea4-e33e-c594c4ac003c"
      },
      "execution_count": 244,
      "outputs": [
        {
          "output_type": "execute_result",
          "data": {
            "text/plain": [
              "1"
            ]
          },
          "metadata": {},
          "execution_count": 244
        }
      ]
    },
    {
      "cell_type": "code",
      "source": [
        "f.edge_ids(torch.tensor([1, 3]), torch.tensor([3, 1]))"
      ],
      "metadata": {
        "colab": {
          "base_uri": "https://localhost:8080/"
        },
        "id": "aG_-m-CzLyh8",
        "outputId": "be33eea8-094d-476c-8a99-0e305f2183f9"
      },
      "execution_count": 245,
      "outputs": [
        {
          "output_type": "execute_result",
          "data": {
            "text/plain": [
              "tensor([1, 3])"
            ]
          },
          "metadata": {},
          "execution_count": 245
        }
      ]
    },
    {
      "cell_type": "markdown",
      "source": [
        "Get all edges for pairs of nodes.\n",
        "\n"
      ],
      "metadata": {
        "id": "iAmSwtNPMhlc"
      }
    },
    {
      "cell_type": "code",
      "source": [
        "f.edge_ids(torch.tensor([1, 3]), torch.tensor([3, 1]), return_uv=True)"
      ],
      "metadata": {
        "colab": {
          "base_uri": "https://localhost:8080/"
        },
        "id": "jGcpzElmMiqc",
        "outputId": "6d060deb-b55a-4af7-95b3-3366c22c1b7b"
      },
      "execution_count": 246,
      "outputs": [
        {
          "output_type": "execute_result",
          "data": {
            "text/plain": [
              "(tensor([1, 3]), tensor([3, 1]), tensor([1, 3]))"
            ]
          },
          "metadata": {},
          "execution_count": 246
        }
      ]
    },
    {
      "cell_type": "markdown",
      "source": [
        "If the graph has multiple edge types,"
      ],
      "metadata": {
        "id": "gWrK-c9rMqEd"
      }
    },
    {
      "cell_type": "code",
      "source": [
        "g.edge_ids(torch.tensor([1]), torch.tensor([2]), etype='follower')\n"
      ],
      "metadata": {
        "colab": {
          "base_uri": "https://localhost:8080/"
        },
        "id": "hyPzezFOMo1V",
        "outputId": "62d7dff0-eb51-42d8-feb3-605533ca0958"
      },
      "execution_count": 247,
      "outputs": [
        {
          "output_type": "execute_result",
          "data": {
            "text/plain": [
              "tensor([1])"
            ]
          },
          "metadata": {},
          "execution_count": 247
        }
      ]
    },
    {
      "cell_type": "code",
      "source": [
        "g.edge_ids(torch.tensor([5]), torch.tensor([8]), etype='belongs_to')"
      ],
      "metadata": {
        "colab": {
          "base_uri": "https://localhost:8080/"
        },
        "id": "53ArG8YgM07e",
        "outputId": "aff9f858-4a1d-4258-e773-23f22f245d36"
      },
      "execution_count": 248,
      "outputs": [
        {
          "output_type": "execute_result",
          "data": {
            "text/plain": [
              "tensor([1])"
            ]
          },
          "metadata": {},
          "execution_count": 248
        }
      ]
    },
    {
      "cell_type": "markdown",
      "source": [
        "Use a canonical edge type instead when there is ambiguity for an edge type.\n"
      ],
      "metadata": {
        "id": "4-XNjDF7M-91"
      }
    },
    {
      "cell_type": "code",
      "source": [
        "g.edge_ids(torch.tensor([0, 1]), torch.tensor([1, 2]),\n",
        "           etype=('ID', 'follower', 'ID'))"
      ],
      "metadata": {
        "colab": {
          "base_uri": "https://localhost:8080/"
        },
        "id": "DBWj9S-sNAY8",
        "outputId": "c9f1a1b8-1b3b-4099-9382-639ecd610e2c"
      },
      "execution_count": 249,
      "outputs": [
        {
          "output_type": "execute_result",
          "data": {
            "text/plain": [
              "tensor([0, 1])"
            ]
          },
          "metadata": {},
          "execution_count": 249
        }
      ]
    },
    {
      "cell_type": "markdown",
      "source": [
        "Return the source and destination node ID(s) given the edge ID(s).\n",
        "\n"
      ],
      "metadata": {
        "id": "p3y5ajVtNtlE"
      }
    },
    {
      "cell_type": "code",
      "source": [
        "f.find_edges(torch.tensor([1, 2]))"
      ],
      "metadata": {
        "colab": {
          "base_uri": "https://localhost:8080/"
        },
        "id": "9wEGo6DSNvB-",
        "outputId": "7dac9062-aa3c-439b-8d22-4830c4e4be1a"
      },
      "execution_count": 250,
      "outputs": [
        {
          "output_type": "execute_result",
          "data": {
            "text/plain": [
              "(tensor([1, 0]), tensor([3, 3]))"
            ]
          },
          "metadata": {},
          "execution_count": 250
        }
      ]
    },
    {
      "cell_type": "code",
      "source": [
        "f.find_edges(torch.tensor([0, 3]))"
      ],
      "metadata": {
        "colab": {
          "base_uri": "https://localhost:8080/"
        },
        "id": "_OjGutxuN2Ad",
        "outputId": "ada52bb3-852f-4e27-bf17-f40108b26321"
      },
      "execution_count": 251,
      "outputs": [
        {
          "output_type": "execute_result",
          "data": {
            "text/plain": [
              "(tensor([1, 3]), tensor([2, 1]))"
            ]
          },
          "metadata": {},
          "execution_count": 251
        }
      ]
    },
    {
      "cell_type": "code",
      "source": [
        "g.find_edges(torch.tensor([1, 0]), 'Cinema')"
      ],
      "metadata": {
        "colab": {
          "base_uri": "https://localhost:8080/"
        },
        "id": "K11UNAk9OH1l",
        "outputId": "386cabf4-c146-4498-da74-b0814e1a0ba0"
      },
      "execution_count": 252,
      "outputs": [
        {
          "output_type": "execute_result",
          "data": {
            "text/plain": [
              "(tensor([1, 3]), tensor([4, 5]))"
            ]
          },
          "metadata": {},
          "execution_count": 252
        }
      ]
    },
    {
      "cell_type": "code",
      "source": [
        "g.find_edges(torch.tensor([1, 2]), 'belongs_to')"
      ],
      "metadata": {
        "colab": {
          "base_uri": "https://localhost:8080/"
        },
        "id": "tIVjQL-2OMzl",
        "outputId": "53501f06-e468-48ba-b290-9c523e13052c"
      },
      "execution_count": 253,
      "outputs": [
        {
          "output_type": "execute_result",
          "data": {
            "text/plain": [
              "(tensor([5, 6]), tensor([8, 9]))"
            ]
          },
          "metadata": {},
          "execution_count": 253
        }
      ]
    },
    {
      "cell_type": "markdown",
      "source": [
        "Return the incoming edges of the given nodes.\n",
        "\n"
      ],
      "metadata": {
        "id": "JmMjVE-hOa_l"
      }
    },
    {
      "cell_type": "code",
      "source": [
        "f.in_edges(torch.tensor([1, 0]))"
      ],
      "metadata": {
        "colab": {
          "base_uri": "https://localhost:8080/"
        },
        "id": "NUEfnspmOcYE",
        "outputId": "ca334f7a-0968-4c87-9794-c353836666b6"
      },
      "execution_count": 254,
      "outputs": [
        {
          "output_type": "execute_result",
          "data": {
            "text/plain": [
              "(tensor([3]), tensor([1]))"
            ]
          },
          "metadata": {},
          "execution_count": 254
        }
      ]
    },
    {
      "cell_type": "code",
      "source": [
        "f.in_edges(torch.tensor([1, 3]))"
      ],
      "metadata": {
        "colab": {
          "base_uri": "https://localhost:8080/"
        },
        "id": "SI9EzhqvOgnM",
        "outputId": "9893a258-be1d-4c6f-fd12-fcce91e8a671"
      },
      "execution_count": 255,
      "outputs": [
        {
          "output_type": "execute_result",
          "data": {
            "text/plain": [
              "(tensor([3, 1, 0]), tensor([1, 3, 3]))"
            ]
          },
          "metadata": {},
          "execution_count": 255
        }
      ]
    },
    {
      "cell_type": "code",
      "source": [
        "f.in_edges(torch.tensor([1, 2]), form='all')"
      ],
      "metadata": {
        "colab": {
          "base_uri": "https://localhost:8080/"
        },
        "id": "N1wSBXV1Ok_l",
        "outputId": "50922299-5175-48ff-bf57-7b5328bf383d"
      },
      "execution_count": 256,
      "outputs": [
        {
          "output_type": "execute_result",
          "data": {
            "text/plain": [
              "(tensor([3, 1]), tensor([1, 2]), tensor([3, 0]))"
            ]
          },
          "metadata": {},
          "execution_count": 256
        }
      ]
    },
    {
      "cell_type": "code",
      "source": [
        "g.in_edges(torch.tensor([0, 1]), etype='follower')"
      ],
      "metadata": {
        "colab": {
          "base_uri": "https://localhost:8080/"
        },
        "id": "7vQcQs9cOoWs",
        "outputId": "af4b4738-d0da-4811-c014-529dd23a3d7b"
      },
      "execution_count": 257,
      "outputs": [
        {
          "output_type": "execute_result",
          "data": {
            "text/plain": [
              "(tensor([2, 0]), tensor([0, 1]))"
            ]
          },
          "metadata": {},
          "execution_count": 257
        }
      ]
    },
    {
      "cell_type": "markdown",
      "source": [
        "Return the outgoing edges of the given nodes.\n",
        "\n"
      ],
      "metadata": {
        "id": "WPU1uhlyOxbG"
      }
    },
    {
      "cell_type": "code",
      "source": [
        "f.out_edges(torch.tensor([2, 3]))"
      ],
      "metadata": {
        "colab": {
          "base_uri": "https://localhost:8080/"
        },
        "id": "sbVaUmlqOwRO",
        "outputId": "c1a0a61b-0c46-435f-b461-789f5ff5f5f4"
      },
      "execution_count": 258,
      "outputs": [
        {
          "output_type": "execute_result",
          "data": {
            "text/plain": [
              "(tensor([3]), tensor([1]))"
            ]
          },
          "metadata": {},
          "execution_count": 258
        }
      ]
    },
    {
      "cell_type": "code",
      "source": [
        "f.out_edges(torch.tensor([0, 2]))"
      ],
      "metadata": {
        "colab": {
          "base_uri": "https://localhost:8080/"
        },
        "id": "Bl80SiYdO25E",
        "outputId": "73e17942-da8c-48cd-b2f4-3ac7f8595e3d"
      },
      "execution_count": 259,
      "outputs": [
        {
          "output_type": "execute_result",
          "data": {
            "text/plain": [
              "(tensor([0]), tensor([3]))"
            ]
          },
          "metadata": {},
          "execution_count": 259
        }
      ]
    },
    {
      "cell_type": "code",
      "source": [
        "f.out_edges(torch.tensor([1, 2]), form='all')"
      ],
      "metadata": {
        "colab": {
          "base_uri": "https://localhost:8080/"
        },
        "id": "JCHTfKVJPA5e",
        "outputId": "cc9b5aaf-cadf-44fb-dae1-55ad981473e4"
      },
      "execution_count": 260,
      "outputs": [
        {
          "output_type": "execute_result",
          "data": {
            "text/plain": [
              "(tensor([1, 1]), tensor([2, 3]), tensor([0, 1]))"
            ]
          },
          "metadata": {},
          "execution_count": 260
        }
      ]
    },
    {
      "cell_type": "code",
      "source": [
        "f.out_edges(torch.tensor([2, 3]), form='all')"
      ],
      "metadata": {
        "colab": {
          "base_uri": "https://localhost:8080/"
        },
        "id": "eT6onT5OPEkd",
        "outputId": "366e36ee-e122-4e37-94d8-672e381b8ac2"
      },
      "execution_count": 261,
      "outputs": [
        {
          "output_type": "execute_result",
          "data": {
            "text/plain": [
              "(tensor([3]), tensor([1]), tensor([3]))"
            ]
          },
          "metadata": {},
          "execution_count": 261
        }
      ]
    },
    {
      "cell_type": "code",
      "source": [
        "g.out_edges(torch.tensor([0, 2]), etype='follower')"
      ],
      "metadata": {
        "colab": {
          "base_uri": "https://localhost:8080/"
        },
        "id": "SJmSebNEPIOG",
        "outputId": "887bd8c6-caa9-46cc-c0fd-f42023e6871b"
      },
      "execution_count": 262,
      "outputs": [
        {
          "output_type": "execute_result",
          "data": {
            "text/plain": [
              "(tensor([0, 2]), tensor([1, 0]))"
            ]
          },
          "metadata": {},
          "execution_count": 262
        }
      ]
    },
    {
      "cell_type": "code",
      "source": [
        "g.out_edges(torch.tensor([0, 2]), etype='Cinema')"
      ],
      "metadata": {
        "colab": {
          "base_uri": "https://localhost:8080/"
        },
        "id": "tbO81WKePMSe",
        "outputId": "1afabb7e-59fd-4a0e-d7c5-b8bd90e9f09a"
      },
      "execution_count": 263,
      "outputs": [
        {
          "output_type": "execute_result",
          "data": {
            "text/plain": [
              "(tensor([2]), tensor([6]))"
            ]
          },
          "metadata": {},
          "execution_count": 263
        }
      ]
    },
    {
      "cell_type": "markdown",
      "source": [
        "Return the in-degree(s) of the given nodes.\n",
        "\n"
      ],
      "metadata": {
        "id": "CDz9qr1zPRhu"
      }
    },
    {
      "cell_type": "code",
      "source": [
        "f.in_degrees()"
      ],
      "metadata": {
        "colab": {
          "base_uri": "https://localhost:8080/"
        },
        "id": "R1mR97tvPTGV",
        "outputId": "530ca2e7-d587-44b7-e5d2-8bb737a9af1f"
      },
      "execution_count": 264,
      "outputs": [
        {
          "output_type": "execute_result",
          "data": {
            "text/plain": [
              "tensor([0, 1, 1, 2])"
            ]
          },
          "metadata": {},
          "execution_count": 264
        }
      ]
    },
    {
      "cell_type": "code",
      "source": [
        "f.in_degrees(torch.tensor([1, 2]))"
      ],
      "metadata": {
        "colab": {
          "base_uri": "https://localhost:8080/"
        },
        "id": "cO5T_3IaPWot",
        "outputId": "a1cb4b99-4766-453f-bc4a-17e4edc72e6d"
      },
      "execution_count": 265,
      "outputs": [
        {
          "output_type": "execute_result",
          "data": {
            "text/plain": [
              "tensor([1, 1])"
            ]
          },
          "metadata": {},
          "execution_count": 265
        }
      ]
    },
    {
      "cell_type": "code",
      "source": [
        "g.in_degrees(torch.tensor([0, 3]), etype='follower')"
      ],
      "metadata": {
        "colab": {
          "base_uri": "https://localhost:8080/"
        },
        "id": "3nNa0dNRPbCG",
        "outputId": "eb45a2ec-5dd9-44dc-aa03-a79e81980857"
      },
      "execution_count": 266,
      "outputs": [
        {
          "output_type": "execute_result",
          "data": {
            "text/plain": [
              "tensor([1, 1])"
            ]
          },
          "metadata": {},
          "execution_count": 266
        }
      ]
    },
    {
      "cell_type": "code",
      "source": [
        "g.in_degrees(torch.tensor([0, 3]), etype='Cinema')"
      ],
      "metadata": {
        "colab": {
          "base_uri": "https://localhost:8080/"
        },
        "id": "UWkJTogWPiF2",
        "outputId": "16a4df80-5b22-4147-bfed-84551a3c2ed7"
      },
      "execution_count": 267,
      "outputs": [
        {
          "output_type": "execute_result",
          "data": {
            "text/plain": [
              "tensor([0, 0])"
            ]
          },
          "metadata": {},
          "execution_count": 267
        }
      ]
    },
    {
      "cell_type": "code",
      "source": [
        "g.in_degrees(torch.tensor([0, 6]), etype='Cinema')"
      ],
      "metadata": {
        "colab": {
          "base_uri": "https://localhost:8080/"
        },
        "id": "cUH05iuHPnZF",
        "outputId": "942d84b5-cfc1-4567-bbcb-32733e64aabb"
      },
      "execution_count": 268,
      "outputs": [
        {
          "output_type": "execute_result",
          "data": {
            "text/plain": [
              "tensor([0, 1])"
            ]
          },
          "metadata": {},
          "execution_count": 268
        }
      ]
    },
    {
      "cell_type": "markdown",
      "source": [
        "Return the out-degree(s) of the given nodes.\n",
        "\n"
      ],
      "metadata": {
        "id": "h2M83XLEPq_9"
      }
    },
    {
      "cell_type": "code",
      "source": [
        "f.out_degrees()"
      ],
      "metadata": {
        "colab": {
          "base_uri": "https://localhost:8080/"
        },
        "id": "x2Ec3fH3Pt7u",
        "outputId": "d4f47362-3476-4748-821b-468dfba51844"
      },
      "execution_count": 269,
      "outputs": [
        {
          "output_type": "execute_result",
          "data": {
            "text/plain": [
              "tensor([1, 2, 0, 1])"
            ]
          },
          "metadata": {},
          "execution_count": 269
        }
      ]
    },
    {
      "cell_type": "code",
      "source": [
        "f.out_degrees(torch.tensor([1, 3]))"
      ],
      "metadata": {
        "colab": {
          "base_uri": "https://localhost:8080/"
        },
        "id": "EDC7H9F-Px-N",
        "outputId": "d218aad4-0992-4fc8-d964-6ec3aeda7ef7"
      },
      "execution_count": 270,
      "outputs": [
        {
          "output_type": "execute_result",
          "data": {
            "text/plain": [
              "tensor([2, 1])"
            ]
          },
          "metadata": {},
          "execution_count": 270
        }
      ]
    },
    {
      "cell_type": "code",
      "source": [
        "g.out_degrees(torch.tensor([1, 3]), etype='follower')"
      ],
      "metadata": {
        "colab": {
          "base_uri": "https://localhost:8080/"
        },
        "id": "k9oJbgF8P10u",
        "outputId": "d314285e-395e-45f9-8721-85456dc0cc6c"
      },
      "execution_count": 271,
      "outputs": [
        {
          "output_type": "execute_result",
          "data": {
            "text/plain": [
              "tensor([2, 0])"
            ]
          },
          "metadata": {},
          "execution_count": 271
        }
      ]
    },
    {
      "cell_type": "markdown",
      "source": [
        "# Querying and manipulating node/edge ID type"
      ],
      "metadata": {
        "id": "eeuBhj78QiHU"
      }
    },
    {
      "cell_type": "markdown",
      "source": [
        "The data type for storing the structure-related graph information such as node and edge IDs.\n",
        "\n"
      ],
      "metadata": {
        "id": "FU4CTkq_RXwN"
      }
    },
    {
      "cell_type": "code",
      "source": [
        "src_ids = torch.tensor([1, 1, 2, 3])\n",
        "dst_ids = torch.tensor([1, 2, 3, 2])\n",
        "g = dgl.graph((src_ids, dst_ids))\n",
        "g.idtype"
      ],
      "metadata": {
        "colab": {
          "base_uri": "https://localhost:8080/"
        },
        "id": "Y8tOGlzwQY8k",
        "outputId": "96ffd207-59d5-4774-eeb1-46ee0ffe2e48"
      },
      "execution_count": 272,
      "outputs": [
        {
          "output_type": "execute_result",
          "data": {
            "text/plain": [
              "torch.int64"
            ]
          },
          "metadata": {},
          "execution_count": 272
        }
      ]
    },
    {
      "cell_type": "code",
      "source": [
        "g = dgl.graph((src_ids, dst_ids), idtype=torch.int32)\n",
        "g.idtype"
      ],
      "metadata": {
        "colab": {
          "base_uri": "https://localhost:8080/"
        },
        "id": "m28CXyHZRQeF",
        "outputId": "5c9604e1-d22a-4941-b5f2-881f314fc44c"
      },
      "execution_count": 273,
      "outputs": [
        {
          "output_type": "execute_result",
          "data": {
            "text/plain": [
              "torch.int32"
            ]
          },
          "metadata": {},
          "execution_count": 273
        }
      ]
    },
    {
      "cell_type": "markdown",
      "source": [
        "Cast the graph to one with idtype int64\n",
        "\n"
      ],
      "metadata": {
        "id": "2A9Irly6RbQt"
      }
    },
    {
      "cell_type": "code",
      "source": [
        "f = dgl.graph((torch.tensor([1, 1, 0, 3]).int(), torch.tensor([2, 3, 3, 1]).int()))\n",
        "\n",
        "f.ndata['blue'] = torch.ones(4, 2)\n",
        "f.idtype"
      ],
      "metadata": {
        "colab": {
          "base_uri": "https://localhost:8080/"
        },
        "id": "C8ZADHKtRbpV",
        "outputId": "5a71d448-ed4f-4933-e82a-408298923bf1"
      },
      "execution_count": 274,
      "outputs": [
        {
          "output_type": "execute_result",
          "data": {
            "text/plain": [
              "torch.int32"
            ]
          },
          "metadata": {},
          "execution_count": 274
        }
      ]
    },
    {
      "cell_type": "code",
      "source": [
        "f_long = f.long()\n",
        "f_long.idtype"
      ],
      "metadata": {
        "colab": {
          "base_uri": "https://localhost:8080/"
        },
        "id": "NJfTNxJXS90W",
        "outputId": "07fe8eb5-2310-414e-f08c-f258599520eb"
      },
      "execution_count": 275,
      "outputs": [
        {
          "output_type": "execute_result",
          "data": {
            "text/plain": [
              "torch.int64"
            ]
          },
          "metadata": {},
          "execution_count": 275
        }
      ]
    },
    {
      "cell_type": "code",
      "source": [
        "f.idtype"
      ],
      "metadata": {
        "colab": {
          "base_uri": "https://localhost:8080/"
        },
        "id": "QaTRBJs2TPy2",
        "outputId": "45dab165-5e8a-4df2-8bc4-45358bf61c27"
      },
      "execution_count": 276,
      "outputs": [
        {
          "output_type": "execute_result",
          "data": {
            "text/plain": [
              "torch.int32"
            ]
          },
          "metadata": {},
          "execution_count": 276
        }
      ]
    },
    {
      "cell_type": "code",
      "source": [
        "f_long.edges()"
      ],
      "metadata": {
        "colab": {
          "base_uri": "https://localhost:8080/"
        },
        "id": "7x_6EAHkTUu-",
        "outputId": "e9c0ef6d-5c98-456d-880d-2241d261528a"
      },
      "execution_count": 277,
      "outputs": [
        {
          "output_type": "execute_result",
          "data": {
            "text/plain": [
              "(tensor([1, 1, 0, 3]), tensor([2, 3, 3, 1]))"
            ]
          },
          "metadata": {},
          "execution_count": 277
        }
      ]
    },
    {
      "cell_type": "code",
      "source": [
        "f_long.ndata"
      ],
      "metadata": {
        "colab": {
          "base_uri": "https://localhost:8080/"
        },
        "id": "2oI19q5yTUxA",
        "outputId": "ed2d694d-fb6e-4b55-d68b-209701c304fd"
      },
      "execution_count": 278,
      "outputs": [
        {
          "output_type": "execute_result",
          "data": {
            "text/plain": [
              "{'blue': tensor([[1., 1.],\n",
              "        [1., 1.],\n",
              "        [1., 1.],\n",
              "        [1., 1.]])}"
            ]
          },
          "metadata": {},
          "execution_count": 278
        }
      ]
    },
    {
      "cell_type": "markdown",
      "source": [
        "Cast the graph to one with idtype int32\n",
        "\n"
      ],
      "metadata": {
        "id": "CcGuRYJFThSu"
      }
    },
    {
      "cell_type": "code",
      "source": [
        "f = dgl.graph((torch.tensor([1, 1, 0, 3]), torch.tensor([2, 3, 3, 1])))\n",
        "f.ndata['Blue'] = torch.ones(4, 3)\n",
        "f.idtype"
      ],
      "metadata": {
        "colab": {
          "base_uri": "https://localhost:8080/"
        },
        "id": "-CqgPh9ATiyt",
        "outputId": "55f2980f-bd84-4dc8-84d0-a34fa3a426e3"
      },
      "execution_count": 279,
      "outputs": [
        {
          "output_type": "execute_result",
          "data": {
            "text/plain": [
              "torch.int64"
            ]
          },
          "metadata": {},
          "execution_count": 279
        }
      ]
    },
    {
      "cell_type": "code",
      "source": [
        "f_int = f.int()\n",
        "f_int.idtype"
      ],
      "metadata": {
        "colab": {
          "base_uri": "https://localhost:8080/"
        },
        "id": "QjsCfSbvTvNm",
        "outputId": "adf6641b-6d83-4e64-feed-6f65b8e6c86d"
      },
      "execution_count": 280,
      "outputs": [
        {
          "output_type": "execute_result",
          "data": {
            "text/plain": [
              "torch.int32"
            ]
          },
          "metadata": {},
          "execution_count": 280
        }
      ]
    },
    {
      "cell_type": "code",
      "source": [
        "f.idtype"
      ],
      "metadata": {
        "colab": {
          "base_uri": "https://localhost:8080/"
        },
        "id": "UZkSgOJ8TvPe",
        "outputId": "cb70f66d-3c7f-4fd5-c6b6-3e6e5dfa02e9"
      },
      "execution_count": 281,
      "outputs": [
        {
          "output_type": "execute_result",
          "data": {
            "text/plain": [
              "torch.int64"
            ]
          },
          "metadata": {},
          "execution_count": 281
        }
      ]
    },
    {
      "cell_type": "code",
      "source": [
        "f_int.edges()"
      ],
      "metadata": {
        "colab": {
          "base_uri": "https://localhost:8080/"
        },
        "id": "x_P8Wb2DTvRi",
        "outputId": "89e1122a-23c5-491d-8416-ffd65c10914a"
      },
      "execution_count": 282,
      "outputs": [
        {
          "output_type": "execute_result",
          "data": {
            "text/plain": [
              "(tensor([1, 1, 0, 3], dtype=torch.int32),\n",
              " tensor([2, 3, 3, 1], dtype=torch.int32))"
            ]
          },
          "metadata": {},
          "execution_count": 282
        }
      ]
    },
    {
      "cell_type": "code",
      "source": [
        "f_int.ndata"
      ],
      "metadata": {
        "colab": {
          "base_uri": "https://localhost:8080/"
        },
        "id": "yCgYgZ08TvTx",
        "outputId": "328ba82f-f656-4b92-bb30-fda576bf905c"
      },
      "execution_count": 283,
      "outputs": [
        {
          "output_type": "execute_result",
          "data": {
            "text/plain": [
              "{'Blue': tensor([[1., 1., 1.],\n",
              "        [1., 1., 1.],\n",
              "        [1., 1., 1.],\n",
              "        [1., 1., 1.]])}"
            ]
          },
          "metadata": {},
          "execution_count": 283
        }
      ]
    },
    {
      "cell_type": "markdown",
      "source": [
        "# Using Node/edge features\n"
      ],
      "metadata": {
        "id": "81H8XM0hUAtN"
      }
    },
    {
      "cell_type": "code",
      "source": [
        "g = dgl.heterograph({\n",
        "    ('ID', 'follower', 'ID'): (torch.tensor([0, 1, 1, 2]), torch.tensor([1, 2, 3, 0])),\n",
        "    ('ID', 'Cinema', 'Video'): (torch.tensor([3, 1, 2]), torch.tensor([5, 4, 6])),\n",
        "    ('Video', 'belongs_to', 'genre'): (torch.tensor([4, 5, 6]), torch.tensor([7, 8, 9]))\n",
        "})\n"
      ],
      "metadata": {
        "id": "1iTCd8UQe7tf"
      },
      "execution_count": 284,
      "outputs": []
    },
    {
      "cell_type": "markdown",
      "source": [
        "Return a node view\n",
        "\n"
      ],
      "metadata": {
        "id": "99IsaPsAUGEN"
      }
    },
    {
      "cell_type": "code",
      "source": [
        "f.nodes()"
      ],
      "metadata": {
        "colab": {
          "base_uri": "https://localhost:8080/"
        },
        "id": "cfqctGP8UaEQ",
        "outputId": "b4818288-9538-4e62-86a9-f7e0c2faf1ab"
      },
      "execution_count": 285,
      "outputs": [
        {
          "output_type": "execute_result",
          "data": {
            "text/plain": [
              "tensor([0, 1, 2, 3])"
            ]
          },
          "metadata": {},
          "execution_count": 285
        }
      ]
    },
    {
      "cell_type": "code",
      "source": [
        "g.nodes('ID')"
      ],
      "metadata": {
        "colab": {
          "base_uri": "https://localhost:8080/"
        },
        "id": "Q0Zm4PILUaHH",
        "outputId": "0cf7d0ca-e823-41e2-e4c0-29753eaed7ad"
      },
      "execution_count": 286,
      "outputs": [
        {
          "output_type": "execute_result",
          "data": {
            "text/plain": [
              "tensor([0, 1, 2, 3])"
            ]
          },
          "metadata": {},
          "execution_count": 286
        }
      ]
    },
    {
      "cell_type": "code",
      "source": [
        "g.nodes('Video')"
      ],
      "metadata": {
        "colab": {
          "base_uri": "https://localhost:8080/"
        },
        "id": "EstrP29CWEWW",
        "outputId": "4e8c8f0b-157b-425f-fa43-535bc077c52f"
      },
      "execution_count": 287,
      "outputs": [
        {
          "output_type": "execute_result",
          "data": {
            "text/plain": [
              "tensor([0, 1, 2, 3, 4, 5, 6])"
            ]
          },
          "metadata": {},
          "execution_count": 287
        }
      ]
    },
    {
      "cell_type": "code",
      "source": [
        "g.nodes['Video'].data['h'] = torch.ones(7, 1)\n",
        "g.nodes['Video'].data['h']"
      ],
      "metadata": {
        "colab": {
          "base_uri": "https://localhost:8080/"
        },
        "id": "XWe5C6QFUaJZ",
        "outputId": "af6e23d3-0a52-4529-dfbc-12db14dba7e9"
      },
      "execution_count": 288,
      "outputs": [
        {
          "output_type": "execute_result",
          "data": {
            "text/plain": [
              "tensor([[1.],\n",
              "        [1.],\n",
              "        [1.],\n",
              "        [1.],\n",
              "        [1.],\n",
              "        [1.],\n",
              "        [1.]])"
            ]
          },
          "metadata": {},
          "execution_count": 288
        }
      ]
    },
    {
      "cell_type": "markdown",
      "source": [
        "Return a node data view for setting/getting node features\n",
        "\n"
      ],
      "metadata": {
        "id": "zcn_MghMUHhG"
      }
    },
    {
      "cell_type": "code",
      "source": [
        "f.ndata['h'] = torch.ones(4, 1)\n",
        "f.ndata['h']"
      ],
      "metadata": {
        "colab": {
          "base_uri": "https://localhost:8080/"
        },
        "id": "96fjIr8-WXNu",
        "outputId": "9b16a8be-d6f1-4fa1-c312-6a8fbf0e2799"
      },
      "execution_count": 289,
      "outputs": [
        {
          "output_type": "execute_result",
          "data": {
            "text/plain": [
              "tensor([[1.],\n",
              "        [1.],\n",
              "        [1.],\n",
              "        [1.]])"
            ]
          },
          "metadata": {},
          "execution_count": 289
        }
      ]
    },
    {
      "cell_type": "code",
      "source": [
        "g.ndata['h'] = {'ID': torch.zeros(2, 1), 'ID': torch.ones(4, 1)}\n",
        "g.ndata['h']"
      ],
      "metadata": {
        "colab": {
          "base_uri": "https://localhost:8080/"
        },
        "id": "LV0sE74-WXPu",
        "outputId": "dda5294f-bf92-4b13-89e6-fde0998c53aa"
      },
      "execution_count": 290,
      "outputs": [
        {
          "output_type": "execute_result",
          "data": {
            "text/plain": [
              "{'ID': tensor([[1.],\n",
              "         [1.],\n",
              "         [1.],\n",
              "         [1.]]),\n",
              " 'Video': tensor([[1.],\n",
              "         [1.],\n",
              "         [1.],\n",
              "         [1.],\n",
              "         [1.],\n",
              "         [1.],\n",
              "         [1.]])}"
            ]
          },
          "metadata": {},
          "execution_count": 290
        }
      ]
    },
    {
      "cell_type": "code",
      "source": [
        "g.ndata['h'] = {'Video': torch.ones(7, 1)}\n",
        "g.ndata['h']"
      ],
      "metadata": {
        "colab": {
          "base_uri": "https://localhost:8080/"
        },
        "id": "Rp-ncr89WXR1",
        "outputId": "36ba7eef-3784-48ee-b5d5-efae31b87573"
      },
      "execution_count": 291,
      "outputs": [
        {
          "output_type": "execute_result",
          "data": {
            "text/plain": [
              "{'ID': tensor([[1.],\n",
              "         [1.],\n",
              "         [1.],\n",
              "         [1.]]),\n",
              " 'Video': tensor([[1.],\n",
              "         [1.],\n",
              "         [1.],\n",
              "         [1.],\n",
              "         [1.],\n",
              "         [1.],\n",
              "         [1.]])}"
            ]
          },
          "metadata": {},
          "execution_count": 291
        }
      ]
    },
    {
      "cell_type": "markdown",
      "source": [
        "Return an edge view\n",
        "\n"
      ],
      "metadata": {
        "id": "QkhCLIgEUHjV"
      }
    },
    {
      "cell_type": "code",
      "source": [
        "f.edges()"
      ],
      "metadata": {
        "colab": {
          "base_uri": "https://localhost:8080/"
        },
        "id": "GHhTfzK3W5pO",
        "outputId": "efc9849d-a839-4d68-f2df-91e513c608e6"
      },
      "execution_count": 292,
      "outputs": [
        {
          "output_type": "execute_result",
          "data": {
            "text/plain": [
              "(tensor([1, 1, 0, 3]), tensor([2, 3, 3, 1]))"
            ]
          },
          "metadata": {},
          "execution_count": 292
        }
      ]
    },
    {
      "cell_type": "code",
      "source": [
        "f.edges(form='all', order='srcdst')"
      ],
      "metadata": {
        "colab": {
          "base_uri": "https://localhost:8080/"
        },
        "id": "hOV-_7ukW5re",
        "outputId": "93957694-354c-4772-ff4f-4e03c5020e55"
      },
      "execution_count": 293,
      "outputs": [
        {
          "output_type": "execute_result",
          "data": {
            "text/plain": [
              "(tensor([0, 1, 1, 3]), tensor([3, 2, 3, 1]), tensor([2, 0, 1, 3]))"
            ]
          },
          "metadata": {},
          "execution_count": 293
        }
      ]
    },
    {
      "cell_type": "code",
      "source": [
        "g.edges['follower'].data['h'] = torch.ones(4, 1)\n",
        "g.edges['follower'].data['h']"
      ],
      "metadata": {
        "colab": {
          "base_uri": "https://localhost:8080/"
        },
        "id": "XNYK28BRXFig",
        "outputId": "df1e3814-e2d2-4e8e-b015-b4eacd0635fb"
      },
      "execution_count": 294,
      "outputs": [
        {
          "output_type": "execute_result",
          "data": {
            "text/plain": [
              "tensor([[1.],\n",
              "        [1.],\n",
              "        [1.],\n",
              "        [1.]])"
            ]
          },
          "metadata": {},
          "execution_count": 294
        }
      ]
    },
    {
      "cell_type": "markdown",
      "source": [
        "Return an edge data view for setting/getting edge features.\n",
        "\n"
      ],
      "metadata": {
        "id": "pwEfHrpwUHld"
      }
    },
    {
      "cell_type": "code",
      "source": [
        "f.edata['h'] = torch.ones(4, 1)\n",
        "f.edata['h']"
      ],
      "metadata": {
        "colab": {
          "base_uri": "https://localhost:8080/"
        },
        "id": "4XznhqhuXUu3",
        "outputId": "227a4bf6-3bcf-414b-c872-c8120ce27a51"
      },
      "execution_count": 295,
      "outputs": [
        {
          "output_type": "execute_result",
          "data": {
            "text/plain": [
              "tensor([[1.],\n",
              "        [1.],\n",
              "        [1.],\n",
              "        [1.]])"
            ]
          },
          "metadata": {},
          "execution_count": 295
        }
      ]
    },
    {
      "cell_type": "code",
      "source": [
        "g.edata['h'] = {('ID', 'follower', 'ID'): torch.zeros(4, 1),\n",
        "                ('ID', 'Cinema', 'Video'): torch.ones(3, 1)}\n",
        "g.edata['h']"
      ],
      "metadata": {
        "colab": {
          "base_uri": "https://localhost:8080/"
        },
        "id": "L5HJlFbjXUxI",
        "outputId": "9f513731-0c4e-4a81-dd76-3a4541960d11"
      },
      "execution_count": 296,
      "outputs": [
        {
          "output_type": "execute_result",
          "data": {
            "text/plain": [
              "{('ID',\n",
              "  'Cinema',\n",
              "  'Video'): tensor([[1.],\n",
              "         [1.],\n",
              "         [1.]]),\n",
              " ('ID',\n",
              "  'follower',\n",
              "  'ID'): tensor([[0.],\n",
              "         [0.],\n",
              "         [0.],\n",
              "         [0.]])}"
            ]
          },
          "metadata": {},
          "execution_count": 296
        }
      ]
    },
    {
      "cell_type": "code",
      "source": [
        "g.edata['h'] = {('Video', 'belongs_to', 'genre'): torch.ones(3, 1)}\n",
        "g.edata['h']"
      ],
      "metadata": {
        "colab": {
          "base_uri": "https://localhost:8080/"
        },
        "id": "7kmbOOETXq8m",
        "outputId": "fb723314-9919-4c5d-b5f1-e1c7c425db8a"
      },
      "execution_count": 297,
      "outputs": [
        {
          "output_type": "execute_result",
          "data": {
            "text/plain": [
              "{('ID',\n",
              "  'Cinema',\n",
              "  'Video'): tensor([[1.],\n",
              "         [1.],\n",
              "         [1.]]),\n",
              " ('ID',\n",
              "  'follower',\n",
              "  'ID'): tensor([[0.],\n",
              "         [0.],\n",
              "         [0.],\n",
              "         [0.]]),\n",
              " ('Video',\n",
              "  'belongs_to',\n",
              "  'genre'): tensor([[1.],\n",
              "         [1.],\n",
              "         [1.]])}"
            ]
          },
          "metadata": {},
          "execution_count": 297
        }
      ]
    },
    {
      "cell_type": "markdown",
      "source": [
        "Return the node feature schemes for the specified type.\n",
        "\n"
      ],
      "metadata": {
        "id": "92lk5NWdUHne"
      }
    },
    {
      "cell_type": "code",
      "source": [
        "f.ndata['h1'] = torch.randn(4, 1)\n",
        "f.ndata['h2'] = torch.randn(4, 2)\n",
        "f.node_attr_schemes()"
      ],
      "metadata": {
        "colab": {
          "base_uri": "https://localhost:8080/"
        },
        "id": "x6Kkj3dnX-fW",
        "outputId": "d36a1406-0cef-469c-c79f-930707afd850"
      },
      "execution_count": 298,
      "outputs": [
        {
          "output_type": "execute_result",
          "data": {
            "text/plain": [
              "{'Blue': Scheme(shape=(3,), dtype=torch.float32),\n",
              " 'h': Scheme(shape=(1,), dtype=torch.float32),\n",
              " 'h1': Scheme(shape=(1,), dtype=torch.float32),\n",
              " 'h2': Scheme(shape=(2,), dtype=torch.float32)}"
            ]
          },
          "metadata": {},
          "execution_count": 298
        }
      ]
    },
    {
      "cell_type": "code",
      "source": [
        "g = dgl.heterograph({('ID', 'follower', 'ID'):\n",
        "                     (torch.tensor([1, 2]), torch.tensor([3, 4]))})\n",
        "g.nodes['ID'].data['h1'] = torch.randn(5, 1)\n",
        "g.nodes['ID'].data['h2'] = torch.randn(5, 2)\n",
        "g.node_attr_schemes('ID')"
      ],
      "metadata": {
        "colab": {
          "base_uri": "https://localhost:8080/"
        },
        "id": "ejzVS9HVX-hf",
        "outputId": "5686d524-b055-489f-e285-9b871ef134b1"
      },
      "execution_count": 299,
      "outputs": [
        {
          "output_type": "execute_result",
          "data": {
            "text/plain": [
              "{'h1': Scheme(shape=(1,), dtype=torch.float32),\n",
              " 'h2': Scheme(shape=(2,), dtype=torch.float32)}"
            ]
          },
          "metadata": {},
          "execution_count": 299
        }
      ]
    },
    {
      "cell_type": "markdown",
      "source": [
        "Return the edge feature schemes for the specified type.\n",
        "\n"
      ],
      "metadata": {
        "id": "QzR9IUu8UHpo"
      }
    },
    {
      "cell_type": "code",
      "source": [
        "f.edata['h1'] = torch.randn(4, 1)\n",
        "f.edata['h2'] = torch.randn(4, 2)\n",
        "f.edge_attr_schemes()"
      ],
      "metadata": {
        "colab": {
          "base_uri": "https://localhost:8080/"
        },
        "id": "yFIQfSDVYYun",
        "outputId": "ba0bc48a-64de-4223-ec32-d6f3e6668236"
      },
      "execution_count": 300,
      "outputs": [
        {
          "output_type": "execute_result",
          "data": {
            "text/plain": [
              "{'h': Scheme(shape=(1,), dtype=torch.float32),\n",
              " 'h1': Scheme(shape=(1,), dtype=torch.float32),\n",
              " 'h2': Scheme(shape=(2,), dtype=torch.float32)}"
            ]
          },
          "metadata": {},
          "execution_count": 300
        }
      ]
    },
    {
      "cell_type": "code",
      "source": [
        "g.edges['follower'].data['h1'] = torch.randn(2, 1)\n",
        "g.edges['follower'].data['h2'] = torch.randn(2, 2)\n",
        "g.edge_attr_schemes('follower')"
      ],
      "metadata": {
        "colab": {
          "base_uri": "https://localhost:8080/"
        },
        "id": "XXyqY02DYY2f",
        "outputId": "384fbb30-8e8c-49b2-8489-b2dd54ddfc96"
      },
      "execution_count": 301,
      "outputs": [
        {
          "output_type": "execute_result",
          "data": {
            "text/plain": [
              "{'h1': Scheme(shape=(1,), dtype=torch.float32),\n",
              " 'h2': Scheme(shape=(2,), dtype=torch.float32)}"
            ]
          },
          "metadata": {},
          "execution_count": 301
        }
      ]
    },
    {
      "cell_type": "markdown",
      "source": [
        "Return a node view for source nodes\n",
        "\n"
      ],
      "metadata": {
        "id": "znDfnJTqUHrk"
      }
    },
    {
      "cell_type": "code",
      "source": [
        "b.srcnodes('ID')"
      ],
      "metadata": {
        "colab": {
          "base_uri": "https://localhost:8080/"
        },
        "id": "FHR5IBi_Y0hu",
        "outputId": "1c8f3f48-e242-4e5f-8e33-272a2126a127"
      },
      "execution_count": 302,
      "outputs": [
        {
          "output_type": "execute_result",
          "data": {
            "text/plain": [
              "tensor([0])"
            ]
          },
          "metadata": {},
          "execution_count": 302
        }
      ]
    },
    {
      "cell_type": "code",
      "source": [
        "b.srcnodes('Video')"
      ],
      "metadata": {
        "colab": {
          "base_uri": "https://localhost:8080/"
        },
        "id": "iZDOz7g6Y0l2",
        "outputId": "29c65690-925a-4a7e-914d-3710ee6d6904"
      },
      "execution_count": 303,
      "outputs": [
        {
          "output_type": "execute_result",
          "data": {
            "text/plain": [
              "tensor([0, 1])"
            ]
          },
          "metadata": {},
          "execution_count": 303
        }
      ]
    },
    {
      "cell_type": "code",
      "source": [
        "b.srcnodes['ID'].data['h'] = torch.ones(1, 1)\n",
        "b.srcnodes['ID'].data['h']"
      ],
      "metadata": {
        "colab": {
          "base_uri": "https://localhost:8080/"
        },
        "id": "x9o7-LiEZOrP",
        "outputId": "7b9b423d-cc43-464e-e70a-41ddf4fef876"
      },
      "execution_count": 304,
      "outputs": [
        {
          "output_type": "execute_result",
          "data": {
            "text/plain": [
              "tensor([[1.]])"
            ]
          },
          "metadata": {},
          "execution_count": 304
        }
      ]
    },
    {
      "cell_type": "code",
      "source": [
        "n.srcnodes('ID')"
      ],
      "metadata": {
        "colab": {
          "base_uri": "https://localhost:8080/"
        },
        "id": "mWvo-NhPZOtH",
        "outputId": "6194083b-eaff-4953-87c9-ff3fa85490a1"
      },
      "execution_count": 305,
      "outputs": [
        {
          "output_type": "execute_result",
          "data": {
            "text/plain": [
              "tensor([0, 1])"
            ]
          },
          "metadata": {},
          "execution_count": 305
        }
      ]
    },
    {
      "cell_type": "code",
      "source": [
        "n.srcnodes['genre'].data['h'] = torch.ones(3, 1)\n",
        "n.srcnodes['genre'].data['h']"
      ],
      "metadata": {
        "colab": {
          "base_uri": "https://localhost:8080/"
        },
        "id": "y_An5Y0VZ5zn",
        "outputId": "c20cfff6-e2de-4f58-862a-2298370c5db6"
      },
      "execution_count": 306,
      "outputs": [
        {
          "output_type": "execute_result",
          "data": {
            "text/plain": [
              "tensor([[1.],\n",
              "        [1.],\n",
              "        [1.]])"
            ]
          },
          "metadata": {},
          "execution_count": 306
        }
      ]
    },
    {
      "cell_type": "markdown",
      "source": [
        "Return a node view for destination nodes\n",
        "\n"
      ],
      "metadata": {
        "id": "FMnMIBunUHtX"
      }
    },
    {
      "cell_type": "code",
      "source": [
        "b.dstnodes('genre')"
      ],
      "metadata": {
        "colab": {
          "base_uri": "https://localhost:8080/"
        },
        "id": "_P2EaDueaDk0",
        "outputId": "73721971-7a1b-4b82-c0c7-bc177a55a206"
      },
      "execution_count": 307,
      "outputs": [
        {
          "output_type": "execute_result",
          "data": {
            "text/plain": [
              "tensor([0, 1, 2])"
            ]
          },
          "metadata": {},
          "execution_count": 307
        }
      ]
    },
    {
      "cell_type": "code",
      "source": [
        "b.dstnodes['genre'].data['h'] = torch.ones(3, 1)\n",
        "b.dstnodes['genre'].data['h']"
      ],
      "metadata": {
        "colab": {
          "base_uri": "https://localhost:8080/"
        },
        "id": "VG1A04ZYaDmn",
        "outputId": "437f9cb1-2d7b-43e7-cba6-164f3292a59c"
      },
      "execution_count": 308,
      "outputs": [
        {
          "output_type": "execute_result",
          "data": {
            "text/plain": [
              "tensor([[1.],\n",
              "        [1.],\n",
              "        [1.]])"
            ]
          },
          "metadata": {},
          "execution_count": 308
        }
      ]
    },
    {
      "cell_type": "code",
      "source": [
        "n.dstnodes('Video')"
      ],
      "metadata": {
        "colab": {
          "base_uri": "https://localhost:8080/"
        },
        "id": "8flRfA-QbhvX",
        "outputId": "c610a4ed-8c3c-4880-a25a-fdfa47514bd8"
      },
      "execution_count": 309,
      "outputs": [
        {
          "output_type": "execute_result",
          "data": {
            "text/plain": [
              "tensor([0, 1])"
            ]
          },
          "metadata": {},
          "execution_count": 309
        }
      ]
    },
    {
      "cell_type": "code",
      "source": [
        "n.dstnodes['Video'].data['h'] = torch.ones(2, 1)\n",
        "n.dstnodes['Video'].data['h']"
      ],
      "metadata": {
        "colab": {
          "base_uri": "https://localhost:8080/"
        },
        "id": "slxmVcSybhxd",
        "outputId": "7630f9b2-4ff5-45ea-b33c-25a648e41dc1"
      },
      "execution_count": 310,
      "outputs": [
        {
          "output_type": "execute_result",
          "data": {
            "text/plain": [
              "tensor([[1.],\n",
              "        [1.]])"
            ]
          },
          "metadata": {},
          "execution_count": 310
        }
      ]
    },
    {
      "cell_type": "markdown",
      "source": [
        "Return a node data view for setting/getting source node features.\n",
        "\n"
      ],
      "metadata": {
        "id": "TJZuE3WPUTNW"
      }
    },
    {
      "cell_type": "code",
      "source": [
        "f.srcdata['h'] = torch.ones(4, 1)\n",
        "f.srcdata['h']"
      ],
      "metadata": {
        "colab": {
          "base_uri": "https://localhost:8080/"
        },
        "id": "uaEVrwdqb0_2",
        "outputId": "6a34b2e6-4634-4135-918b-1c779430ba02"
      },
      "execution_count": 311,
      "outputs": [
        {
          "output_type": "execute_result",
          "data": {
            "text/plain": [
              "tensor([[1.],\n",
              "        [1.],\n",
              "        [1.],\n",
              "        [1.]])"
            ]
          },
          "metadata": {},
          "execution_count": 311
        }
      ]
    },
    {
      "cell_type": "code",
      "source": [
        "g = dgl.heterograph({\n",
        "    ('ID', 'follower', 'ID'): (torch.tensor([0, 1, 1, 2]), torch.tensor([1, 2, 3, 0])),\n",
        "    ('ID', 'Cinema', 'Video'): (torch.tensor([3, 1, 2]), torch.tensor([5, 4, 6])),\n",
        "    ('Video', 'belongs_to', 'genre'): (torch.tensor([4, 5, 6]), torch.tensor([7, 8, 9]))\n",
        "})\n"
      ],
      "metadata": {
        "id": "jzWsqQ-sy3CM"
      },
      "execution_count": 312,
      "outputs": []
    },
    {
      "cell_type": "code",
      "source": [
        "g.srcdata['h'] = {'ID': torch.zeros(4, 1), 'Video': torch.ones(7, 1)}\n",
        "g.srcdata['h']"
      ],
      "metadata": {
        "colab": {
          "base_uri": "https://localhost:8080/"
        },
        "id": "Mhb_JvG5b1CX",
        "outputId": "713efd45-9cda-4f7a-f64f-f03e99359a39"
      },
      "execution_count": 313,
      "outputs": [
        {
          "output_type": "execute_result",
          "data": {
            "text/plain": [
              "{'ID': tensor([[0.],\n",
              "         [0.],\n",
              "         [0.],\n",
              "         [0.]]),\n",
              " 'Video': tensor([[1.],\n",
              "         [1.],\n",
              "         [1.],\n",
              "         [1.],\n",
              "         [1.],\n",
              "         [1.],\n",
              "         [1.]])}"
            ]
          },
          "metadata": {},
          "execution_count": 313
        }
      ]
    },
    {
      "cell_type": "markdown",
      "source": [
        "Return a node data view for setting/getting destination node features.\n",
        "\n"
      ],
      "metadata": {
        "id": "laDH0zafUTPR"
      }
    },
    {
      "cell_type": "code",
      "source": [
        "f.dstdata['h'] = torch.ones(4, 1)\n",
        "f.dstdata['h']"
      ],
      "metadata": {
        "colab": {
          "base_uri": "https://localhost:8080/"
        },
        "id": "0aJyVEe3cIhO",
        "outputId": "b9f4b94e-7db1-4b91-faa4-9aba66701411"
      },
      "execution_count": 314,
      "outputs": [
        {
          "output_type": "execute_result",
          "data": {
            "text/plain": [
              "tensor([[1.],\n",
              "        [1.],\n",
              "        [1.],\n",
              "        [1.]])"
            ]
          },
          "metadata": {},
          "execution_count": 314
        }
      ]
    },
    {
      "cell_type": "code",
      "source": [
        "g.dstdata['h'] = {'ID': torch.zeros(4, 1), 'genre': torch.ones(10, 1)}\n",
        "g.dstdata['h']"
      ],
      "metadata": {
        "colab": {
          "base_uri": "https://localhost:8080/"
        },
        "id": "CYN90OajcIjo",
        "outputId": "c0904798-4e62-49d1-aab1-9963d0237d47"
      },
      "execution_count": 315,
      "outputs": [
        {
          "output_type": "execute_result",
          "data": {
            "text/plain": [
              "{'ID': tensor([[0.],\n",
              "         [0.],\n",
              "         [0.],\n",
              "         [0.]]),\n",
              " 'Video': tensor([[1.],\n",
              "         [1.],\n",
              "         [1.],\n",
              "         [1.],\n",
              "         [1.],\n",
              "         [1.],\n",
              "         [1.]]),\n",
              " 'genre': tensor([[1.],\n",
              "         [1.],\n",
              "         [1.],\n",
              "         [1.],\n",
              "         [1.],\n",
              "         [1.],\n",
              "         [1.],\n",
              "         [1.],\n",
              "         [1.],\n",
              "         [1.]])}"
            ]
          },
          "metadata": {},
          "execution_count": 315
        }
      ]
    },
    {
      "cell_type": "code",
      "source": [
        "g.dstdata['h'] = {'genre': torch.ones(10, 1)}\n",
        "g.dstdata['h']"
      ],
      "metadata": {
        "colab": {
          "base_uri": "https://localhost:8080/"
        },
        "id": "odZCR0y9cImB",
        "outputId": "7550cd53-7b00-4c73-f9f4-8599cd39183a"
      },
      "execution_count": 316,
      "outputs": [
        {
          "output_type": "execute_result",
          "data": {
            "text/plain": [
              "{'ID': tensor([[0.],\n",
              "         [0.],\n",
              "         [0.],\n",
              "         [0.]]),\n",
              " 'Video': tensor([[1.],\n",
              "         [1.],\n",
              "         [1.],\n",
              "         [1.],\n",
              "         [1.],\n",
              "         [1.],\n",
              "         [1.]]),\n",
              " 'genre': tensor([[1.],\n",
              "         [1.],\n",
              "         [1.],\n",
              "         [1.],\n",
              "         [1.],\n",
              "         [1.],\n",
              "         [1.],\n",
              "         [1.],\n",
              "         [1.],\n",
              "         [1.]])}"
            ]
          },
          "metadata": {},
          "execution_count": 316
        }
      ]
    },
    {
      "cell_type": "markdown",
      "source": [
        "# Transforming graph"
      ],
      "metadata": {
        "id": "SxNwZF_Ecj7m"
      }
    },
    {
      "cell_type": "markdown",
      "source": [
        "Alias of dgl.node_subgraph()"
      ],
      "metadata": {
        "id": "ksDVNa_ncpVe"
      }
    },
    {
      "cell_type": "code",
      "source": [
        "g.subgraph"
      ],
      "metadata": {
        "colab": {
          "base_uri": "https://localhost:8080/"
        },
        "id": "VHG9qWgAchjc",
        "outputId": "f9169f4c-adc3-49cc-aa78-a92da9b76889"
      },
      "execution_count": 317,
      "outputs": [
        {
          "output_type": "execute_result",
          "data": {
            "text/plain": [
              "<bound method node_subgraph of Graph(num_nodes={'ID': 4, 'Video': 7, 'genre': 10},\n",
              "      num_edges={('ID', 'Cinema', 'Video'): 3, ('ID', 'follower', 'ID'): 4, ('Video', 'belongs_to', 'genre'): 3},\n",
              "      metagraph=[('ID', 'Video', 'Cinema'), ('ID', 'ID', 'follower'), ('Video', 'genre', 'belongs_to')])>"
            ]
          },
          "metadata": {},
          "execution_count": 317
        }
      ]
    },
    {
      "cell_type": "markdown",
      "source": [
        "Alias of dgl.edge_subgraph()"
      ],
      "metadata": {
        "id": "tQI8LNqMcvhO"
      }
    },
    {
      "cell_type": "code",
      "source": [
        "g.edge_subgraph"
      ],
      "metadata": {
        "colab": {
          "base_uri": "https://localhost:8080/"
        },
        "id": "pc1cknPNcuUF",
        "outputId": "c54438c8-ee4e-4ead-b37c-9013a4ccccc7"
      },
      "execution_count": 318,
      "outputs": [
        {
          "output_type": "execute_result",
          "data": {
            "text/plain": [
              "<bound method edge_subgraph of Graph(num_nodes={'ID': 4, 'Video': 7, 'genre': 10},\n",
              "      num_edges={('ID', 'Cinema', 'Video'): 3, ('ID', 'follower', 'ID'): 4, ('Video', 'belongs_to', 'genre'): 3},\n",
              "      metagraph=[('ID', 'Video', 'Cinema'), ('ID', 'ID', 'follower'), ('Video', 'genre', 'belongs_to')])>"
            ]
          },
          "metadata": {},
          "execution_count": 318
        }
      ]
    },
    {
      "cell_type": "markdown",
      "source": [
        "Alias of dgl.node_type_subgraph().\n",
        "\n"
      ],
      "metadata": {
        "id": "s2_Vc1gKc6n3"
      }
    },
    {
      "cell_type": "code",
      "source": [
        "g.node_type_subgraph"
      ],
      "metadata": {
        "colab": {
          "base_uri": "https://localhost:8080/"
        },
        "id": "VYsA2EKUc8zf",
        "outputId": "7f8b269f-adbc-4719-8992-f121d1afec23"
      },
      "execution_count": 319,
      "outputs": [
        {
          "output_type": "execute_result",
          "data": {
            "text/plain": [
              "<bound method node_type_subgraph of Graph(num_nodes={'ID': 4, 'Video': 7, 'genre': 10},\n",
              "      num_edges={('ID', 'Cinema', 'Video'): 3, ('ID', 'follower', 'ID'): 4, ('Video', 'belongs_to', 'genre'): 3},\n",
              "      metagraph=[('ID', 'Video', 'Cinema'), ('ID', 'ID', 'follower'), ('Video', 'genre', 'belongs_to')])>"
            ]
          },
          "metadata": {},
          "execution_count": 319
        }
      ]
    },
    {
      "cell_type": "markdown",
      "source": [
        "Alias of dgl.edge_type_subgraph().\n",
        "\n"
      ],
      "metadata": {
        "id": "MOEVZlh-c6qQ"
      }
    },
    {
      "cell_type": "code",
      "source": [
        "g.edge_type_subgraph"
      ],
      "metadata": {
        "colab": {
          "base_uri": "https://localhost:8080/"
        },
        "id": "0kIp39iIdHym",
        "outputId": "6135a8c9-fbe3-4cdc-db22-09c659d434ed"
      },
      "execution_count": 320,
      "outputs": [
        {
          "output_type": "execute_result",
          "data": {
            "text/plain": [
              "<bound method edge_type_subgraph of Graph(num_nodes={'ID': 4, 'Video': 7, 'genre': 10},\n",
              "      num_edges={('ID', 'Cinema', 'Video'): 3, ('ID', 'follower', 'ID'): 4, ('Video', 'belongs_to', 'genre'): 3},\n",
              "      metagraph=[('ID', 'Video', 'Cinema'), ('ID', 'ID', 'follower'), ('Video', 'genre', 'belongs_to')])>"
            ]
          },
          "metadata": {},
          "execution_count": 320
        }
      ]
    },
    {
      "cell_type": "markdown",
      "source": [
        "Return the relation slice of this graph."
      ],
      "metadata": {
        "id": "HUR16OkrdIIn"
      }
    },
    {
      "cell_type": "code",
      "source": [
        "g.__getitem__"
      ],
      "metadata": {
        "colab": {
          "base_uri": "https://localhost:8080/"
        },
        "id": "4FZAQhDHdIPA",
        "outputId": "fcc023ff-2958-4d4f-e6c1-016196f4abd6"
      },
      "execution_count": 321,
      "outputs": [
        {
          "output_type": "execute_result",
          "data": {
            "text/plain": [
              "<bound method DGLGraph.__getitem__ of Graph(num_nodes={'ID': 4, 'Video': 7, 'genre': 10},\n",
              "      num_edges={('ID', 'Cinema', 'Video'): 3, ('ID', 'follower', 'ID'): 4, ('Video', 'belongs_to', 'genre'): 3},\n",
              "      metagraph=[('ID', 'Video', 'Cinema'), ('ID', 'ID', 'follower'), ('Video', 'genre', 'belongs_to')])>"
            ]
          },
          "metadata": {},
          "execution_count": 321
        }
      ]
    },
    {
      "cell_type": "markdown",
      "source": [
        "Alias of dgl.line_graph()"
      ],
      "metadata": {
        "id": "YdvRRUAidIVJ"
      }
    },
    {
      "cell_type": "code",
      "source": [
        "g.line_graph"
      ],
      "metadata": {
        "colab": {
          "base_uri": "https://localhost:8080/"
        },
        "id": "XxhufdSZdIaI",
        "outputId": "ec46a9b4-df6d-4e02-c359-c1bed866c510"
      },
      "execution_count": 322,
      "outputs": [
        {
          "output_type": "execute_result",
          "data": {
            "text/plain": [
              "<bound method line_graph of Graph(num_nodes={'ID': 4, 'Video': 7, 'genre': 10},\n",
              "      num_edges={('ID', 'Cinema', 'Video'): 3, ('ID', 'follower', 'ID'): 4, ('Video', 'belongs_to', 'genre'): 3},\n",
              "      metagraph=[('ID', 'Video', 'Cinema'), ('ID', 'ID', 'follower'), ('Video', 'genre', 'belongs_to')])>"
            ]
          },
          "metadata": {},
          "execution_count": 322
        }
      ]
    },
    {
      "cell_type": "markdown",
      "source": [
        "Alias of dgl.reverse()"
      ],
      "metadata": {
        "id": "qn4Emc1hdIey"
      }
    },
    {
      "cell_type": "code",
      "source": [
        "g.reverse"
      ],
      "metadata": {
        "colab": {
          "base_uri": "https://localhost:8080/"
        },
        "id": "sMhlbTJBdIjL",
        "outputId": "868bc4b1-5dd5-4f46-9f76-92c9d03de8fc"
      },
      "execution_count": 323,
      "outputs": [
        {
          "output_type": "execute_result",
          "data": {
            "text/plain": [
              "<bound method reverse of Graph(num_nodes={'ID': 4, 'Video': 7, 'genre': 10},\n",
              "      num_edges={('ID', 'Cinema', 'Video'): 3, ('ID', 'follower', 'ID'): 4, ('Video', 'belongs_to', 'genre'): 3},\n",
              "      metagraph=[('ID', 'Video', 'Cinema'), ('ID', 'ID', 'follower'), ('Video', 'genre', 'belongs_to')])>"
            ]
          },
          "metadata": {},
          "execution_count": 323
        }
      ]
    },
    {
      "cell_type": "markdown",
      "source": [
        "Alias of dgl.add_self_loop()"
      ],
      "metadata": {
        "id": "I8crXjdZdInb"
      }
    },
    {
      "cell_type": "code",
      "source": [
        "g.add_self_loop"
      ],
      "metadata": {
        "colab": {
          "base_uri": "https://localhost:8080/"
        },
        "id": "tNIluZB_dIrX",
        "outputId": "c1677363-5028-47a9-f010-8960b47d0cbb"
      },
      "execution_count": 324,
      "outputs": [
        {
          "output_type": "execute_result",
          "data": {
            "text/plain": [
              "<bound method add_self_loop of Graph(num_nodes={'ID': 4, 'Video': 7, 'genre': 10},\n",
              "      num_edges={('ID', 'Cinema', 'Video'): 3, ('ID', 'follower', 'ID'): 4, ('Video', 'belongs_to', 'genre'): 3},\n",
              "      metagraph=[('ID', 'Video', 'Cinema'), ('ID', 'ID', 'follower'), ('Video', 'genre', 'belongs_to')])>"
            ]
          },
          "metadata": {},
          "execution_count": 324
        }
      ]
    },
    {
      "cell_type": "markdown",
      "source": [
        "Alias of dgl.remove_self_loop()"
      ],
      "metadata": {
        "id": "jbAv55lEc6sL"
      }
    },
    {
      "cell_type": "code",
      "source": [
        "g.remove_self_loop"
      ],
      "metadata": {
        "colab": {
          "base_uri": "https://localhost:8080/"
        },
        "id": "mmTdWHWRc2Il",
        "outputId": "55daaa74-fa98-45fd-f86b-f18b978619ae"
      },
      "execution_count": 325,
      "outputs": [
        {
          "output_type": "execute_result",
          "data": {
            "text/plain": [
              "<bound method remove_self_loop of Graph(num_nodes={'ID': 4, 'Video': 7, 'genre': 10},\n",
              "      num_edges={('ID', 'Cinema', 'Video'): 3, ('ID', 'follower', 'ID'): 4, ('Video', 'belongs_to', 'genre'): 3},\n",
              "      metagraph=[('ID', 'Video', 'Cinema'), ('ID', 'ID', 'follower'), ('Video', 'genre', 'belongs_to')])>"
            ]
          },
          "metadata": {},
          "execution_count": 325
        }
      ]
    },
    {
      "cell_type": "markdown",
      "source": [
        "Alias of dgl.to_simple()"
      ],
      "metadata": {
        "id": "7sIHxEnvdm4_"
      }
    },
    {
      "cell_type": "code",
      "source": [
        "g.to_simple"
      ],
      "metadata": {
        "colab": {
          "base_uri": "https://localhost:8080/"
        },
        "id": "rjVkc6G6dnGo",
        "outputId": "e3b4257c-860a-4744-8fd6-21fe0dbc03e2"
      },
      "execution_count": 326,
      "outputs": [
        {
          "output_type": "execute_result",
          "data": {
            "text/plain": [
              "<bound method to_simple of Graph(num_nodes={'ID': 4, 'Video': 7, 'genre': 10},\n",
              "      num_edges={('ID', 'Cinema', 'Video'): 3, ('ID', 'follower', 'ID'): 4, ('Video', 'belongs_to', 'genre'): 3},\n",
              "      metagraph=[('ID', 'Video', 'Cinema'), ('ID', 'ID', 'follower'), ('Video', 'genre', 'belongs_to')])>"
            ]
          },
          "metadata": {},
          "execution_count": 326
        }
      ]
    },
    {
      "cell_type": "markdown",
      "source": [
        "Convert a DGL graph to a cugraph.Graph and return"
      ],
      "metadata": {
        "id": "SdfVjiogdnMZ"
      }
    },
    {
      "cell_type": "code",
      "source": [
        "g.to_cugraph"
      ],
      "metadata": {
        "colab": {
          "base_uri": "https://localhost:8080/"
        },
        "id": "Vqq863v5dnRQ",
        "outputId": "6af1da4e-2458-4b01-c7d9-94494b34dabc"
      },
      "execution_count": 327,
      "outputs": [
        {
          "output_type": "execute_result",
          "data": {
            "text/plain": [
              "<bound method to_cugraph of Graph(num_nodes={'ID': 4, 'Video': 7, 'genre': 10},\n",
              "      num_edges={('ID', 'Cinema', 'Video'): 3, ('ID', 'follower', 'ID'): 4, ('Video', 'belongs_to', 'genre'): 3},\n",
              "      metagraph=[('ID', 'Video', 'Cinema'), ('ID', 'ID', 'follower'), ('Video', 'genre', 'belongs_to')])>"
            ]
          },
          "metadata": {},
          "execution_count": 327
        }
      ]
    },
    {
      "cell_type": "markdown",
      "source": [
        "Alias of dgl.reorder_graph()"
      ],
      "metadata": {
        "id": "2Lc6QKPBdna4"
      }
    },
    {
      "cell_type": "code",
      "source": [
        "g.reorder_graph"
      ],
      "metadata": {
        "colab": {
          "base_uri": "https://localhost:8080/"
        },
        "id": "QG37wOrvdmBl",
        "outputId": "7b110594-5e33-4f5b-e731-3b49cab4e3f4"
      },
      "execution_count": 328,
      "outputs": [
        {
          "output_type": "execute_result",
          "data": {
            "text/plain": [
              "<bound method reorder_graph of Graph(num_nodes={'ID': 4, 'Video': 7, 'genre': 10},\n",
              "      num_edges={('ID', 'Cinema', 'Video'): 3, ('ID', 'follower', 'ID'): 4, ('Video', 'belongs_to', 'genre'): 3},\n",
              "      metagraph=[('ID', 'Video', 'Cinema'), ('ID', 'ID', 'follower'), ('Video', 'genre', 'belongs_to')])>"
            ]
          },
          "metadata": {},
          "execution_count": 328
        }
      ]
    },
    {
      "cell_type": "markdown",
      "source": [
        "# Subgraph Extraction Ops"
      ],
      "metadata": {
        "id": "4M4NRaXzkIxM"
      }
    },
    {
      "cell_type": "markdown",
      "source": [
        "Return a subgraph induced on the given nodes.\n",
        "\n"
      ],
      "metadata": {
        "id": "ioUHBEYaksDI"
      }
    },
    {
      "cell_type": "code",
      "source": [
        "sf = dgl.node_subgraph(f, [0, 1, 1])\n",
        "sf"
      ],
      "metadata": {
        "colab": {
          "base_uri": "https://localhost:8080/"
        },
        "id": "4cFf_KZ5kJ_d",
        "outputId": "81230302-ac3a-4ae1-c2f1-31c47209947a"
      },
      "execution_count": 329,
      "outputs": [
        {
          "output_type": "execute_result",
          "data": {
            "text/plain": [
              "Graph(num_nodes=3, num_edges=0,\n",
              "      ndata_schemes={'Blue': Scheme(shape=(3,), dtype=torch.float32), 'h': Scheme(shape=(1,), dtype=torch.float32), 'h1': Scheme(shape=(1,), dtype=torch.float32), 'h2': Scheme(shape=(2,), dtype=torch.float32), '_ID': Scheme(shape=(), dtype=torch.int64)}\n",
              "      edata_schemes={'h': Scheme(shape=(1,), dtype=torch.float32), 'h1': Scheme(shape=(1,), dtype=torch.float32), 'h2': Scheme(shape=(2,), dtype=torch.float32), '_ID': Scheme(shape=(), dtype=torch.int64)})"
            ]
          },
          "metadata": {},
          "execution_count": 329
        }
      ]
    },
    {
      "cell_type": "code",
      "source": [
        "sf.edges()"
      ],
      "metadata": {
        "colab": {
          "base_uri": "https://localhost:8080/"
        },
        "id": "7ZnhU-ybkt02",
        "outputId": "e980fb71-7763-4a6b-fb01-a320659a4581"
      },
      "execution_count": 330,
      "outputs": [
        {
          "output_type": "execute_result",
          "data": {
            "text/plain": [
              "(tensor([], dtype=torch.int64), tensor([], dtype=torch.int64))"
            ]
          },
          "metadata": {},
          "execution_count": 330
        }
      ]
    },
    {
      "cell_type": "code",
      "source": [
        "sf.ndata[dgl.NID]"
      ],
      "metadata": {
        "colab": {
          "base_uri": "https://localhost:8080/"
        },
        "id": "_uoOTrf1kt2p",
        "outputId": "d0d00876-4301-4b70-f282-3cde3009ad49"
      },
      "execution_count": 331,
      "outputs": [
        {
          "output_type": "execute_result",
          "data": {
            "text/plain": [
              "tensor([0, 1, 1])"
            ]
          },
          "metadata": {},
          "execution_count": 331
        }
      ]
    },
    {
      "cell_type": "code",
      "source": [
        "sf.edata[dgl.EID]"
      ],
      "metadata": {
        "colab": {
          "base_uri": "https://localhost:8080/"
        },
        "id": "p9q0dCctkyWc",
        "outputId": "0a3e7a22-a718-49f0-b168-7f5dd8736bdc"
      },
      "execution_count": 332,
      "outputs": [
        {
          "output_type": "execute_result",
          "data": {
            "text/plain": [
              "tensor([], dtype=torch.int64)"
            ]
          },
          "metadata": {},
          "execution_count": 332
        }
      ]
    },
    {
      "cell_type": "code",
      "source": [
        "nodesf = torch.tensor([True, True, False, False])\n",
        "dgl.node_subgraph(f, nodesf)"
      ],
      "metadata": {
        "colab": {
          "base_uri": "https://localhost:8080/"
        },
        "id": "pdizhnlVk0v8",
        "outputId": "4a6df647-48ce-4194-fb64-bf859f15e50b"
      },
      "execution_count": 333,
      "outputs": [
        {
          "output_type": "execute_result",
          "data": {
            "text/plain": [
              "Graph(num_nodes=2, num_edges=0,\n",
              "      ndata_schemes={'Blue': Scheme(shape=(3,), dtype=torch.float32), 'h': Scheme(shape=(1,), dtype=torch.float32), 'h1': Scheme(shape=(1,), dtype=torch.float32), 'h2': Scheme(shape=(2,), dtype=torch.float32), '_ID': Scheme(shape=(), dtype=torch.int64)}\n",
              "      edata_schemes={'h': Scheme(shape=(1,), dtype=torch.float32), 'h1': Scheme(shape=(1,), dtype=torch.float32), 'h2': Scheme(shape=(2,), dtype=torch.float32), '_ID': Scheme(shape=(), dtype=torch.int64)})"
            ]
          },
          "metadata": {},
          "execution_count": 333
        }
      ]
    },
    {
      "cell_type": "code",
      "source": [
        "f.ndata['x'] = torch.arange(8).view(4, 2)\n",
        "sf = dgl.node_subgraph(f, [0, 1, 1])\n",
        "sf"
      ],
      "metadata": {
        "colab": {
          "base_uri": "https://localhost:8080/"
        },
        "id": "G7S3MyWIk_Eu",
        "outputId": "211964b0-5671-4e04-af22-fbc1b73fd5c4"
      },
      "execution_count": 334,
      "outputs": [
        {
          "output_type": "execute_result",
          "data": {
            "text/plain": [
              "Graph(num_nodes=3, num_edges=0,\n",
              "      ndata_schemes={'Blue': Scheme(shape=(3,), dtype=torch.float32), 'h': Scheme(shape=(1,), dtype=torch.float32), 'h1': Scheme(shape=(1,), dtype=torch.float32), 'h2': Scheme(shape=(2,), dtype=torch.float32), 'x': Scheme(shape=(2,), dtype=torch.int64), '_ID': Scheme(shape=(), dtype=torch.int64)}\n",
              "      edata_schemes={'h': Scheme(shape=(1,), dtype=torch.float32), 'h1': Scheme(shape=(1,), dtype=torch.float32), 'h2': Scheme(shape=(2,), dtype=torch.float32), '_ID': Scheme(shape=(), dtype=torch.int64)})"
            ]
          },
          "metadata": {},
          "execution_count": 334
        }
      ]
    },
    {
      "cell_type": "code",
      "source": [
        "sg = dgl.node_subgraph(g, {'ID': [1, 1]})\n",
        "sg"
      ],
      "metadata": {
        "colab": {
          "base_uri": "https://localhost:8080/"
        },
        "id": "1h9V7ypFk_G2",
        "outputId": "83434c19-c443-4823-a38d-1d364a694953"
      },
      "execution_count": 335,
      "outputs": [
        {
          "output_type": "execute_result",
          "data": {
            "text/plain": [
              "Graph(num_nodes={'ID': 2, 'Video': 0, 'genre': 0},\n",
              "      num_edges={('ID', 'Cinema', 'Video'): 0, ('ID', 'follower', 'ID'): 0, ('Video', 'belongs_to', 'genre'): 0},\n",
              "      metagraph=[('ID', 'Video', 'Cinema'), ('ID', 'ID', 'follower'), ('Video', 'genre', 'belongs_to')])"
            ]
          },
          "metadata": {},
          "execution_count": 335
        }
      ]
    },
    {
      "cell_type": "markdown",
      "source": [
        "Return a subgraph induced on the given edges."
      ],
      "metadata": {
        "id": "1vy3xyHQlZA0"
      }
    },
    {
      "cell_type": "code",
      "source": [
        "sf = dgl.edge_subgraph(f, [0, 1])\n",
        "sf"
      ],
      "metadata": {
        "colab": {
          "base_uri": "https://localhost:8080/"
        },
        "id": "UL-7iK5YlVJY",
        "outputId": "7091f4eb-5303-4a97-9a22-4e9d5d030650"
      },
      "execution_count": 336,
      "outputs": [
        {
          "output_type": "execute_result",
          "data": {
            "text/plain": [
              "Graph(num_nodes=3, num_edges=2,\n",
              "      ndata_schemes={'Blue': Scheme(shape=(3,), dtype=torch.float32), 'h': Scheme(shape=(1,), dtype=torch.float32), 'h1': Scheme(shape=(1,), dtype=torch.float32), 'h2': Scheme(shape=(2,), dtype=torch.float32), 'x': Scheme(shape=(2,), dtype=torch.int64), '_ID': Scheme(shape=(), dtype=torch.int64)}\n",
              "      edata_schemes={'h': Scheme(shape=(1,), dtype=torch.float32), 'h1': Scheme(shape=(1,), dtype=torch.float32), 'h2': Scheme(shape=(2,), dtype=torch.float32), '_ID': Scheme(shape=(), dtype=torch.int64)})"
            ]
          },
          "metadata": {},
          "execution_count": 336
        }
      ]
    },
    {
      "cell_type": "code",
      "source": [
        "sf.edges()"
      ],
      "metadata": {
        "colab": {
          "base_uri": "https://localhost:8080/"
        },
        "id": "7SCOaf6clo2V",
        "outputId": "21dac1ce-9586-4775-b02a-3f670790503f"
      },
      "execution_count": 337,
      "outputs": [
        {
          "output_type": "execute_result",
          "data": {
            "text/plain": [
              "(tensor([0, 0]), tensor([1, 2]))"
            ]
          },
          "metadata": {},
          "execution_count": 337
        }
      ]
    },
    {
      "cell_type": "code",
      "source": [
        "sf.ndata[dgl.NID]"
      ],
      "metadata": {
        "colab": {
          "base_uri": "https://localhost:8080/"
        },
        "id": "SbaSww7-luf0",
        "outputId": "9a0d45fe-d635-434b-9b9d-4deecccee47d"
      },
      "execution_count": 338,
      "outputs": [
        {
          "output_type": "execute_result",
          "data": {
            "text/plain": [
              "tensor([1, 2, 3])"
            ]
          },
          "metadata": {},
          "execution_count": 338
        }
      ]
    },
    {
      "cell_type": "code",
      "source": [
        "sf.edata[dgl.EID]"
      ],
      "metadata": {
        "colab": {
          "base_uri": "https://localhost:8080/"
        },
        "id": "2pFjKq_GlxX8",
        "outputId": "bd4be740-6c7c-4a43-814e-33fc63393d76"
      },
      "execution_count": 339,
      "outputs": [
        {
          "output_type": "execute_result",
          "data": {
            "text/plain": [
              "tensor([0, 1])"
            ]
          },
          "metadata": {},
          "execution_count": 339
        }
      ]
    },
    {
      "cell_type": "code",
      "source": [
        "nodesf = torch.tensor([True, False, False, False])\n",
        "dgl.edge_subgraph(f, nodesf)"
      ],
      "metadata": {
        "colab": {
          "base_uri": "https://localhost:8080/"
        },
        "id": "ig-1G_uElzDk",
        "outputId": "d13925f5-f7f6-410c-a50f-c645a7bcf72c"
      },
      "execution_count": 340,
      "outputs": [
        {
          "output_type": "execute_result",
          "data": {
            "text/plain": [
              "Graph(num_nodes=2, num_edges=1,\n",
              "      ndata_schemes={'Blue': Scheme(shape=(3,), dtype=torch.float32), 'h': Scheme(shape=(1,), dtype=torch.float32), 'h1': Scheme(shape=(1,), dtype=torch.float32), 'h2': Scheme(shape=(2,), dtype=torch.float32), 'x': Scheme(shape=(2,), dtype=torch.int64), '_ID': Scheme(shape=(), dtype=torch.int64)}\n",
              "      edata_schemes={'h': Scheme(shape=(1,), dtype=torch.float32), 'h1': Scheme(shape=(1,), dtype=torch.float32), 'h2': Scheme(shape=(2,), dtype=torch.float32), '_ID': Scheme(shape=(), dtype=torch.int64)})"
            ]
          },
          "metadata": {},
          "execution_count": 340
        }
      ]
    },
    {
      "cell_type": "code",
      "source": [
        "f.ndata['x'] = torch.arange(8).view(4, 2)\n",
        "sf = dgl.edge_subgraph(f, [1, 1])\n",
        "sf"
      ],
      "metadata": {
        "colab": {
          "base_uri": "https://localhost:8080/"
        },
        "id": "mbT7c9wjl64N",
        "outputId": "2897ac67-67dd-4f01-a907-b3d6b60e67e8"
      },
      "execution_count": 341,
      "outputs": [
        {
          "output_type": "execute_result",
          "data": {
            "text/plain": [
              "Graph(num_nodes=2, num_edges=2,\n",
              "      ndata_schemes={'Blue': Scheme(shape=(3,), dtype=torch.float32), 'h': Scheme(shape=(1,), dtype=torch.float32), 'h1': Scheme(shape=(1,), dtype=torch.float32), 'h2': Scheme(shape=(2,), dtype=torch.float32), 'x': Scheme(shape=(2,), dtype=torch.int64), '_ID': Scheme(shape=(), dtype=torch.int64)}\n",
              "      edata_schemes={'h': Scheme(shape=(1,), dtype=torch.float32), 'h1': Scheme(shape=(1,), dtype=torch.float32), 'h2': Scheme(shape=(2,), dtype=torch.float32), '_ID': Scheme(shape=(), dtype=torch.int64)})"
            ]
          },
          "metadata": {},
          "execution_count": 341
        }
      ]
    },
    {
      "cell_type": "code",
      "source": [
        "sf.ndata[dgl.NID]"
      ],
      "metadata": {
        "colab": {
          "base_uri": "https://localhost:8080/"
        },
        "id": "PB__CvU2mABl",
        "outputId": "e16104bc-5232-4bdd-c3f7-81d04ecd3feb"
      },
      "execution_count": 342,
      "outputs": [
        {
          "output_type": "execute_result",
          "data": {
            "text/plain": [
              "tensor([1, 3])"
            ]
          },
          "metadata": {},
          "execution_count": 342
        }
      ]
    },
    {
      "cell_type": "code",
      "source": [
        "sf.ndata['x']"
      ],
      "metadata": {
        "colab": {
          "base_uri": "https://localhost:8080/"
        },
        "id": "xA4jlf-ZmDPp",
        "outputId": "9e00f84b-b94a-4ec4-c837-6f62ba816f7c"
      },
      "execution_count": 343,
      "outputs": [
        {
          "output_type": "execute_result",
          "data": {
            "text/plain": [
              "tensor([[2, 3],\n",
              "        [6, 7]])"
            ]
          },
          "metadata": {},
          "execution_count": 343
        }
      ]
    },
    {
      "cell_type": "code",
      "source": [
        "sg = dgl.edge_subgraph(g, {('ID', 'follower', 'ID'): [0],\n",
        "                           ('ID', 'Cinema', 'Video'): [1, 2]\n",
        "                           })\n",
        "print(sg)"
      ],
      "metadata": {
        "colab": {
          "base_uri": "https://localhost:8080/"
        },
        "id": "uuu8TMtomKz1",
        "outputId": "b60f0d9a-2f51-40ef-db1f-ab39f3b4cbcf"
      },
      "execution_count": 344,
      "outputs": [
        {
          "output_type": "stream",
          "name": "stdout",
          "text": [
            "Graph(num_nodes={'ID': 3, 'Video': 2, 'genre': 0},\n",
            "      num_edges={('ID', 'Cinema', 'Video'): 2, ('ID', 'follower', 'ID'): 1, ('Video', 'belongs_to', 'genre'): 0},\n",
            "      metagraph=[('ID', 'Video', 'Cinema'), ('ID', 'ID', 'follower'), ('Video', 'genre', 'belongs_to')])\n"
          ]
        }
      ]
    },
    {
      "cell_type": "markdown",
      "source": [
        "Return the subgraph induced on given node types."
      ],
      "metadata": {
        "id": "NWEDu3fVpda-"
      }
    },
    {
      "cell_type": "code",
      "source": [
        "g.nodes['ID'].data['h'] = torch.tensor([[0.], [1.], [4.], [3.]])"
      ],
      "metadata": {
        "id": "xDswpkEamYYl"
      },
      "execution_count": 345,
      "outputs": []
    },
    {
      "cell_type": "code",
      "source": [
        "sub_g = g.node_type_subgraph(['ID'])\n",
        "print(sub_g)"
      ],
      "metadata": {
        "colab": {
          "base_uri": "https://localhost:8080/"
        },
        "id": "f2wksp3Npkwo",
        "outputId": "7357dd64-36e5-401d-b189-c19d78748432"
      },
      "execution_count": 346,
      "outputs": [
        {
          "output_type": "stream",
          "name": "stdout",
          "text": [
            "Graph(num_nodes=4, num_edges=4,\n",
            "      ndata_schemes={'h': Scheme(shape=(1,), dtype=torch.float32)}\n",
            "      edata_schemes={})\n"
          ]
        }
      ]
    },
    {
      "cell_type": "code",
      "source": [
        "sub_g.nodes['ID'].data['h']"
      ],
      "metadata": {
        "colab": {
          "base_uri": "https://localhost:8080/"
        },
        "id": "GyifwUnnpqs-",
        "outputId": "2029775c-4aeb-4c16-bd3d-7b34245159db"
      },
      "execution_count": 347,
      "outputs": [
        {
          "output_type": "execute_result",
          "data": {
            "text/plain": [
              "tensor([[0.],\n",
              "        [1.],\n",
              "        [4.],\n",
              "        [3.]])"
            ]
          },
          "metadata": {},
          "execution_count": 347
        }
      ]
    },
    {
      "cell_type": "markdown",
      "source": [
        "Return the subgraph induced on given edge types"
      ],
      "metadata": {
        "id": "PYIeIt0opvEe"
      }
    },
    {
      "cell_type": "code",
      "source": [
        "g.edges['follower'].data['h'] = torch.tensor([[0.], [1.], [4.], [3.]])"
      ],
      "metadata": {
        "id": "6YvK-gktpuPV"
      },
      "execution_count": 348,
      "outputs": []
    },
    {
      "cell_type": "code",
      "source": [
        "sub_g = g.edge_type_subgraph(['follower'])\n",
        "sub_g"
      ],
      "metadata": {
        "colab": {
          "base_uri": "https://localhost:8080/"
        },
        "id": "6Cjt6KcRp1xt",
        "outputId": "06ffc138-97d3-4f68-daf4-a22bc40eeb05"
      },
      "execution_count": 349,
      "outputs": [
        {
          "output_type": "execute_result",
          "data": {
            "text/plain": [
              "Graph(num_nodes=4, num_edges=4,\n",
              "      ndata_schemes={'h': Scheme(shape=(1,), dtype=torch.float32)}\n",
              "      edata_schemes={'h': Scheme(shape=(1,), dtype=torch.float32)})"
            ]
          },
          "metadata": {},
          "execution_count": 349
        }
      ]
    },
    {
      "cell_type": "code",
      "source": [
        "sub_g.edges['follower'].data['h']"
      ],
      "metadata": {
        "colab": {
          "base_uri": "https://localhost:8080/"
        },
        "id": "i8BVQt7Kp5tF",
        "outputId": "133284e7-6192-47b8-b6a9-2aab3f679d9c"
      },
      "execution_count": 350,
      "outputs": [
        {
          "output_type": "execute_result",
          "data": {
            "text/plain": [
              "tensor([[0.],\n",
              "        [1.],\n",
              "        [4.],\n",
              "        [3.]])"
            ]
          },
          "metadata": {},
          "execution_count": 350
        }
      ]
    },
    {
      "cell_type": "markdown",
      "source": [
        "Return the subgraph induced on the inbound edges of all the edge types of the given nodes.\n",
        "\n"
      ],
      "metadata": {
        "id": "e5nnYGFrp8ae"
      }
    },
    {
      "cell_type": "code",
      "source": [
        "f.edata['w'] = torch.arange(8).view(4, 2)"
      ],
      "metadata": {
        "id": "bIebnQiRp7sl"
      },
      "execution_count": 351,
      "outputs": []
    },
    {
      "cell_type": "code",
      "source": [
        "sf = dgl.in_subgraph(f, [2, 0])\n",
        "sf"
      ],
      "metadata": {
        "colab": {
          "base_uri": "https://localhost:8080/"
        },
        "id": "QHuPByJJqEnE",
        "outputId": "d4d6b062-2340-4e56-eec6-96c426af53b6"
      },
      "execution_count": 352,
      "outputs": [
        {
          "output_type": "execute_result",
          "data": {
            "text/plain": [
              "Graph(num_nodes=4, num_edges=1,\n",
              "      ndata_schemes={'Blue': Scheme(shape=(3,), dtype=torch.float32), 'h': Scheme(shape=(1,), dtype=torch.float32), 'h1': Scheme(shape=(1,), dtype=torch.float32), 'h2': Scheme(shape=(2,), dtype=torch.float32), 'x': Scheme(shape=(2,), dtype=torch.int64)}\n",
              "      edata_schemes={'h': Scheme(shape=(1,), dtype=torch.float32), 'h1': Scheme(shape=(1,), dtype=torch.float32), 'h2': Scheme(shape=(2,), dtype=torch.float32), 'w': Scheme(shape=(2,), dtype=torch.int64), '_ID': Scheme(shape=(), dtype=torch.int64)})"
            ]
          },
          "metadata": {},
          "execution_count": 352
        }
      ]
    },
    {
      "cell_type": "code",
      "source": [
        "sf.edges()"
      ],
      "metadata": {
        "colab": {
          "base_uri": "https://localhost:8080/"
        },
        "id": "tteCfN4oqHWs",
        "outputId": "f26bf24b-5838-4052-f612-b32711d91fe3"
      },
      "execution_count": 353,
      "outputs": [
        {
          "output_type": "execute_result",
          "data": {
            "text/plain": [
              "(tensor([1]), tensor([2]))"
            ]
          },
          "metadata": {},
          "execution_count": 353
        }
      ]
    },
    {
      "cell_type": "code",
      "source": [
        "sf.edata[dgl.EID]"
      ],
      "metadata": {
        "colab": {
          "base_uri": "https://localhost:8080/"
        },
        "id": "v5Mu7jXIqJZd",
        "outputId": "40a9cf26-c180-4b3c-a1a6-f06bc0dc2516"
      },
      "execution_count": 354,
      "outputs": [
        {
          "output_type": "execute_result",
          "data": {
            "text/plain": [
              "tensor([0])"
            ]
          },
          "metadata": {},
          "execution_count": 354
        }
      ]
    },
    {
      "cell_type": "code",
      "source": [
        "sf.edata['w']"
      ],
      "metadata": {
        "colab": {
          "base_uri": "https://localhost:8080/"
        },
        "id": "MHUfKJ5cqLDd",
        "outputId": "7c26f6a9-bc0a-497b-fead-873909f3a0f5"
      },
      "execution_count": 355,
      "outputs": [
        {
          "output_type": "execute_result",
          "data": {
            "text/plain": [
              "tensor([[0, 1]])"
            ]
          },
          "metadata": {},
          "execution_count": 355
        }
      ]
    },
    {
      "cell_type": "code",
      "source": [
        "sf = dgl.in_subgraph(f, [2, 0], relabel_nodes=True)\n",
        "sf"
      ],
      "metadata": {
        "colab": {
          "base_uri": "https://localhost:8080/"
        },
        "id": "SkzZlcoOqNN0",
        "outputId": "5593fec2-5ea0-49f2-e426-e6dcbe76b665"
      },
      "execution_count": 356,
      "outputs": [
        {
          "output_type": "execute_result",
          "data": {
            "text/plain": [
              "Graph(num_nodes=2, num_edges=1,\n",
              "      ndata_schemes={'Blue': Scheme(shape=(3,), dtype=torch.float32), 'h': Scheme(shape=(1,), dtype=torch.float32), 'h1': Scheme(shape=(1,), dtype=torch.float32), 'h2': Scheme(shape=(2,), dtype=torch.float32), 'x': Scheme(shape=(2,), dtype=torch.int64), '_ID': Scheme(shape=(), dtype=torch.int64)}\n",
              "      edata_schemes={'h': Scheme(shape=(1,), dtype=torch.float32), 'h1': Scheme(shape=(1,), dtype=torch.float32), 'h2': Scheme(shape=(2,), dtype=torch.float32), 'w': Scheme(shape=(2,), dtype=torch.int64), '_ID': Scheme(shape=(), dtype=torch.int64)})"
            ]
          },
          "metadata": {},
          "execution_count": 356
        }
      ]
    },
    {
      "cell_type": "code",
      "source": [
        "sf.edges()"
      ],
      "metadata": {
        "colab": {
          "base_uri": "https://localhost:8080/"
        },
        "id": "Jb3gpiE1qQJs",
        "outputId": "381be616-ee59-4c50-85ba-d25aa2e84056"
      },
      "execution_count": 357,
      "outputs": [
        {
          "output_type": "execute_result",
          "data": {
            "text/plain": [
              "(tensor([0]), tensor([1]))"
            ]
          },
          "metadata": {},
          "execution_count": 357
        }
      ]
    },
    {
      "cell_type": "code",
      "source": [
        "sf.edata[dgl.EID]"
      ],
      "metadata": {
        "colab": {
          "base_uri": "https://localhost:8080/"
        },
        "id": "zKtOVfcEqSD1",
        "outputId": "ffb2ac93-d499-446d-8b62-9f80cc2412ca"
      },
      "execution_count": 358,
      "outputs": [
        {
          "output_type": "execute_result",
          "data": {
            "text/plain": [
              "tensor([0])"
            ]
          },
          "metadata": {},
          "execution_count": 358
        }
      ]
    },
    {
      "cell_type": "code",
      "source": [
        "sf.ndata[dgl.NID]"
      ],
      "metadata": {
        "colab": {
          "base_uri": "https://localhost:8080/"
        },
        "id": "ynt-bZOuqYnN",
        "outputId": "d1de8a10-c63e-43a1-e0de-5a1873beb5ec"
      },
      "execution_count": 359,
      "outputs": [
        {
          "output_type": "execute_result",
          "data": {
            "text/plain": [
              "tensor([1, 2])"
            ]
          },
          "metadata": {},
          "execution_count": 359
        }
      ]
    },
    {
      "cell_type": "code",
      "source": [
        "sub_g = g.in_subgraph({'ID': [0], 'genre': [2]})\n",
        "sub_g"
      ],
      "metadata": {
        "colab": {
          "base_uri": "https://localhost:8080/"
        },
        "id": "2XfvDQmyqaKF",
        "outputId": "7c2dc58a-01f5-4fbd-e24a-d5f402a33d95"
      },
      "execution_count": 360,
      "outputs": [
        {
          "output_type": "execute_result",
          "data": {
            "text/plain": [
              "Graph(num_nodes={'ID': 4, 'Video': 7, 'genre': 10},\n",
              "      num_edges={('ID', 'Cinema', 'Video'): 0, ('ID', 'follower', 'ID'): 1, ('Video', 'belongs_to', 'genre'): 0},\n",
              "      metagraph=[('ID', 'Video', 'Cinema'), ('ID', 'ID', 'follower'), ('Video', 'genre', 'belongs_to')])"
            ]
          },
          "metadata": {},
          "execution_count": 360
        }
      ]
    },
    {
      "cell_type": "markdown",
      "source": [
        "Return the subgraph induced on the outbound edges of all the edge types of the given nodes.\n",
        "\n"
      ],
      "metadata": {
        "id": "1IfCubk1qn8u"
      }
    },
    {
      "cell_type": "code",
      "source": [
        "f.edata['w'] = torch.arange(8).view(4, 2)\n",
        "sf = dgl.out_subgraph(f, [2, 0])\n",
        "sf"
      ],
      "metadata": {
        "colab": {
          "base_uri": "https://localhost:8080/"
        },
        "id": "G8WLX16PqeAc",
        "outputId": "2267fb6c-1c00-49d6-cccb-46f3960de658"
      },
      "execution_count": 361,
      "outputs": [
        {
          "output_type": "execute_result",
          "data": {
            "text/plain": [
              "Graph(num_nodes=4, num_edges=1,\n",
              "      ndata_schemes={'Blue': Scheme(shape=(3,), dtype=torch.float32), 'h': Scheme(shape=(1,), dtype=torch.float32), 'h1': Scheme(shape=(1,), dtype=torch.float32), 'h2': Scheme(shape=(2,), dtype=torch.float32), 'x': Scheme(shape=(2,), dtype=torch.int64)}\n",
              "      edata_schemes={'h': Scheme(shape=(1,), dtype=torch.float32), 'h1': Scheme(shape=(1,), dtype=torch.float32), 'h2': Scheme(shape=(2,), dtype=torch.float32), 'w': Scheme(shape=(2,), dtype=torch.int64), '_ID': Scheme(shape=(), dtype=torch.int64)})"
            ]
          },
          "metadata": {},
          "execution_count": 361
        }
      ]
    },
    {
      "cell_type": "code",
      "source": [
        "sf.edges()"
      ],
      "metadata": {
        "colab": {
          "base_uri": "https://localhost:8080/"
        },
        "id": "3My0nOu0qvft",
        "outputId": "c0284517-606d-46b3-87b5-bee8a01c5c48"
      },
      "execution_count": 362,
      "outputs": [
        {
          "output_type": "execute_result",
          "data": {
            "text/plain": [
              "(tensor([0]), tensor([3]))"
            ]
          },
          "metadata": {},
          "execution_count": 362
        }
      ]
    },
    {
      "cell_type": "code",
      "source": [
        "sf.edata[dgl.EID]"
      ],
      "metadata": {
        "colab": {
          "base_uri": "https://localhost:8080/"
        },
        "id": "TCfDYMXDqyHV",
        "outputId": "088153b3-e2cc-4e49-a639-7b5659eb2ada"
      },
      "execution_count": 363,
      "outputs": [
        {
          "output_type": "execute_result",
          "data": {
            "text/plain": [
              "tensor([2])"
            ]
          },
          "metadata": {},
          "execution_count": 363
        }
      ]
    },
    {
      "cell_type": "code",
      "source": [
        "sf.edata['w']"
      ],
      "metadata": {
        "colab": {
          "base_uri": "https://localhost:8080/"
        },
        "id": "fST6eFjAqzlV",
        "outputId": "3bbb50c5-f39f-4937-c851-89ff9fa82f96"
      },
      "execution_count": 364,
      "outputs": [
        {
          "output_type": "execute_result",
          "data": {
            "text/plain": [
              "tensor([[4, 5]])"
            ]
          },
          "metadata": {},
          "execution_count": 364
        }
      ]
    },
    {
      "cell_type": "code",
      "source": [
        "sf = dgl.out_subgraph(f, [2, 0], relabel_nodes=True)\n",
        "sf"
      ],
      "metadata": {
        "colab": {
          "base_uri": "https://localhost:8080/"
        },
        "id": "V58WJrY1q03N",
        "outputId": "15fc5d7f-6347-4db5-90e9-ecb9e96bd14a"
      },
      "execution_count": 365,
      "outputs": [
        {
          "output_type": "execute_result",
          "data": {
            "text/plain": [
              "Graph(num_nodes=2, num_edges=1,\n",
              "      ndata_schemes={'Blue': Scheme(shape=(3,), dtype=torch.float32), 'h': Scheme(shape=(1,), dtype=torch.float32), 'h1': Scheme(shape=(1,), dtype=torch.float32), 'h2': Scheme(shape=(2,), dtype=torch.float32), 'x': Scheme(shape=(2,), dtype=torch.int64), '_ID': Scheme(shape=(), dtype=torch.int64)}\n",
              "      edata_schemes={'h': Scheme(shape=(1,), dtype=torch.float32), 'h1': Scheme(shape=(1,), dtype=torch.float32), 'h2': Scheme(shape=(2,), dtype=torch.float32), 'w': Scheme(shape=(2,), dtype=torch.int64), '_ID': Scheme(shape=(), dtype=torch.int64)})"
            ]
          },
          "metadata": {},
          "execution_count": 365
        }
      ]
    },
    {
      "cell_type": "code",
      "source": [
        "sf = dgl.out_subgraph(f, [2, 0], relabel_nodes=True)\n",
        "sf"
      ],
      "metadata": {
        "colab": {
          "base_uri": "https://localhost:8080/"
        },
        "id": "-jn2PPXaq_Jl",
        "outputId": "31755d3b-ecb1-4d34-e41f-f49c563ddc68"
      },
      "execution_count": 366,
      "outputs": [
        {
          "output_type": "execute_result",
          "data": {
            "text/plain": [
              "Graph(num_nodes=2, num_edges=1,\n",
              "      ndata_schemes={'Blue': Scheme(shape=(3,), dtype=torch.float32), 'h': Scheme(shape=(1,), dtype=torch.float32), 'h1': Scheme(shape=(1,), dtype=torch.float32), 'h2': Scheme(shape=(2,), dtype=torch.float32), 'x': Scheme(shape=(2,), dtype=torch.int64), '_ID': Scheme(shape=(), dtype=torch.int64)}\n",
              "      edata_schemes={'h': Scheme(shape=(1,), dtype=torch.float32), 'h1': Scheme(shape=(1,), dtype=torch.float32), 'h2': Scheme(shape=(2,), dtype=torch.float32), 'w': Scheme(shape=(2,), dtype=torch.int64), '_ID': Scheme(shape=(), dtype=torch.int64)})"
            ]
          },
          "metadata": {},
          "execution_count": 366
        }
      ]
    },
    {
      "cell_type": "code",
      "source": [
        "sf.edges()"
      ],
      "metadata": {
        "colab": {
          "base_uri": "https://localhost:8080/"
        },
        "id": "QbU11_uyrEZQ",
        "outputId": "131e967d-3c18-4e4b-ff71-11dabbda2a9c"
      },
      "execution_count": 367,
      "outputs": [
        {
          "output_type": "execute_result",
          "data": {
            "text/plain": [
              "(tensor([0]), tensor([1]))"
            ]
          },
          "metadata": {},
          "execution_count": 367
        }
      ]
    },
    {
      "cell_type": "code",
      "source": [
        "sf.edata[dgl.EID]"
      ],
      "metadata": {
        "colab": {
          "base_uri": "https://localhost:8080/"
        },
        "id": "Vc-WI0vrrEci",
        "outputId": "683dcd55-f431-46ef-b26c-053d6e0cbab5"
      },
      "execution_count": 368,
      "outputs": [
        {
          "output_type": "execute_result",
          "data": {
            "text/plain": [
              "tensor([2])"
            ]
          },
          "metadata": {},
          "execution_count": 368
        }
      ]
    },
    {
      "cell_type": "code",
      "source": [
        "sf.ndata[dgl.NID]"
      ],
      "metadata": {
        "colab": {
          "base_uri": "https://localhost:8080/"
        },
        "id": "sbiZ94qSrEey",
        "outputId": "d0a7dc9f-b041-41ec-b8ab-36a41d11b794"
      },
      "execution_count": 369,
      "outputs": [
        {
          "output_type": "execute_result",
          "data": {
            "text/plain": [
              "tensor([0, 3])"
            ]
          },
          "metadata": {},
          "execution_count": 369
        }
      ]
    },
    {
      "cell_type": "code",
      "source": [
        "sg = g.out_subgraph({'ID': [1]})\n",
        "sg"
      ],
      "metadata": {
        "colab": {
          "base_uri": "https://localhost:8080/"
        },
        "id": "tgmY0hbKrEgE",
        "outputId": "f9f8214a-f83e-425e-e6dd-dc7f5f4fd5f0"
      },
      "execution_count": 370,
      "outputs": [
        {
          "output_type": "execute_result",
          "data": {
            "text/plain": [
              "Graph(num_nodes={'ID': 4, 'Video': 7, 'genre': 10},\n",
              "      num_edges={('ID', 'Cinema', 'Video'): 1, ('ID', 'follower', 'ID'): 2, ('Video', 'belongs_to', 'genre'): 0},\n",
              "      metagraph=[('ID', 'Video', 'Cinema'), ('ID', 'ID', 'follower'), ('Video', 'genre', 'belongs_to')])"
            ]
          },
          "metadata": {},
          "execution_count": 370
        }
      ]
    },
    {
      "cell_type": "markdown",
      "source": [
        "Return the subgraph induced by k-hop in-neighborhood of the specified node(s)"
      ],
      "metadata": {
        "id": "7VZa8eYUrPwo"
      }
    },
    {
      "cell_type": "code",
      "source": [
        "f.edata['w'] = torch.arange(8).view(4, 2)\n",
        "sf, inverse_indices = dgl.khop_in_subgraph(f, 0, k=2)\n",
        "sf"
      ],
      "metadata": {
        "colab": {
          "base_uri": "https://localhost:8080/"
        },
        "id": "G1H_tLADrRKd",
        "outputId": "3abad3f2-f5d1-40c4-f3f5-3a40d88a4e20"
      },
      "execution_count": 371,
      "outputs": [
        {
          "output_type": "execute_result",
          "data": {
            "text/plain": [
              "Graph(num_nodes=1, num_edges=0,\n",
              "      ndata_schemes={'Blue': Scheme(shape=(3,), dtype=torch.float32), 'h': Scheme(shape=(1,), dtype=torch.float32), 'h1': Scheme(shape=(1,), dtype=torch.float32), 'h2': Scheme(shape=(2,), dtype=torch.float32), 'x': Scheme(shape=(2,), dtype=torch.int64), '_ID': Scheme(shape=(), dtype=torch.int64)}\n",
              "      edata_schemes={'h': Scheme(shape=(1,), dtype=torch.float32), 'h1': Scheme(shape=(1,), dtype=torch.float32), 'h2': Scheme(shape=(2,), dtype=torch.float32), 'w': Scheme(shape=(2,), dtype=torch.int64), '_ID': Scheme(shape=(), dtype=torch.int64)})"
            ]
          },
          "metadata": {},
          "execution_count": 371
        }
      ]
    },
    {
      "cell_type": "code",
      "source": [
        "sf.edges()"
      ],
      "metadata": {
        "colab": {
          "base_uri": "https://localhost:8080/"
        },
        "id": "IofB6bUDrZwA",
        "outputId": "8905aa4b-cb90-440b-dc85-d28019993f6c"
      },
      "execution_count": 372,
      "outputs": [
        {
          "output_type": "execute_result",
          "data": {
            "text/plain": [
              "(tensor([], dtype=torch.int64), tensor([], dtype=torch.int64))"
            ]
          },
          "metadata": {},
          "execution_count": 372
        }
      ]
    },
    {
      "cell_type": "code",
      "source": [
        "sf.edata[dgl.EID]  # original edge IDs"
      ],
      "metadata": {
        "colab": {
          "base_uri": "https://localhost:8080/"
        },
        "id": "peJA_QNlrarP",
        "outputId": "8951a5dc-ad53-4dfc-ac70-aa4be4bb57ef"
      },
      "execution_count": 373,
      "outputs": [
        {
          "output_type": "execute_result",
          "data": {
            "text/plain": [
              "tensor([], dtype=torch.int64)"
            ]
          },
          "metadata": {},
          "execution_count": 373
        }
      ]
    },
    {
      "cell_type": "code",
      "source": [
        "sf.edata['w']  # also extract the features"
      ],
      "metadata": {
        "colab": {
          "base_uri": "https://localhost:8080/"
        },
        "id": "OhmNeZQ5rbh3",
        "outputId": "de270263-66fb-426d-9f59-2423fe42a743"
      },
      "execution_count": 374,
      "outputs": [
        {
          "output_type": "execute_result",
          "data": {
            "text/plain": [
              "tensor([], size=(0, 2), dtype=torch.int64)"
            ]
          },
          "metadata": {},
          "execution_count": 374
        }
      ]
    },
    {
      "cell_type": "code",
      "source": [
        "inverse_indices"
      ],
      "metadata": {
        "colab": {
          "base_uri": "https://localhost:8080/"
        },
        "id": "EDb8sjperdVg",
        "outputId": "9012f66a-c50a-4ec4-cb58-187ef51dbe06"
      },
      "execution_count": 375,
      "outputs": [
        {
          "output_type": "execute_result",
          "data": {
            "text/plain": [
              "tensor([0])"
            ]
          },
          "metadata": {},
          "execution_count": 375
        }
      ]
    },
    {
      "cell_type": "code",
      "source": [
        "sg, inverse_indices = dgl.khop_in_subgraph(g, {'ID': 0}, k=2)\n",
        "sg"
      ],
      "metadata": {
        "colab": {
          "base_uri": "https://localhost:8080/"
        },
        "id": "3K6wpxAarqWS",
        "outputId": "b7421bb4-770c-4e6e-cac2-d136e498ce05"
      },
      "execution_count": 376,
      "outputs": [
        {
          "output_type": "execute_result",
          "data": {
            "text/plain": [
              "Graph(num_nodes={'ID': 3, 'Video': 0, 'genre': 0},\n",
              "      num_edges={('ID', 'Cinema', 'Video'): 0, ('ID', 'follower', 'ID'): 3, ('Video', 'belongs_to', 'genre'): 0},\n",
              "      metagraph=[('ID', 'Video', 'Cinema'), ('ID', 'ID', 'follower'), ('Video', 'genre', 'belongs_to')])"
            ]
          },
          "metadata": {},
          "execution_count": 376
        }
      ]
    },
    {
      "cell_type": "markdown",
      "source": [
        "Return the subgraph induced by k-hop out-neighborhood of the specified node(s)"
      ],
      "metadata": {
        "id": "Ascrj5fzrt1f"
      }
    },
    {
      "cell_type": "code",
      "source": [
        "f.edata['w'] = torch.arange(8).view(4, 2)\n",
        "sf, inverse_indices = dgl.khop_out_subgraph(f, 0, k=2)\n",
        "sf"
      ],
      "metadata": {
        "colab": {
          "base_uri": "https://localhost:8080/"
        },
        "id": "Zq-1KX7orvhd",
        "outputId": "a9270e6c-71bc-4ec1-f92f-70353163209e"
      },
      "execution_count": 377,
      "outputs": [
        {
          "output_type": "execute_result",
          "data": {
            "text/plain": [
              "Graph(num_nodes=3, num_edges=3,\n",
              "      ndata_schemes={'Blue': Scheme(shape=(3,), dtype=torch.float32), 'h': Scheme(shape=(1,), dtype=torch.float32), 'h1': Scheme(shape=(1,), dtype=torch.float32), 'h2': Scheme(shape=(2,), dtype=torch.float32), 'x': Scheme(shape=(2,), dtype=torch.int64), '_ID': Scheme(shape=(), dtype=torch.int64)}\n",
              "      edata_schemes={'h': Scheme(shape=(1,), dtype=torch.float32), 'h1': Scheme(shape=(1,), dtype=torch.float32), 'h2': Scheme(shape=(2,), dtype=torch.float32), 'w': Scheme(shape=(2,), dtype=torch.int64), '_ID': Scheme(shape=(), dtype=torch.int64)})"
            ]
          },
          "metadata": {},
          "execution_count": 377
        }
      ]
    },
    {
      "cell_type": "code",
      "source": [
        "sf.edges()"
      ],
      "metadata": {
        "colab": {
          "base_uri": "https://localhost:8080/"
        },
        "id": "Rt2nsBehr4VV",
        "outputId": "5022a923-adf6-4ead-bad0-79250ea83157"
      },
      "execution_count": 378,
      "outputs": [
        {
          "output_type": "execute_result",
          "data": {
            "text/plain": [
              "(tensor([0, 1, 2]), tensor([2, 2, 1]))"
            ]
          },
          "metadata": {},
          "execution_count": 378
        }
      ]
    },
    {
      "cell_type": "code",
      "source": [
        "sf.edata[dgl.EID]"
      ],
      "metadata": {
        "colab": {
          "base_uri": "https://localhost:8080/"
        },
        "id": "GTCzjDZir9Yv",
        "outputId": "4dd0ac0e-a1f0-4965-ea89-7efe49dd91ce"
      },
      "execution_count": 379,
      "outputs": [
        {
          "output_type": "execute_result",
          "data": {
            "text/plain": [
              "tensor([2, 1, 3])"
            ]
          },
          "metadata": {},
          "execution_count": 379
        }
      ]
    },
    {
      "cell_type": "code",
      "source": [
        "sf.edata['w']"
      ],
      "metadata": {
        "colab": {
          "base_uri": "https://localhost:8080/"
        },
        "id": "v5l6CndYr9bJ",
        "outputId": "1c3d51bc-f325-4027-a988-7bf530661a82"
      },
      "execution_count": 380,
      "outputs": [
        {
          "output_type": "execute_result",
          "data": {
            "text/plain": [
              "tensor([[4, 5],\n",
              "        [2, 3],\n",
              "        [6, 7]])"
            ]
          },
          "metadata": {},
          "execution_count": 380
        }
      ]
    },
    {
      "cell_type": "code",
      "source": [
        "inverse_indices"
      ],
      "metadata": {
        "colab": {
          "base_uri": "https://localhost:8080/"
        },
        "id": "NZtkVncYsARu",
        "outputId": "6df33a9c-d4db-40f7-d611-bf02c7d6b2c7"
      },
      "execution_count": 381,
      "outputs": [
        {
          "output_type": "execute_result",
          "data": {
            "text/plain": [
              "tensor([0])"
            ]
          },
          "metadata": {},
          "execution_count": 381
        }
      ]
    },
    {
      "cell_type": "code",
      "source": [
        "sg, inverse_indices = dgl.khop_out_subgraph(g, {'ID': 0}, k=2)\n",
        "sg"
      ],
      "metadata": {
        "colab": {
          "base_uri": "https://localhost:8080/"
        },
        "id": "CSlorAnEsDlB",
        "outputId": "481643d6-a174-43f2-bcb1-9c935e0543ed"
      },
      "execution_count": 382,
      "outputs": [
        {
          "output_type": "execute_result",
          "data": {
            "text/plain": [
              "Graph(num_nodes={'ID': 4, 'Video': 1, 'genre': 0},\n",
              "      num_edges={('ID', 'Cinema', 'Video'): 1, ('ID', 'follower', 'ID'): 4, ('Video', 'belongs_to', 'genre'): 0},\n",
              "      metagraph=[('ID', 'Video', 'Cinema'), ('ID', 'ID', 'follower'), ('Video', 'genre', 'belongs_to')])"
            ]
          },
          "metadata": {},
          "execution_count": 382
        }
      ]
    },
    {
      "cell_type": "markdown",
      "source": [
        "# Save & Load"
      ],
      "metadata": {
        "id": "2cbPQJ0k5tIf"
      }
    },
    {
      "cell_type": "code",
      "source": [
        "from dgl.data.utils import save_graphs\n",
        "graph_labels = {\"glabel\": torch.tensor([0, 1, 2, 3])}\n",
        "save_graphs(\"./data.bin\", [g, f, b, n], graph_labels)"
      ],
      "metadata": {
        "id": "bpu3T3TtsYm4"
      },
      "execution_count": 383,
      "outputs": []
    },
    {
      "cell_type": "code",
      "source": [
        "from dgl.data.utils import load_graphs\n",
        "glist, label_dict = load_graphs(\"./data.bin\")\n",
        "glist, label_dict = load_graphs(\"./data.bin\", [0])"
      ],
      "metadata": {
        "id": "MOk7AknWsYo8"
      },
      "execution_count": 384,
      "outputs": []
    }
  ]
}